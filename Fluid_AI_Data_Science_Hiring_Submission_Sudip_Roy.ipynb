{
  "nbformat": 4,
  "nbformat_minor": 0,
  "metadata": {
    "colab": {
      "name": "Fluid AI - Data Science Hiring - Submission - Sudip Roy.ipynb",
      "provenance": [],
      "collapsed_sections": [],
      "include_colab_link": true
    },
    "kernelspec": {
      "display_name": "Python 3",
      "name": "python3"
    },
    "language_info": {
      "name": "python"
    }
  },
  "cells": [
    {
      "cell_type": "markdown",
      "metadata": {
        "id": "view-in-github",
        "colab_type": "text"
      },
      "source": [
        "<a href=\"https://colab.research.google.com/github/rsudiplive/FluidAI-Data-Science-Hiring-Challenge_Loan-Default-Default-Prediction/blob/main/Fluid_AI_Data_Science_Hiring_Submission_Sudip_Roy.ipynb\" target=\"_parent\"><img src=\"https://colab.research.google.com/assets/colab-badge.svg\" alt=\"Open In Colab\"/></a>"
      ]
    },
    {
      "cell_type": "markdown",
      "metadata": {
        "id": "wES38fkImI6J"
      },
      "source": [
        "The task is simple. We have data of a banks loan customers. Your task is to build a model which will be able to accurately identify which customers will default based on the customers data.\n",
        "\n",
        "In this case the below table has a column called **TARGET**. Thats the variable which tells you if the customer defaulted or not. 1 means defaulter and 0 means non-defaulter."
      ]
    },
    {
      "cell_type": "markdown",
      "metadata": {
        "id": "vyNxjXCEmHcP"
      },
      "source": [
        "Importing the soldiers in the battle!"
      ]
    },
    {
      "cell_type": "code",
      "metadata": {
        "id": "QDtObinBmLyA"
      },
      "source": [
        "import pandas as pd\n",
        "import numpy as np\n",
        "import matplotlib.pyplot as plt\n",
        "import seaborn as sns\n",
        "import lightgbm as lgb\n",
        "from scipy import stats\n",
        "from sklearn.ensemble import RandomForestClassifier\n",
        "from sklearn.linear_model import LogisticRegression\n",
        "from sklearn.preprocessing import MinMaxScaler, LabelEncoder, StandardScaler\n",
        "from sklearn.model_selection import train_test_split\n",
        "from sklearn.metrics import accuracy_score,classification_report,roc_curve, roc_auc_score, confusion_matrix"
      ],
      "execution_count": null,
      "outputs": []
    },
    {
      "cell_type": "code",
      "metadata": {
        "id": "kU_tFMrNmRMj"
      },
      "source": [
        "url = \"https://fluidai-public-share.s3.ap-south-1.amazonaws.com/data_set_short.csv\"\n",
        "df = pd.read_csv(url)"
      ],
      "execution_count": null,
      "outputs": []
    },
    {
      "cell_type": "code",
      "metadata": {
        "colab": {
          "base_uri": "https://localhost:8080/",
          "height": 324
        },
        "id": "7KDK7MrwmUMv",
        "outputId": "5973917d-301b-4a8b-9a19-e5f10ce23790"
      },
      "source": [
        "df.head()"
      ],
      "execution_count": null,
      "outputs": [
        {
          "output_type": "execute_result",
          "data": {
            "text/html": [
              "<div>\n",
              "<style scoped>\n",
              "    .dataframe tbody tr th:only-of-type {\n",
              "        vertical-align: middle;\n",
              "    }\n",
              "\n",
              "    .dataframe tbody tr th {\n",
              "        vertical-align: top;\n",
              "    }\n",
              "\n",
              "    .dataframe thead th {\n",
              "        text-align: right;\n",
              "    }\n",
              "</style>\n",
              "<table border=\"1\" class=\"dataframe\">\n",
              "  <thead>\n",
              "    <tr style=\"text-align: right;\">\n",
              "      <th></th>\n",
              "      <th>SK_ID_CURR</th>\n",
              "      <th>TARGET</th>\n",
              "      <th>NAME_CONTRACT_TYPE</th>\n",
              "      <th>CODE_GENDER</th>\n",
              "      <th>FLAG_OWN_CAR</th>\n",
              "      <th>FLAG_OWN_REALTY</th>\n",
              "      <th>CNT_CHILDREN</th>\n",
              "      <th>AMT_INCOME_TOTAL</th>\n",
              "      <th>AMT_CREDIT</th>\n",
              "      <th>AMT_ANNUITY</th>\n",
              "      <th>AMT_GOODS_PRICE</th>\n",
              "      <th>NAME_TYPE_SUITE</th>\n",
              "      <th>NAME_INCOME_TYPE</th>\n",
              "      <th>NAME_EDUCATION_TYPE</th>\n",
              "      <th>NAME_FAMILY_STATUS</th>\n",
              "      <th>NAME_HOUSING_TYPE</th>\n",
              "      <th>REGION_POPULATION_RELATIVE</th>\n",
              "      <th>DAYS_BIRTH</th>\n",
              "      <th>DAYS_EMPLOYED</th>\n",
              "      <th>DAYS_REGISTRATION</th>\n",
              "      <th>DAYS_ID_PUBLISH</th>\n",
              "      <th>OWN_CAR_AGE</th>\n",
              "      <th>FLAG_MOBIL</th>\n",
              "      <th>FLAG_EMP_PHONE</th>\n",
              "      <th>FLAG_WORK_PHONE</th>\n",
              "      <th>FLAG_CONT_MOBILE</th>\n",
              "      <th>FLAG_PHONE</th>\n",
              "      <th>FLAG_EMAIL</th>\n",
              "      <th>OCCUPATION_TYPE</th>\n",
              "      <th>CNT_FAM_MEMBERS</th>\n",
              "      <th>REGION_RATING_CLIENT</th>\n",
              "      <th>REGION_RATING_CLIENT_W_CITY</th>\n",
              "      <th>WEEKDAY_APPR_PROCESS_START</th>\n",
              "      <th>HOUR_APPR_PROCESS_START</th>\n",
              "      <th>REG_REGION_NOT_LIVE_REGION</th>\n",
              "      <th>REG_REGION_NOT_WORK_REGION</th>\n",
              "      <th>LIVE_REGION_NOT_WORK_REGION</th>\n",
              "      <th>REG_CITY_NOT_LIVE_CITY</th>\n",
              "      <th>REG_CITY_NOT_WORK_CITY</th>\n",
              "      <th>LIVE_CITY_NOT_WORK_CITY</th>\n",
              "      <th>...</th>\n",
              "      <th>LIVINGAPARTMENTS_MEDI</th>\n",
              "      <th>LIVINGAREA_MEDI</th>\n",
              "      <th>NONLIVINGAPARTMENTS_MEDI</th>\n",
              "      <th>NONLIVINGAREA_MEDI</th>\n",
              "      <th>FONDKAPREMONT_MODE</th>\n",
              "      <th>HOUSETYPE_MODE</th>\n",
              "      <th>TOTALAREA_MODE</th>\n",
              "      <th>WALLSMATERIAL_MODE</th>\n",
              "      <th>EMERGENCYSTATE_MODE</th>\n",
              "      <th>OBS_30_CNT_SOCIAL_CIRCLE</th>\n",
              "      <th>DEF_30_CNT_SOCIAL_CIRCLE</th>\n",
              "      <th>OBS_60_CNT_SOCIAL_CIRCLE</th>\n",
              "      <th>DEF_60_CNT_SOCIAL_CIRCLE</th>\n",
              "      <th>DAYS_LAST_PHONE_CHANGE</th>\n",
              "      <th>FLAG_DOCUMENT_2</th>\n",
              "      <th>FLAG_DOCUMENT_3</th>\n",
              "      <th>FLAG_DOCUMENT_4</th>\n",
              "      <th>FLAG_DOCUMENT_5</th>\n",
              "      <th>FLAG_DOCUMENT_6</th>\n",
              "      <th>FLAG_DOCUMENT_7</th>\n",
              "      <th>FLAG_DOCUMENT_8</th>\n",
              "      <th>FLAG_DOCUMENT_9</th>\n",
              "      <th>FLAG_DOCUMENT_10</th>\n",
              "      <th>FLAG_DOCUMENT_11</th>\n",
              "      <th>FLAG_DOCUMENT_12</th>\n",
              "      <th>FLAG_DOCUMENT_13</th>\n",
              "      <th>FLAG_DOCUMENT_14</th>\n",
              "      <th>FLAG_DOCUMENT_15</th>\n",
              "      <th>FLAG_DOCUMENT_16</th>\n",
              "      <th>FLAG_DOCUMENT_17</th>\n",
              "      <th>FLAG_DOCUMENT_18</th>\n",
              "      <th>FLAG_DOCUMENT_19</th>\n",
              "      <th>FLAG_DOCUMENT_20</th>\n",
              "      <th>FLAG_DOCUMENT_21</th>\n",
              "      <th>AMT_REQ_CREDIT_BUREAU_HOUR</th>\n",
              "      <th>AMT_REQ_CREDIT_BUREAU_DAY</th>\n",
              "      <th>AMT_REQ_CREDIT_BUREAU_WEEK</th>\n",
              "      <th>AMT_REQ_CREDIT_BUREAU_MON</th>\n",
              "      <th>AMT_REQ_CREDIT_BUREAU_QRT</th>\n",
              "      <th>AMT_REQ_CREDIT_BUREAU_YEAR</th>\n",
              "    </tr>\n",
              "  </thead>\n",
              "  <tbody>\n",
              "    <tr>\n",
              "      <th>0</th>\n",
              "      <td>100002</td>\n",
              "      <td>1</td>\n",
              "      <td>Cash loans</td>\n",
              "      <td>M</td>\n",
              "      <td>N</td>\n",
              "      <td>Y</td>\n",
              "      <td>0</td>\n",
              "      <td>202500.0</td>\n",
              "      <td>406597.5</td>\n",
              "      <td>24700.5</td>\n",
              "      <td>351000.0</td>\n",
              "      <td>Unaccompanied</td>\n",
              "      <td>Working</td>\n",
              "      <td>Secondary / secondary special</td>\n",
              "      <td>Single / not married</td>\n",
              "      <td>House / apartment</td>\n",
              "      <td>0.018801</td>\n",
              "      <td>-9461</td>\n",
              "      <td>-637</td>\n",
              "      <td>-3648</td>\n",
              "      <td>-2120</td>\n",
              "      <td>NaN</td>\n",
              "      <td>1</td>\n",
              "      <td>1</td>\n",
              "      <td>0</td>\n",
              "      <td>1</td>\n",
              "      <td>1</td>\n",
              "      <td>0</td>\n",
              "      <td>Laborers</td>\n",
              "      <td>1.0</td>\n",
              "      <td>2</td>\n",
              "      <td>2</td>\n",
              "      <td>WEDNESDAY</td>\n",
              "      <td>10</td>\n",
              "      <td>0</td>\n",
              "      <td>0</td>\n",
              "      <td>0</td>\n",
              "      <td>0</td>\n",
              "      <td>0</td>\n",
              "      <td>0</td>\n",
              "      <td>...</td>\n",
              "      <td>0.0205</td>\n",
              "      <td>0.0193</td>\n",
              "      <td>0.0000</td>\n",
              "      <td>0.00</td>\n",
              "      <td>reg oper account</td>\n",
              "      <td>block of flats</td>\n",
              "      <td>0.0149</td>\n",
              "      <td>Stone, brick</td>\n",
              "      <td>No</td>\n",
              "      <td>2.0</td>\n",
              "      <td>2.0</td>\n",
              "      <td>2.0</td>\n",
              "      <td>2.0</td>\n",
              "      <td>-1134.0</td>\n",
              "      <td>0</td>\n",
              "      <td>1</td>\n",
              "      <td>0</td>\n",
              "      <td>0</td>\n",
              "      <td>0</td>\n",
              "      <td>0</td>\n",
              "      <td>0</td>\n",
              "      <td>0</td>\n",
              "      <td>0</td>\n",
              "      <td>0</td>\n",
              "      <td>0</td>\n",
              "      <td>0</td>\n",
              "      <td>0</td>\n",
              "      <td>0</td>\n",
              "      <td>0</td>\n",
              "      <td>0</td>\n",
              "      <td>0</td>\n",
              "      <td>0</td>\n",
              "      <td>0</td>\n",
              "      <td>0</td>\n",
              "      <td>0.0</td>\n",
              "      <td>0.0</td>\n",
              "      <td>0.0</td>\n",
              "      <td>0.0</td>\n",
              "      <td>0.0</td>\n",
              "      <td>1.0</td>\n",
              "    </tr>\n",
              "    <tr>\n",
              "      <th>1</th>\n",
              "      <td>100003</td>\n",
              "      <td>0</td>\n",
              "      <td>Cash loans</td>\n",
              "      <td>F</td>\n",
              "      <td>N</td>\n",
              "      <td>N</td>\n",
              "      <td>0</td>\n",
              "      <td>270000.0</td>\n",
              "      <td>1293502.5</td>\n",
              "      <td>35698.5</td>\n",
              "      <td>1129500.0</td>\n",
              "      <td>Family</td>\n",
              "      <td>State servant</td>\n",
              "      <td>Higher education</td>\n",
              "      <td>Married</td>\n",
              "      <td>House / apartment</td>\n",
              "      <td>0.003541</td>\n",
              "      <td>-16765</td>\n",
              "      <td>-1188</td>\n",
              "      <td>-1186</td>\n",
              "      <td>-291</td>\n",
              "      <td>NaN</td>\n",
              "      <td>1</td>\n",
              "      <td>1</td>\n",
              "      <td>0</td>\n",
              "      <td>1</td>\n",
              "      <td>1</td>\n",
              "      <td>0</td>\n",
              "      <td>Core staff</td>\n",
              "      <td>2.0</td>\n",
              "      <td>1</td>\n",
              "      <td>1</td>\n",
              "      <td>MONDAY</td>\n",
              "      <td>11</td>\n",
              "      <td>0</td>\n",
              "      <td>0</td>\n",
              "      <td>0</td>\n",
              "      <td>0</td>\n",
              "      <td>0</td>\n",
              "      <td>0</td>\n",
              "      <td>...</td>\n",
              "      <td>0.0787</td>\n",
              "      <td>0.0558</td>\n",
              "      <td>0.0039</td>\n",
              "      <td>0.01</td>\n",
              "      <td>reg oper account</td>\n",
              "      <td>block of flats</td>\n",
              "      <td>0.0714</td>\n",
              "      <td>Block</td>\n",
              "      <td>No</td>\n",
              "      <td>1.0</td>\n",
              "      <td>0.0</td>\n",
              "      <td>1.0</td>\n",
              "      <td>0.0</td>\n",
              "      <td>-828.0</td>\n",
              "      <td>0</td>\n",
              "      <td>1</td>\n",
              "      <td>0</td>\n",
              "      <td>0</td>\n",
              "      <td>0</td>\n",
              "      <td>0</td>\n",
              "      <td>0</td>\n",
              "      <td>0</td>\n",
              "      <td>0</td>\n",
              "      <td>0</td>\n",
              "      <td>0</td>\n",
              "      <td>0</td>\n",
              "      <td>0</td>\n",
              "      <td>0</td>\n",
              "      <td>0</td>\n",
              "      <td>0</td>\n",
              "      <td>0</td>\n",
              "      <td>0</td>\n",
              "      <td>0</td>\n",
              "      <td>0</td>\n",
              "      <td>0.0</td>\n",
              "      <td>0.0</td>\n",
              "      <td>0.0</td>\n",
              "      <td>0.0</td>\n",
              "      <td>0.0</td>\n",
              "      <td>0.0</td>\n",
              "    </tr>\n",
              "    <tr>\n",
              "      <th>2</th>\n",
              "      <td>100004</td>\n",
              "      <td>0</td>\n",
              "      <td>Revolving loans</td>\n",
              "      <td>M</td>\n",
              "      <td>Y</td>\n",
              "      <td>Y</td>\n",
              "      <td>0</td>\n",
              "      <td>67500.0</td>\n",
              "      <td>135000.0</td>\n",
              "      <td>6750.0</td>\n",
              "      <td>135000.0</td>\n",
              "      <td>Unaccompanied</td>\n",
              "      <td>Working</td>\n",
              "      <td>Secondary / secondary special</td>\n",
              "      <td>Single / not married</td>\n",
              "      <td>House / apartment</td>\n",
              "      <td>0.010032</td>\n",
              "      <td>-19046</td>\n",
              "      <td>-225</td>\n",
              "      <td>-4260</td>\n",
              "      <td>-2531</td>\n",
              "      <td>26.0</td>\n",
              "      <td>1</td>\n",
              "      <td>1</td>\n",
              "      <td>1</td>\n",
              "      <td>1</td>\n",
              "      <td>1</td>\n",
              "      <td>0</td>\n",
              "      <td>Laborers</td>\n",
              "      <td>1.0</td>\n",
              "      <td>2</td>\n",
              "      <td>2</td>\n",
              "      <td>MONDAY</td>\n",
              "      <td>9</td>\n",
              "      <td>0</td>\n",
              "      <td>0</td>\n",
              "      <td>0</td>\n",
              "      <td>0</td>\n",
              "      <td>0</td>\n",
              "      <td>0</td>\n",
              "      <td>...</td>\n",
              "      <td>NaN</td>\n",
              "      <td>NaN</td>\n",
              "      <td>NaN</td>\n",
              "      <td>NaN</td>\n",
              "      <td>NaN</td>\n",
              "      <td>NaN</td>\n",
              "      <td>NaN</td>\n",
              "      <td>NaN</td>\n",
              "      <td>NaN</td>\n",
              "      <td>0.0</td>\n",
              "      <td>0.0</td>\n",
              "      <td>0.0</td>\n",
              "      <td>0.0</td>\n",
              "      <td>-815.0</td>\n",
              "      <td>0</td>\n",
              "      <td>0</td>\n",
              "      <td>0</td>\n",
              "      <td>0</td>\n",
              "      <td>0</td>\n",
              "      <td>0</td>\n",
              "      <td>0</td>\n",
              "      <td>0</td>\n",
              "      <td>0</td>\n",
              "      <td>0</td>\n",
              "      <td>0</td>\n",
              "      <td>0</td>\n",
              "      <td>0</td>\n",
              "      <td>0</td>\n",
              "      <td>0</td>\n",
              "      <td>0</td>\n",
              "      <td>0</td>\n",
              "      <td>0</td>\n",
              "      <td>0</td>\n",
              "      <td>0</td>\n",
              "      <td>0.0</td>\n",
              "      <td>0.0</td>\n",
              "      <td>0.0</td>\n",
              "      <td>0.0</td>\n",
              "      <td>0.0</td>\n",
              "      <td>0.0</td>\n",
              "    </tr>\n",
              "    <tr>\n",
              "      <th>3</th>\n",
              "      <td>100006</td>\n",
              "      <td>0</td>\n",
              "      <td>Cash loans</td>\n",
              "      <td>F</td>\n",
              "      <td>N</td>\n",
              "      <td>Y</td>\n",
              "      <td>0</td>\n",
              "      <td>135000.0</td>\n",
              "      <td>312682.5</td>\n",
              "      <td>29686.5</td>\n",
              "      <td>297000.0</td>\n",
              "      <td>Unaccompanied</td>\n",
              "      <td>Working</td>\n",
              "      <td>Secondary / secondary special</td>\n",
              "      <td>Civil marriage</td>\n",
              "      <td>House / apartment</td>\n",
              "      <td>0.008019</td>\n",
              "      <td>-19005</td>\n",
              "      <td>-3039</td>\n",
              "      <td>-9833</td>\n",
              "      <td>-2437</td>\n",
              "      <td>NaN</td>\n",
              "      <td>1</td>\n",
              "      <td>1</td>\n",
              "      <td>0</td>\n",
              "      <td>1</td>\n",
              "      <td>0</td>\n",
              "      <td>0</td>\n",
              "      <td>Laborers</td>\n",
              "      <td>2.0</td>\n",
              "      <td>2</td>\n",
              "      <td>2</td>\n",
              "      <td>WEDNESDAY</td>\n",
              "      <td>17</td>\n",
              "      <td>0</td>\n",
              "      <td>0</td>\n",
              "      <td>0</td>\n",
              "      <td>0</td>\n",
              "      <td>0</td>\n",
              "      <td>0</td>\n",
              "      <td>...</td>\n",
              "      <td>NaN</td>\n",
              "      <td>NaN</td>\n",
              "      <td>NaN</td>\n",
              "      <td>NaN</td>\n",
              "      <td>NaN</td>\n",
              "      <td>NaN</td>\n",
              "      <td>NaN</td>\n",
              "      <td>NaN</td>\n",
              "      <td>NaN</td>\n",
              "      <td>2.0</td>\n",
              "      <td>0.0</td>\n",
              "      <td>2.0</td>\n",
              "      <td>0.0</td>\n",
              "      <td>-617.0</td>\n",
              "      <td>0</td>\n",
              "      <td>1</td>\n",
              "      <td>0</td>\n",
              "      <td>0</td>\n",
              "      <td>0</td>\n",
              "      <td>0</td>\n",
              "      <td>0</td>\n",
              "      <td>0</td>\n",
              "      <td>0</td>\n",
              "      <td>0</td>\n",
              "      <td>0</td>\n",
              "      <td>0</td>\n",
              "      <td>0</td>\n",
              "      <td>0</td>\n",
              "      <td>0</td>\n",
              "      <td>0</td>\n",
              "      <td>0</td>\n",
              "      <td>0</td>\n",
              "      <td>0</td>\n",
              "      <td>0</td>\n",
              "      <td>NaN</td>\n",
              "      <td>NaN</td>\n",
              "      <td>NaN</td>\n",
              "      <td>NaN</td>\n",
              "      <td>NaN</td>\n",
              "      <td>NaN</td>\n",
              "    </tr>\n",
              "    <tr>\n",
              "      <th>4</th>\n",
              "      <td>100007</td>\n",
              "      <td>0</td>\n",
              "      <td>Cash loans</td>\n",
              "      <td>M</td>\n",
              "      <td>N</td>\n",
              "      <td>Y</td>\n",
              "      <td>0</td>\n",
              "      <td>121500.0</td>\n",
              "      <td>513000.0</td>\n",
              "      <td>21865.5</td>\n",
              "      <td>513000.0</td>\n",
              "      <td>Unaccompanied</td>\n",
              "      <td>Working</td>\n",
              "      <td>Secondary / secondary special</td>\n",
              "      <td>Single / not married</td>\n",
              "      <td>House / apartment</td>\n",
              "      <td>0.028663</td>\n",
              "      <td>-19932</td>\n",
              "      <td>-3038</td>\n",
              "      <td>-4311</td>\n",
              "      <td>-3458</td>\n",
              "      <td>NaN</td>\n",
              "      <td>1</td>\n",
              "      <td>1</td>\n",
              "      <td>0</td>\n",
              "      <td>1</td>\n",
              "      <td>0</td>\n",
              "      <td>0</td>\n",
              "      <td>Core staff</td>\n",
              "      <td>1.0</td>\n",
              "      <td>2</td>\n",
              "      <td>2</td>\n",
              "      <td>THURSDAY</td>\n",
              "      <td>11</td>\n",
              "      <td>0</td>\n",
              "      <td>0</td>\n",
              "      <td>0</td>\n",
              "      <td>0</td>\n",
              "      <td>1</td>\n",
              "      <td>1</td>\n",
              "      <td>...</td>\n",
              "      <td>NaN</td>\n",
              "      <td>NaN</td>\n",
              "      <td>NaN</td>\n",
              "      <td>NaN</td>\n",
              "      <td>NaN</td>\n",
              "      <td>NaN</td>\n",
              "      <td>NaN</td>\n",
              "      <td>NaN</td>\n",
              "      <td>NaN</td>\n",
              "      <td>0.0</td>\n",
              "      <td>0.0</td>\n",
              "      <td>0.0</td>\n",
              "      <td>0.0</td>\n",
              "      <td>-1106.0</td>\n",
              "      <td>0</td>\n",
              "      <td>0</td>\n",
              "      <td>0</td>\n",
              "      <td>0</td>\n",
              "      <td>0</td>\n",
              "      <td>0</td>\n",
              "      <td>1</td>\n",
              "      <td>0</td>\n",
              "      <td>0</td>\n",
              "      <td>0</td>\n",
              "      <td>0</td>\n",
              "      <td>0</td>\n",
              "      <td>0</td>\n",
              "      <td>0</td>\n",
              "      <td>0</td>\n",
              "      <td>0</td>\n",
              "      <td>0</td>\n",
              "      <td>0</td>\n",
              "      <td>0</td>\n",
              "      <td>0</td>\n",
              "      <td>0.0</td>\n",
              "      <td>0.0</td>\n",
              "      <td>0.0</td>\n",
              "      <td>0.0</td>\n",
              "      <td>0.0</td>\n",
              "      <td>0.0</td>\n",
              "    </tr>\n",
              "  </tbody>\n",
              "</table>\n",
              "<p>5 rows × 122 columns</p>\n",
              "</div>"
            ],
            "text/plain": [
              "   SK_ID_CURR  TARGET  ... AMT_REQ_CREDIT_BUREAU_QRT AMT_REQ_CREDIT_BUREAU_YEAR\n",
              "0      100002       1  ...                       0.0                        1.0\n",
              "1      100003       0  ...                       0.0                        0.0\n",
              "2      100004       0  ...                       0.0                        0.0\n",
              "3      100006       0  ...                       NaN                        NaN\n",
              "4      100007       0  ...                       0.0                        0.0\n",
              "\n",
              "[5 rows x 122 columns]"
            ]
          },
          "metadata": {
            "tags": []
          },
          "execution_count": 3
        }
      ]
    },
    {
      "cell_type": "code",
      "metadata": {
        "colab": {
          "base_uri": "https://localhost:8080/"
        },
        "id": "0UXsp0limV1X",
        "outputId": "9383d3dc-9e79-46b1-f809-f5ff6b8824e5"
      },
      "source": [
        "df['TARGET'].value_counts()"
      ],
      "execution_count": null,
      "outputs": [
        {
          "output_type": "execute_result",
          "data": {
            "text/plain": [
              "0    55345\n",
              "1     4828\n",
              "Name: TARGET, dtype: int64"
            ]
          },
          "metadata": {
            "tags": []
          },
          "execution_count": 4
        }
      ]
    },
    {
      "cell_type": "code",
      "metadata": {
        "colab": {
          "base_uri": "https://localhost:8080/"
        },
        "id": "aAxtuUUACpno",
        "outputId": "6beb74bd-477b-4b21-d0a8-22c09ef444f8"
      },
      "source": [
        "df.shape #checking the shape of the dataframe!"
      ],
      "execution_count": null,
      "outputs": [
        {
          "output_type": "execute_result",
          "data": {
            "text/plain": [
              "(60173, 122)"
            ]
          },
          "metadata": {
            "tags": []
          },
          "execution_count": 5
        }
      ]
    },
    {
      "cell_type": "markdown",
      "metadata": {
        "id": "9LhP69RcCvtP"
      },
      "source": [
        "The dataset contains 60173 rows with 122 features having one dependent variable 'TARGET' indicating weather a customer will default on a loan or not."
      ]
    },
    {
      "cell_type": "markdown",
      "metadata": {
        "id": "_sAl0dwWuCDR"
      },
      "source": [
        "## Data Exploration & Variable Identification:"
      ]
    },
    {
      "cell_type": "code",
      "metadata": {
        "colab": {
          "base_uri": "https://localhost:8080/"
        },
        "id": "qbFJdt6hrkY7",
        "outputId": "5de4ed03-d03c-45ca-bd61-1b6b18780428"
      },
      "source": [
        "df.info() "
      ],
      "execution_count": null,
      "outputs": [
        {
          "output_type": "stream",
          "text": [
            "<class 'pandas.core.frame.DataFrame'>\n",
            "RangeIndex: 60173 entries, 0 to 60172\n",
            "Columns: 122 entries, SK_ID_CURR to AMT_REQ_CREDIT_BUREAU_YEAR\n",
            "dtypes: float64(64), int64(42), object(16)\n",
            "memory usage: 56.0+ MB\n"
          ],
          "name": "stdout"
        }
      ]
    },
    {
      "cell_type": "code",
      "metadata": {
        "colab": {
          "base_uri": "https://localhost:8080/",
          "height": 348
        },
        "id": "qSU3EYbJroGW",
        "outputId": "581e5a5c-b413-4c6d-e9aa-11594dbfe1de"
      },
      "source": [
        "df.describe() #checking summary statitics"
      ],
      "execution_count": null,
      "outputs": [
        {
          "output_type": "execute_result",
          "data": {
            "text/html": [
              "<div>\n",
              "<style scoped>\n",
              "    .dataframe tbody tr th:only-of-type {\n",
              "        vertical-align: middle;\n",
              "    }\n",
              "\n",
              "    .dataframe tbody tr th {\n",
              "        vertical-align: top;\n",
              "    }\n",
              "\n",
              "    .dataframe thead th {\n",
              "        text-align: right;\n",
              "    }\n",
              "</style>\n",
              "<table border=\"1\" class=\"dataframe\">\n",
              "  <thead>\n",
              "    <tr style=\"text-align: right;\">\n",
              "      <th></th>\n",
              "      <th>SK_ID_CURR</th>\n",
              "      <th>TARGET</th>\n",
              "      <th>CNT_CHILDREN</th>\n",
              "      <th>AMT_INCOME_TOTAL</th>\n",
              "      <th>AMT_CREDIT</th>\n",
              "      <th>AMT_ANNUITY</th>\n",
              "      <th>AMT_GOODS_PRICE</th>\n",
              "      <th>REGION_POPULATION_RELATIVE</th>\n",
              "      <th>DAYS_BIRTH</th>\n",
              "      <th>DAYS_EMPLOYED</th>\n",
              "      <th>DAYS_REGISTRATION</th>\n",
              "      <th>DAYS_ID_PUBLISH</th>\n",
              "      <th>OWN_CAR_AGE</th>\n",
              "      <th>FLAG_MOBIL</th>\n",
              "      <th>FLAG_EMP_PHONE</th>\n",
              "      <th>FLAG_WORK_PHONE</th>\n",
              "      <th>FLAG_CONT_MOBILE</th>\n",
              "      <th>FLAG_PHONE</th>\n",
              "      <th>FLAG_EMAIL</th>\n",
              "      <th>CNT_FAM_MEMBERS</th>\n",
              "      <th>REGION_RATING_CLIENT</th>\n",
              "      <th>REGION_RATING_CLIENT_W_CITY</th>\n",
              "      <th>HOUR_APPR_PROCESS_START</th>\n",
              "      <th>REG_REGION_NOT_LIVE_REGION</th>\n",
              "      <th>REG_REGION_NOT_WORK_REGION</th>\n",
              "      <th>LIVE_REGION_NOT_WORK_REGION</th>\n",
              "      <th>REG_CITY_NOT_LIVE_CITY</th>\n",
              "      <th>REG_CITY_NOT_WORK_CITY</th>\n",
              "      <th>LIVE_CITY_NOT_WORK_CITY</th>\n",
              "      <th>EXT_SOURCE_1</th>\n",
              "      <th>EXT_SOURCE_2</th>\n",
              "      <th>EXT_SOURCE_3</th>\n",
              "      <th>APARTMENTS_AVG</th>\n",
              "      <th>BASEMENTAREA_AVG</th>\n",
              "      <th>YEARS_BEGINEXPLUATATION_AVG</th>\n",
              "      <th>YEARS_BUILD_AVG</th>\n",
              "      <th>COMMONAREA_AVG</th>\n",
              "      <th>ELEVATORS_AVG</th>\n",
              "      <th>ENTRANCES_AVG</th>\n",
              "      <th>FLOORSMAX_AVG</th>\n",
              "      <th>...</th>\n",
              "      <th>ENTRANCES_MEDI</th>\n",
              "      <th>FLOORSMAX_MEDI</th>\n",
              "      <th>FLOORSMIN_MEDI</th>\n",
              "      <th>LANDAREA_MEDI</th>\n",
              "      <th>LIVINGAPARTMENTS_MEDI</th>\n",
              "      <th>LIVINGAREA_MEDI</th>\n",
              "      <th>NONLIVINGAPARTMENTS_MEDI</th>\n",
              "      <th>NONLIVINGAREA_MEDI</th>\n",
              "      <th>TOTALAREA_MODE</th>\n",
              "      <th>OBS_30_CNT_SOCIAL_CIRCLE</th>\n",
              "      <th>DEF_30_CNT_SOCIAL_CIRCLE</th>\n",
              "      <th>OBS_60_CNT_SOCIAL_CIRCLE</th>\n",
              "      <th>DEF_60_CNT_SOCIAL_CIRCLE</th>\n",
              "      <th>DAYS_LAST_PHONE_CHANGE</th>\n",
              "      <th>FLAG_DOCUMENT_2</th>\n",
              "      <th>FLAG_DOCUMENT_3</th>\n",
              "      <th>FLAG_DOCUMENT_4</th>\n",
              "      <th>FLAG_DOCUMENT_5</th>\n",
              "      <th>FLAG_DOCUMENT_6</th>\n",
              "      <th>FLAG_DOCUMENT_7</th>\n",
              "      <th>FLAG_DOCUMENT_8</th>\n",
              "      <th>FLAG_DOCUMENT_9</th>\n",
              "      <th>FLAG_DOCUMENT_10</th>\n",
              "      <th>FLAG_DOCUMENT_11</th>\n",
              "      <th>FLAG_DOCUMENT_12</th>\n",
              "      <th>FLAG_DOCUMENT_13</th>\n",
              "      <th>FLAG_DOCUMENT_14</th>\n",
              "      <th>FLAG_DOCUMENT_15</th>\n",
              "      <th>FLAG_DOCUMENT_16</th>\n",
              "      <th>FLAG_DOCUMENT_17</th>\n",
              "      <th>FLAG_DOCUMENT_18</th>\n",
              "      <th>FLAG_DOCUMENT_19</th>\n",
              "      <th>FLAG_DOCUMENT_20</th>\n",
              "      <th>FLAG_DOCUMENT_21</th>\n",
              "      <th>AMT_REQ_CREDIT_BUREAU_HOUR</th>\n",
              "      <th>AMT_REQ_CREDIT_BUREAU_DAY</th>\n",
              "      <th>AMT_REQ_CREDIT_BUREAU_WEEK</th>\n",
              "      <th>AMT_REQ_CREDIT_BUREAU_MON</th>\n",
              "      <th>AMT_REQ_CREDIT_BUREAU_QRT</th>\n",
              "      <th>AMT_REQ_CREDIT_BUREAU_YEAR</th>\n",
              "    </tr>\n",
              "  </thead>\n",
              "  <tbody>\n",
              "    <tr>\n",
              "      <th>count</th>\n",
              "      <td>60173.000000</td>\n",
              "      <td>60173.000000</td>\n",
              "      <td>60173.000000</td>\n",
              "      <td>6.017300e+04</td>\n",
              "      <td>6.017300e+04</td>\n",
              "      <td>60168.000000</td>\n",
              "      <td>6.012700e+04</td>\n",
              "      <td>60173.000000</td>\n",
              "      <td>60173.000000</td>\n",
              "      <td>60173.000000</td>\n",
              "      <td>60173.000000</td>\n",
              "      <td>60173.000000</td>\n",
              "      <td>20469.000000</td>\n",
              "      <td>60173.000000</td>\n",
              "      <td>60173.000000</td>\n",
              "      <td>60173.000000</td>\n",
              "      <td>60173.000000</td>\n",
              "      <td>60173.000000</td>\n",
              "      <td>60173.000000</td>\n",
              "      <td>60172.000000</td>\n",
              "      <td>60173.000000</td>\n",
              "      <td>60173.000000</td>\n",
              "      <td>60173.000000</td>\n",
              "      <td>60173.000000</td>\n",
              "      <td>60173.000000</td>\n",
              "      <td>60173.000000</td>\n",
              "      <td>60173.000000</td>\n",
              "      <td>60173.000000</td>\n",
              "      <td>60173.000000</td>\n",
              "      <td>26226.000000</td>\n",
              "      <td>6.002900e+04</td>\n",
              "      <td>48259.000000</td>\n",
              "      <td>29642.000000</td>\n",
              "      <td>25032.000000</td>\n",
              "      <td>30811.000000</td>\n",
              "      <td>20183.000000</td>\n",
              "      <td>18147.000000</td>\n",
              "      <td>28101.000000</td>\n",
              "      <td>29865.000000</td>\n",
              "      <td>30240.000000</td>\n",
              "      <td>...</td>\n",
              "      <td>29865.000000</td>\n",
              "      <td>30240.000000</td>\n",
              "      <td>19384.000000</td>\n",
              "      <td>24448.000000</td>\n",
              "      <td>19017.000000</td>\n",
              "      <td>29935.000000</td>\n",
              "      <td>18415.000000</td>\n",
              "      <td>27012.000000</td>\n",
              "      <td>31111.000000</td>\n",
              "      <td>59976.000000</td>\n",
              "      <td>59976.000000</td>\n",
              "      <td>59976.000000</td>\n",
              "      <td>59976.000000</td>\n",
              "      <td>60172.000000</td>\n",
              "      <td>60173.000000</td>\n",
              "      <td>60173.000000</td>\n",
              "      <td>60173.000000</td>\n",
              "      <td>60173.000000</td>\n",
              "      <td>60173.000000</td>\n",
              "      <td>60173.000000</td>\n",
              "      <td>60173.000000</td>\n",
              "      <td>60173.000000</td>\n",
              "      <td>60173.000000</td>\n",
              "      <td>60173.000000</td>\n",
              "      <td>60173.000000</td>\n",
              "      <td>60173.000000</td>\n",
              "      <td>60173.000000</td>\n",
              "      <td>60173.000000</td>\n",
              "      <td>60173.000000</td>\n",
              "      <td>60173.000000</td>\n",
              "      <td>60173.000000</td>\n",
              "      <td>60173.000000</td>\n",
              "      <td>60173.000000</td>\n",
              "      <td>60173.000000</td>\n",
              "      <td>52120.000000</td>\n",
              "      <td>52120.000000</td>\n",
              "      <td>52120.000000</td>\n",
              "      <td>52120.000000</td>\n",
              "      <td>52120.000000</td>\n",
              "      <td>52120.000000</td>\n",
              "    </tr>\n",
              "    <tr>\n",
              "      <th>mean</th>\n",
              "      <td>134898.791401</td>\n",
              "      <td>0.080235</td>\n",
              "      <td>0.420255</td>\n",
              "      <td>1.700445e+05</td>\n",
              "      <td>5.998655e+05</td>\n",
              "      <td>27086.380884</td>\n",
              "      <td>5.390792e+05</td>\n",
              "      <td>0.020866</td>\n",
              "      <td>-16024.267927</td>\n",
              "      <td>62912.403154</td>\n",
              "      <td>-4980.915028</td>\n",
              "      <td>-2995.493394</td>\n",
              "      <td>12.004837</td>\n",
              "      <td>0.999983</td>\n",
              "      <td>0.822296</td>\n",
              "      <td>0.199807</td>\n",
              "      <td>0.998022</td>\n",
              "      <td>0.278331</td>\n",
              "      <td>0.055556</td>\n",
              "      <td>2.158413</td>\n",
              "      <td>2.051867</td>\n",
              "      <td>2.031193</td>\n",
              "      <td>12.052765</td>\n",
              "      <td>0.015140</td>\n",
              "      <td>0.050288</td>\n",
              "      <td>0.039785</td>\n",
              "      <td>0.079969</td>\n",
              "      <td>0.231765</td>\n",
              "      <td>0.179167</td>\n",
              "      <td>0.502711</td>\n",
              "      <td>5.141413e-01</td>\n",
              "      <td>0.511372</td>\n",
              "      <td>0.117641</td>\n",
              "      <td>0.088978</td>\n",
              "      <td>0.978039</td>\n",
              "      <td>0.751629</td>\n",
              "      <td>0.044978</td>\n",
              "      <td>0.078794</td>\n",
              "      <td>0.150194</td>\n",
              "      <td>0.225877</td>\n",
              "      <td>...</td>\n",
              "      <td>0.149647</td>\n",
              "      <td>0.225505</td>\n",
              "      <td>0.231735</td>\n",
              "      <td>0.067121</td>\n",
              "      <td>0.101722</td>\n",
              "      <td>0.108741</td>\n",
              "      <td>0.009014</td>\n",
              "      <td>0.028079</td>\n",
              "      <td>0.102714</td>\n",
              "      <td>1.423469</td>\n",
              "      <td>0.141973</td>\n",
              "      <td>1.406629</td>\n",
              "      <td>0.098523</td>\n",
              "      <td>-962.103653</td>\n",
              "      <td>0.000033</td>\n",
              "      <td>0.711848</td>\n",
              "      <td>0.000166</td>\n",
              "      <td>0.015638</td>\n",
              "      <td>0.086218</td>\n",
              "      <td>0.000199</td>\n",
              "      <td>0.081066</td>\n",
              "      <td>0.003623</td>\n",
              "      <td>0.000017</td>\n",
              "      <td>0.004205</td>\n",
              "      <td>0.000017</td>\n",
              "      <td>0.003274</td>\n",
              "      <td>0.003108</td>\n",
              "      <td>0.000897</td>\n",
              "      <td>0.010088</td>\n",
              "      <td>0.000283</td>\n",
              "      <td>0.008392</td>\n",
              "      <td>0.000681</td>\n",
              "      <td>0.000482</td>\n",
              "      <td>0.000349</td>\n",
              "      <td>0.007080</td>\n",
              "      <td>0.007809</td>\n",
              "      <td>0.033346</td>\n",
              "      <td>0.270683</td>\n",
              "      <td>0.262068</td>\n",
              "      <td>1.881754</td>\n",
              "    </tr>\n",
              "    <tr>\n",
              "      <th>std</th>\n",
              "      <td>20092.197186</td>\n",
              "      <td>0.271659</td>\n",
              "      <td>0.725420</td>\n",
              "      <td>4.863248e+05</td>\n",
              "      <td>4.030292e+05</td>\n",
              "      <td>14526.868318</td>\n",
              "      <td>3.702773e+05</td>\n",
              "      <td>0.013794</td>\n",
              "      <td>4360.847914</td>\n",
              "      <td>140538.969253</td>\n",
              "      <td>3526.315074</td>\n",
              "      <td>1510.735814</td>\n",
              "      <td>11.828171</td>\n",
              "      <td>0.004077</td>\n",
              "      <td>0.382267</td>\n",
              "      <td>0.399859</td>\n",
              "      <td>0.044427</td>\n",
              "      <td>0.448181</td>\n",
              "      <td>0.229065</td>\n",
              "      <td>0.913067</td>\n",
              "      <td>0.508799</td>\n",
              "      <td>0.502808</td>\n",
              "      <td>3.258367</td>\n",
              "      <td>0.122109</td>\n",
              "      <td>0.218541</td>\n",
              "      <td>0.195456</td>\n",
              "      <td>0.271248</td>\n",
              "      <td>0.421963</td>\n",
              "      <td>0.383495</td>\n",
              "      <td>0.211469</td>\n",
              "      <td>1.911863e-01</td>\n",
              "      <td>0.194747</td>\n",
              "      <td>0.108414</td>\n",
              "      <td>0.082986</td>\n",
              "      <td>0.056295</td>\n",
              "      <td>0.113482</td>\n",
              "      <td>0.078160</td>\n",
              "      <td>0.134261</td>\n",
              "      <td>0.100400</td>\n",
              "      <td>0.145299</td>\n",
              "      <td>...</td>\n",
              "      <td>0.100734</td>\n",
              "      <td>0.145734</td>\n",
              "      <td>0.162360</td>\n",
              "      <td>0.080318</td>\n",
              "      <td>0.094125</td>\n",
              "      <td>0.112304</td>\n",
              "      <td>0.049852</td>\n",
              "      <td>0.069626</td>\n",
              "      <td>0.107838</td>\n",
              "      <td>2.302438</td>\n",
              "      <td>0.440207</td>\n",
              "      <td>2.282328</td>\n",
              "      <td>0.356137</td>\n",
              "      <td>829.261894</td>\n",
              "      <td>0.005765</td>\n",
              "      <td>0.452906</td>\n",
              "      <td>0.012890</td>\n",
              "      <td>0.124072</td>\n",
              "      <td>0.280688</td>\n",
              "      <td>0.014121</td>\n",
              "      <td>0.272939</td>\n",
              "      <td>0.060082</td>\n",
              "      <td>0.004077</td>\n",
              "      <td>0.064707</td>\n",
              "      <td>0.004077</td>\n",
              "      <td>0.057125</td>\n",
              "      <td>0.055661</td>\n",
              "      <td>0.029944</td>\n",
              "      <td>0.099930</td>\n",
              "      <td>0.016806</td>\n",
              "      <td>0.091226</td>\n",
              "      <td>0.026094</td>\n",
              "      <td>0.021948</td>\n",
              "      <td>0.018678</td>\n",
              "      <td>0.088519</td>\n",
              "      <td>0.113027</td>\n",
              "      <td>0.201400</td>\n",
              "      <td>0.930881</td>\n",
              "      <td>0.608613</td>\n",
              "      <td>1.866864</td>\n",
              "    </tr>\n",
              "    <tr>\n",
              "      <th>min</th>\n",
              "      <td>100002.000000</td>\n",
              "      <td>0.000000</td>\n",
              "      <td>0.000000</td>\n",
              "      <td>2.565000e+04</td>\n",
              "      <td>4.500000e+04</td>\n",
              "      <td>2052.000000</td>\n",
              "      <td>4.500000e+04</td>\n",
              "      <td>0.000533</td>\n",
              "      <td>-25184.000000</td>\n",
              "      <td>-17531.000000</td>\n",
              "      <td>-22392.000000</td>\n",
              "      <td>-6232.000000</td>\n",
              "      <td>0.000000</td>\n",
              "      <td>0.000000</td>\n",
              "      <td>0.000000</td>\n",
              "      <td>0.000000</td>\n",
              "      <td>0.000000</td>\n",
              "      <td>0.000000</td>\n",
              "      <td>0.000000</td>\n",
              "      <td>1.000000</td>\n",
              "      <td>1.000000</td>\n",
              "      <td>1.000000</td>\n",
              "      <td>0.000000</td>\n",
              "      <td>0.000000</td>\n",
              "      <td>0.000000</td>\n",
              "      <td>0.000000</td>\n",
              "      <td>0.000000</td>\n",
              "      <td>0.000000</td>\n",
              "      <td>0.000000</td>\n",
              "      <td>0.014568</td>\n",
              "      <td>8.170000e-08</td>\n",
              "      <td>0.000527</td>\n",
              "      <td>0.000000</td>\n",
              "      <td>0.000000</td>\n",
              "      <td>0.000000</td>\n",
              "      <td>0.000000</td>\n",
              "      <td>0.000000</td>\n",
              "      <td>0.000000</td>\n",
              "      <td>0.000000</td>\n",
              "      <td>0.000000</td>\n",
              "      <td>...</td>\n",
              "      <td>0.000000</td>\n",
              "      <td>0.000000</td>\n",
              "      <td>0.000000</td>\n",
              "      <td>0.000000</td>\n",
              "      <td>0.000000</td>\n",
              "      <td>0.000000</td>\n",
              "      <td>0.000000</td>\n",
              "      <td>0.000000</td>\n",
              "      <td>0.000000</td>\n",
              "      <td>0.000000</td>\n",
              "      <td>0.000000</td>\n",
              "      <td>0.000000</td>\n",
              "      <td>0.000000</td>\n",
              "      <td>-4021.000000</td>\n",
              "      <td>0.000000</td>\n",
              "      <td>0.000000</td>\n",
              "      <td>0.000000</td>\n",
              "      <td>0.000000</td>\n",
              "      <td>0.000000</td>\n",
              "      <td>0.000000</td>\n",
              "      <td>0.000000</td>\n",
              "      <td>0.000000</td>\n",
              "      <td>0.000000</td>\n",
              "      <td>0.000000</td>\n",
              "      <td>0.000000</td>\n",
              "      <td>0.000000</td>\n",
              "      <td>0.000000</td>\n",
              "      <td>0.000000</td>\n",
              "      <td>0.000000</td>\n",
              "      <td>0.000000</td>\n",
              "      <td>0.000000</td>\n",
              "      <td>0.000000</td>\n",
              "      <td>0.000000</td>\n",
              "      <td>0.000000</td>\n",
              "      <td>0.000000</td>\n",
              "      <td>0.000000</td>\n",
              "      <td>0.000000</td>\n",
              "      <td>0.000000</td>\n",
              "      <td>0.000000</td>\n",
              "      <td>0.000000</td>\n",
              "    </tr>\n",
              "    <tr>\n",
              "      <th>25%</th>\n",
              "      <td>117568.000000</td>\n",
              "      <td>0.000000</td>\n",
              "      <td>0.000000</td>\n",
              "      <td>1.125000e+05</td>\n",
              "      <td>2.700000e+05</td>\n",
              "      <td>16456.500000</td>\n",
              "      <td>2.385000e+05</td>\n",
              "      <td>0.010006</td>\n",
              "      <td>-19652.000000</td>\n",
              "      <td>-2796.000000</td>\n",
              "      <td>-7470.000000</td>\n",
              "      <td>-4297.000000</td>\n",
              "      <td>5.000000</td>\n",
              "      <td>1.000000</td>\n",
              "      <td>1.000000</td>\n",
              "      <td>0.000000</td>\n",
              "      <td>1.000000</td>\n",
              "      <td>0.000000</td>\n",
              "      <td>0.000000</td>\n",
              "      <td>2.000000</td>\n",
              "      <td>2.000000</td>\n",
              "      <td>2.000000</td>\n",
              "      <td>10.000000</td>\n",
              "      <td>0.000000</td>\n",
              "      <td>0.000000</td>\n",
              "      <td>0.000000</td>\n",
              "      <td>0.000000</td>\n",
              "      <td>0.000000</td>\n",
              "      <td>0.000000</td>\n",
              "      <td>0.334730</td>\n",
              "      <td>3.916131e-01</td>\n",
              "      <td>0.370650</td>\n",
              "      <td>0.057700</td>\n",
              "      <td>0.044300</td>\n",
              "      <td>0.976700</td>\n",
              "      <td>0.687200</td>\n",
              "      <td>0.007700</td>\n",
              "      <td>0.000000</td>\n",
              "      <td>0.069000</td>\n",
              "      <td>0.166700</td>\n",
              "      <td>...</td>\n",
              "      <td>0.069000</td>\n",
              "      <td>0.166700</td>\n",
              "      <td>0.083300</td>\n",
              "      <td>0.019300</td>\n",
              "      <td>0.051300</td>\n",
              "      <td>0.046300</td>\n",
              "      <td>0.000000</td>\n",
              "      <td>0.000000</td>\n",
              "      <td>0.041300</td>\n",
              "      <td>0.000000</td>\n",
              "      <td>0.000000</td>\n",
              "      <td>0.000000</td>\n",
              "      <td>0.000000</td>\n",
              "      <td>-1571.000000</td>\n",
              "      <td>0.000000</td>\n",
              "      <td>0.000000</td>\n",
              "      <td>0.000000</td>\n",
              "      <td>0.000000</td>\n",
              "      <td>0.000000</td>\n",
              "      <td>0.000000</td>\n",
              "      <td>0.000000</td>\n",
              "      <td>0.000000</td>\n",
              "      <td>0.000000</td>\n",
              "      <td>0.000000</td>\n",
              "      <td>0.000000</td>\n",
              "      <td>0.000000</td>\n",
              "      <td>0.000000</td>\n",
              "      <td>0.000000</td>\n",
              "      <td>0.000000</td>\n",
              "      <td>0.000000</td>\n",
              "      <td>0.000000</td>\n",
              "      <td>0.000000</td>\n",
              "      <td>0.000000</td>\n",
              "      <td>0.000000</td>\n",
              "      <td>0.000000</td>\n",
              "      <td>0.000000</td>\n",
              "      <td>0.000000</td>\n",
              "      <td>0.000000</td>\n",
              "      <td>0.000000</td>\n",
              "      <td>0.000000</td>\n",
              "    </tr>\n",
              "    <tr>\n",
              "      <th>50%</th>\n",
              "      <td>134926.000000</td>\n",
              "      <td>0.000000</td>\n",
              "      <td>0.000000</td>\n",
              "      <td>1.440000e+05</td>\n",
              "      <td>5.146020e+05</td>\n",
              "      <td>24907.500000</td>\n",
              "      <td>4.500000e+05</td>\n",
              "      <td>0.018850</td>\n",
              "      <td>-15743.000000</td>\n",
              "      <td>-1219.000000</td>\n",
              "      <td>-4494.000000</td>\n",
              "      <td>-3259.000000</td>\n",
              "      <td>9.000000</td>\n",
              "      <td>1.000000</td>\n",
              "      <td>1.000000</td>\n",
              "      <td>0.000000</td>\n",
              "      <td>1.000000</td>\n",
              "      <td>0.000000</td>\n",
              "      <td>0.000000</td>\n",
              "      <td>2.000000</td>\n",
              "      <td>2.000000</td>\n",
              "      <td>2.000000</td>\n",
              "      <td>12.000000</td>\n",
              "      <td>0.000000</td>\n",
              "      <td>0.000000</td>\n",
              "      <td>0.000000</td>\n",
              "      <td>0.000000</td>\n",
              "      <td>0.000000</td>\n",
              "      <td>0.000000</td>\n",
              "      <td>0.507123</td>\n",
              "      <td>5.662407e-01</td>\n",
              "      <td>0.535276</td>\n",
              "      <td>0.087600</td>\n",
              "      <td>0.076200</td>\n",
              "      <td>0.981600</td>\n",
              "      <td>0.755200</td>\n",
              "      <td>0.021000</td>\n",
              "      <td>0.000000</td>\n",
              "      <td>0.137900</td>\n",
              "      <td>0.166700</td>\n",
              "      <td>...</td>\n",
              "      <td>0.137900</td>\n",
              "      <td>0.166700</td>\n",
              "      <td>0.208300</td>\n",
              "      <td>0.049000</td>\n",
              "      <td>0.076100</td>\n",
              "      <td>0.074800</td>\n",
              "      <td>0.000000</td>\n",
              "      <td>0.003100</td>\n",
              "      <td>0.068600</td>\n",
              "      <td>0.000000</td>\n",
              "      <td>0.000000</td>\n",
              "      <td>0.000000</td>\n",
              "      <td>0.000000</td>\n",
              "      <td>-753.000000</td>\n",
              "      <td>0.000000</td>\n",
              "      <td>1.000000</td>\n",
              "      <td>0.000000</td>\n",
              "      <td>0.000000</td>\n",
              "      <td>0.000000</td>\n",
              "      <td>0.000000</td>\n",
              "      <td>0.000000</td>\n",
              "      <td>0.000000</td>\n",
              "      <td>0.000000</td>\n",
              "      <td>0.000000</td>\n",
              "      <td>0.000000</td>\n",
              "      <td>0.000000</td>\n",
              "      <td>0.000000</td>\n",
              "      <td>0.000000</td>\n",
              "      <td>0.000000</td>\n",
              "      <td>0.000000</td>\n",
              "      <td>0.000000</td>\n",
              "      <td>0.000000</td>\n",
              "      <td>0.000000</td>\n",
              "      <td>0.000000</td>\n",
              "      <td>0.000000</td>\n",
              "      <td>0.000000</td>\n",
              "      <td>0.000000</td>\n",
              "      <td>0.000000</td>\n",
              "      <td>0.000000</td>\n",
              "      <td>1.000000</td>\n",
              "    </tr>\n",
              "    <tr>\n",
              "      <th>75%</th>\n",
              "      <td>152277.000000</td>\n",
              "      <td>0.000000</td>\n",
              "      <td>1.000000</td>\n",
              "      <td>2.025000e+05</td>\n",
              "      <td>8.086500e+05</td>\n",
              "      <td>34587.000000</td>\n",
              "      <td>6.795000e+05</td>\n",
              "      <td>0.028663</td>\n",
              "      <td>-12388.000000</td>\n",
              "      <td>-292.000000</td>\n",
              "      <td>-2006.000000</td>\n",
              "      <td>-1721.000000</td>\n",
              "      <td>15.000000</td>\n",
              "      <td>1.000000</td>\n",
              "      <td>1.000000</td>\n",
              "      <td>0.000000</td>\n",
              "      <td>1.000000</td>\n",
              "      <td>1.000000</td>\n",
              "      <td>0.000000</td>\n",
              "      <td>3.000000</td>\n",
              "      <td>2.000000</td>\n",
              "      <td>2.000000</td>\n",
              "      <td>14.000000</td>\n",
              "      <td>0.000000</td>\n",
              "      <td>0.000000</td>\n",
              "      <td>0.000000</td>\n",
              "      <td>0.000000</td>\n",
              "      <td>0.000000</td>\n",
              "      <td>0.000000</td>\n",
              "      <td>0.674763</td>\n",
              "      <td>6.638270e-01</td>\n",
              "      <td>0.669057</td>\n",
              "      <td>0.148500</td>\n",
              "      <td>0.112700</td>\n",
              "      <td>0.986600</td>\n",
              "      <td>0.823200</td>\n",
              "      <td>0.051100</td>\n",
              "      <td>0.120000</td>\n",
              "      <td>0.206900</td>\n",
              "      <td>0.333300</td>\n",
              "      <td>...</td>\n",
              "      <td>0.206900</td>\n",
              "      <td>0.333300</td>\n",
              "      <td>0.375000</td>\n",
              "      <td>0.087500</td>\n",
              "      <td>0.123100</td>\n",
              "      <td>0.130000</td>\n",
              "      <td>0.003900</td>\n",
              "      <td>0.026600</td>\n",
              "      <td>0.127400</td>\n",
              "      <td>2.000000</td>\n",
              "      <td>0.000000</td>\n",
              "      <td>2.000000</td>\n",
              "      <td>0.000000</td>\n",
              "      <td>-268.000000</td>\n",
              "      <td>0.000000</td>\n",
              "      <td>1.000000</td>\n",
              "      <td>0.000000</td>\n",
              "      <td>0.000000</td>\n",
              "      <td>0.000000</td>\n",
              "      <td>0.000000</td>\n",
              "      <td>0.000000</td>\n",
              "      <td>0.000000</td>\n",
              "      <td>0.000000</td>\n",
              "      <td>0.000000</td>\n",
              "      <td>0.000000</td>\n",
              "      <td>0.000000</td>\n",
              "      <td>0.000000</td>\n",
              "      <td>0.000000</td>\n",
              "      <td>0.000000</td>\n",
              "      <td>0.000000</td>\n",
              "      <td>0.000000</td>\n",
              "      <td>0.000000</td>\n",
              "      <td>0.000000</td>\n",
              "      <td>0.000000</td>\n",
              "      <td>0.000000</td>\n",
              "      <td>0.000000</td>\n",
              "      <td>0.000000</td>\n",
              "      <td>0.000000</td>\n",
              "      <td>0.000000</td>\n",
              "      <td>3.000000</td>\n",
              "    </tr>\n",
              "    <tr>\n",
              "      <th>max</th>\n",
              "      <td>169771.000000</td>\n",
              "      <td>1.000000</td>\n",
              "      <td>11.000000</td>\n",
              "      <td>1.170000e+08</td>\n",
              "      <td>4.050000e+06</td>\n",
              "      <td>258025.500000</td>\n",
              "      <td>4.050000e+06</td>\n",
              "      <td>0.072508</td>\n",
              "      <td>-7676.000000</td>\n",
              "      <td>365243.000000</td>\n",
              "      <td>0.000000</td>\n",
              "      <td>0.000000</td>\n",
              "      <td>65.000000</td>\n",
              "      <td>1.000000</td>\n",
              "      <td>1.000000</td>\n",
              "      <td>1.000000</td>\n",
              "      <td>1.000000</td>\n",
              "      <td>1.000000</td>\n",
              "      <td>1.000000</td>\n",
              "      <td>13.000000</td>\n",
              "      <td>3.000000</td>\n",
              "      <td>3.000000</td>\n",
              "      <td>23.000000</td>\n",
              "      <td>1.000000</td>\n",
              "      <td>1.000000</td>\n",
              "      <td>1.000000</td>\n",
              "      <td>1.000000</td>\n",
              "      <td>1.000000</td>\n",
              "      <td>1.000000</td>\n",
              "      <td>0.944420</td>\n",
              "      <td>8.549997e-01</td>\n",
              "      <td>0.896010</td>\n",
              "      <td>1.000000</td>\n",
              "      <td>1.000000</td>\n",
              "      <td>1.000000</td>\n",
              "      <td>1.000000</td>\n",
              "      <td>1.000000</td>\n",
              "      <td>1.000000</td>\n",
              "      <td>1.000000</td>\n",
              "      <td>1.000000</td>\n",
              "      <td>...</td>\n",
              "      <td>1.000000</td>\n",
              "      <td>1.000000</td>\n",
              "      <td>1.000000</td>\n",
              "      <td>1.000000</td>\n",
              "      <td>1.000000</td>\n",
              "      <td>1.000000</td>\n",
              "      <td>1.000000</td>\n",
              "      <td>1.000000</td>\n",
              "      <td>1.000000</td>\n",
              "      <td>29.000000</td>\n",
              "      <td>6.000000</td>\n",
              "      <td>29.000000</td>\n",
              "      <td>5.000000</td>\n",
              "      <td>0.000000</td>\n",
              "      <td>1.000000</td>\n",
              "      <td>1.000000</td>\n",
              "      <td>1.000000</td>\n",
              "      <td>1.000000</td>\n",
              "      <td>1.000000</td>\n",
              "      <td>1.000000</td>\n",
              "      <td>1.000000</td>\n",
              "      <td>1.000000</td>\n",
              "      <td>1.000000</td>\n",
              "      <td>1.000000</td>\n",
              "      <td>1.000000</td>\n",
              "      <td>1.000000</td>\n",
              "      <td>1.000000</td>\n",
              "      <td>1.000000</td>\n",
              "      <td>1.000000</td>\n",
              "      <td>1.000000</td>\n",
              "      <td>1.000000</td>\n",
              "      <td>1.000000</td>\n",
              "      <td>1.000000</td>\n",
              "      <td>1.000000</td>\n",
              "      <td>3.000000</td>\n",
              "      <td>6.000000</td>\n",
              "      <td>6.000000</td>\n",
              "      <td>24.000000</td>\n",
              "      <td>8.000000</td>\n",
              "      <td>25.000000</td>\n",
              "    </tr>\n",
              "  </tbody>\n",
              "</table>\n",
              "<p>8 rows × 106 columns</p>\n",
              "</div>"
            ],
            "text/plain": [
              "          SK_ID_CURR  ...  AMT_REQ_CREDIT_BUREAU_YEAR\n",
              "count   60173.000000  ...                52120.000000\n",
              "mean   134898.791401  ...                    1.881754\n",
              "std     20092.197186  ...                    1.866864\n",
              "min    100002.000000  ...                    0.000000\n",
              "25%    117568.000000  ...                    0.000000\n",
              "50%    134926.000000  ...                    1.000000\n",
              "75%    152277.000000  ...                    3.000000\n",
              "max    169771.000000  ...                   25.000000\n",
              "\n",
              "[8 rows x 106 columns]"
            ]
          },
          "metadata": {
            "tags": []
          },
          "execution_count": 7
        }
      ]
    },
    {
      "cell_type": "code",
      "metadata": {
        "colab": {
          "base_uri": "https://localhost:8080/",
          "height": 178
        },
        "id": "1jhZ1JUisyvx",
        "outputId": "73ea134e-8d1c-4604-8273-8c85558b14c4"
      },
      "source": [
        "df.head(2)"
      ],
      "execution_count": null,
      "outputs": [
        {
          "output_type": "execute_result",
          "data": {
            "text/html": [
              "<div>\n",
              "<style scoped>\n",
              "    .dataframe tbody tr th:only-of-type {\n",
              "        vertical-align: middle;\n",
              "    }\n",
              "\n",
              "    .dataframe tbody tr th {\n",
              "        vertical-align: top;\n",
              "    }\n",
              "\n",
              "    .dataframe thead th {\n",
              "        text-align: right;\n",
              "    }\n",
              "</style>\n",
              "<table border=\"1\" class=\"dataframe\">\n",
              "  <thead>\n",
              "    <tr style=\"text-align: right;\">\n",
              "      <th></th>\n",
              "      <th>SK_ID_CURR</th>\n",
              "      <th>TARGET</th>\n",
              "      <th>NAME_CONTRACT_TYPE</th>\n",
              "      <th>CODE_GENDER</th>\n",
              "      <th>FLAG_OWN_CAR</th>\n",
              "      <th>FLAG_OWN_REALTY</th>\n",
              "      <th>CNT_CHILDREN</th>\n",
              "      <th>AMT_INCOME_TOTAL</th>\n",
              "      <th>AMT_CREDIT</th>\n",
              "      <th>AMT_ANNUITY</th>\n",
              "      <th>AMT_GOODS_PRICE</th>\n",
              "      <th>NAME_TYPE_SUITE</th>\n",
              "      <th>NAME_INCOME_TYPE</th>\n",
              "      <th>NAME_EDUCATION_TYPE</th>\n",
              "      <th>NAME_FAMILY_STATUS</th>\n",
              "      <th>NAME_HOUSING_TYPE</th>\n",
              "      <th>REGION_POPULATION_RELATIVE</th>\n",
              "      <th>DAYS_BIRTH</th>\n",
              "      <th>DAYS_EMPLOYED</th>\n",
              "      <th>DAYS_REGISTRATION</th>\n",
              "      <th>DAYS_ID_PUBLISH</th>\n",
              "      <th>OWN_CAR_AGE</th>\n",
              "      <th>FLAG_MOBIL</th>\n",
              "      <th>FLAG_EMP_PHONE</th>\n",
              "      <th>FLAG_WORK_PHONE</th>\n",
              "      <th>FLAG_CONT_MOBILE</th>\n",
              "      <th>FLAG_PHONE</th>\n",
              "      <th>FLAG_EMAIL</th>\n",
              "      <th>OCCUPATION_TYPE</th>\n",
              "      <th>CNT_FAM_MEMBERS</th>\n",
              "      <th>REGION_RATING_CLIENT</th>\n",
              "      <th>REGION_RATING_CLIENT_W_CITY</th>\n",
              "      <th>WEEKDAY_APPR_PROCESS_START</th>\n",
              "      <th>HOUR_APPR_PROCESS_START</th>\n",
              "      <th>REG_REGION_NOT_LIVE_REGION</th>\n",
              "      <th>REG_REGION_NOT_WORK_REGION</th>\n",
              "      <th>LIVE_REGION_NOT_WORK_REGION</th>\n",
              "      <th>REG_CITY_NOT_LIVE_CITY</th>\n",
              "      <th>REG_CITY_NOT_WORK_CITY</th>\n",
              "      <th>LIVE_CITY_NOT_WORK_CITY</th>\n",
              "      <th>...</th>\n",
              "      <th>LIVINGAPARTMENTS_MEDI</th>\n",
              "      <th>LIVINGAREA_MEDI</th>\n",
              "      <th>NONLIVINGAPARTMENTS_MEDI</th>\n",
              "      <th>NONLIVINGAREA_MEDI</th>\n",
              "      <th>FONDKAPREMONT_MODE</th>\n",
              "      <th>HOUSETYPE_MODE</th>\n",
              "      <th>TOTALAREA_MODE</th>\n",
              "      <th>WALLSMATERIAL_MODE</th>\n",
              "      <th>EMERGENCYSTATE_MODE</th>\n",
              "      <th>OBS_30_CNT_SOCIAL_CIRCLE</th>\n",
              "      <th>DEF_30_CNT_SOCIAL_CIRCLE</th>\n",
              "      <th>OBS_60_CNT_SOCIAL_CIRCLE</th>\n",
              "      <th>DEF_60_CNT_SOCIAL_CIRCLE</th>\n",
              "      <th>DAYS_LAST_PHONE_CHANGE</th>\n",
              "      <th>FLAG_DOCUMENT_2</th>\n",
              "      <th>FLAG_DOCUMENT_3</th>\n",
              "      <th>FLAG_DOCUMENT_4</th>\n",
              "      <th>FLAG_DOCUMENT_5</th>\n",
              "      <th>FLAG_DOCUMENT_6</th>\n",
              "      <th>FLAG_DOCUMENT_7</th>\n",
              "      <th>FLAG_DOCUMENT_8</th>\n",
              "      <th>FLAG_DOCUMENT_9</th>\n",
              "      <th>FLAG_DOCUMENT_10</th>\n",
              "      <th>FLAG_DOCUMENT_11</th>\n",
              "      <th>FLAG_DOCUMENT_12</th>\n",
              "      <th>FLAG_DOCUMENT_13</th>\n",
              "      <th>FLAG_DOCUMENT_14</th>\n",
              "      <th>FLAG_DOCUMENT_15</th>\n",
              "      <th>FLAG_DOCUMENT_16</th>\n",
              "      <th>FLAG_DOCUMENT_17</th>\n",
              "      <th>FLAG_DOCUMENT_18</th>\n",
              "      <th>FLAG_DOCUMENT_19</th>\n",
              "      <th>FLAG_DOCUMENT_20</th>\n",
              "      <th>FLAG_DOCUMENT_21</th>\n",
              "      <th>AMT_REQ_CREDIT_BUREAU_HOUR</th>\n",
              "      <th>AMT_REQ_CREDIT_BUREAU_DAY</th>\n",
              "      <th>AMT_REQ_CREDIT_BUREAU_WEEK</th>\n",
              "      <th>AMT_REQ_CREDIT_BUREAU_MON</th>\n",
              "      <th>AMT_REQ_CREDIT_BUREAU_QRT</th>\n",
              "      <th>AMT_REQ_CREDIT_BUREAU_YEAR</th>\n",
              "    </tr>\n",
              "  </thead>\n",
              "  <tbody>\n",
              "    <tr>\n",
              "      <th>0</th>\n",
              "      <td>100002</td>\n",
              "      <td>1</td>\n",
              "      <td>Cash loans</td>\n",
              "      <td>M</td>\n",
              "      <td>N</td>\n",
              "      <td>Y</td>\n",
              "      <td>0</td>\n",
              "      <td>202500.0</td>\n",
              "      <td>406597.5</td>\n",
              "      <td>24700.5</td>\n",
              "      <td>351000.0</td>\n",
              "      <td>Unaccompanied</td>\n",
              "      <td>Working</td>\n",
              "      <td>Secondary / secondary special</td>\n",
              "      <td>Single / not married</td>\n",
              "      <td>House / apartment</td>\n",
              "      <td>0.018801</td>\n",
              "      <td>-9461</td>\n",
              "      <td>-637</td>\n",
              "      <td>-3648</td>\n",
              "      <td>-2120</td>\n",
              "      <td>NaN</td>\n",
              "      <td>1</td>\n",
              "      <td>1</td>\n",
              "      <td>0</td>\n",
              "      <td>1</td>\n",
              "      <td>1</td>\n",
              "      <td>0</td>\n",
              "      <td>Laborers</td>\n",
              "      <td>1.0</td>\n",
              "      <td>2</td>\n",
              "      <td>2</td>\n",
              "      <td>WEDNESDAY</td>\n",
              "      <td>10</td>\n",
              "      <td>0</td>\n",
              "      <td>0</td>\n",
              "      <td>0</td>\n",
              "      <td>0</td>\n",
              "      <td>0</td>\n",
              "      <td>0</td>\n",
              "      <td>...</td>\n",
              "      <td>0.0205</td>\n",
              "      <td>0.0193</td>\n",
              "      <td>0.0000</td>\n",
              "      <td>0.00</td>\n",
              "      <td>reg oper account</td>\n",
              "      <td>block of flats</td>\n",
              "      <td>0.0149</td>\n",
              "      <td>Stone, brick</td>\n",
              "      <td>No</td>\n",
              "      <td>2.0</td>\n",
              "      <td>2.0</td>\n",
              "      <td>2.0</td>\n",
              "      <td>2.0</td>\n",
              "      <td>-1134.0</td>\n",
              "      <td>0</td>\n",
              "      <td>1</td>\n",
              "      <td>0</td>\n",
              "      <td>0</td>\n",
              "      <td>0</td>\n",
              "      <td>0</td>\n",
              "      <td>0</td>\n",
              "      <td>0</td>\n",
              "      <td>0</td>\n",
              "      <td>0</td>\n",
              "      <td>0</td>\n",
              "      <td>0</td>\n",
              "      <td>0</td>\n",
              "      <td>0</td>\n",
              "      <td>0</td>\n",
              "      <td>0</td>\n",
              "      <td>0</td>\n",
              "      <td>0</td>\n",
              "      <td>0</td>\n",
              "      <td>0</td>\n",
              "      <td>0.0</td>\n",
              "      <td>0.0</td>\n",
              "      <td>0.0</td>\n",
              "      <td>0.0</td>\n",
              "      <td>0.0</td>\n",
              "      <td>1.0</td>\n",
              "    </tr>\n",
              "    <tr>\n",
              "      <th>1</th>\n",
              "      <td>100003</td>\n",
              "      <td>0</td>\n",
              "      <td>Cash loans</td>\n",
              "      <td>F</td>\n",
              "      <td>N</td>\n",
              "      <td>N</td>\n",
              "      <td>0</td>\n",
              "      <td>270000.0</td>\n",
              "      <td>1293502.5</td>\n",
              "      <td>35698.5</td>\n",
              "      <td>1129500.0</td>\n",
              "      <td>Family</td>\n",
              "      <td>State servant</td>\n",
              "      <td>Higher education</td>\n",
              "      <td>Married</td>\n",
              "      <td>House / apartment</td>\n",
              "      <td>0.003541</td>\n",
              "      <td>-16765</td>\n",
              "      <td>-1188</td>\n",
              "      <td>-1186</td>\n",
              "      <td>-291</td>\n",
              "      <td>NaN</td>\n",
              "      <td>1</td>\n",
              "      <td>1</td>\n",
              "      <td>0</td>\n",
              "      <td>1</td>\n",
              "      <td>1</td>\n",
              "      <td>0</td>\n",
              "      <td>Core staff</td>\n",
              "      <td>2.0</td>\n",
              "      <td>1</td>\n",
              "      <td>1</td>\n",
              "      <td>MONDAY</td>\n",
              "      <td>11</td>\n",
              "      <td>0</td>\n",
              "      <td>0</td>\n",
              "      <td>0</td>\n",
              "      <td>0</td>\n",
              "      <td>0</td>\n",
              "      <td>0</td>\n",
              "      <td>...</td>\n",
              "      <td>0.0787</td>\n",
              "      <td>0.0558</td>\n",
              "      <td>0.0039</td>\n",
              "      <td>0.01</td>\n",
              "      <td>reg oper account</td>\n",
              "      <td>block of flats</td>\n",
              "      <td>0.0714</td>\n",
              "      <td>Block</td>\n",
              "      <td>No</td>\n",
              "      <td>1.0</td>\n",
              "      <td>0.0</td>\n",
              "      <td>1.0</td>\n",
              "      <td>0.0</td>\n",
              "      <td>-828.0</td>\n",
              "      <td>0</td>\n",
              "      <td>1</td>\n",
              "      <td>0</td>\n",
              "      <td>0</td>\n",
              "      <td>0</td>\n",
              "      <td>0</td>\n",
              "      <td>0</td>\n",
              "      <td>0</td>\n",
              "      <td>0</td>\n",
              "      <td>0</td>\n",
              "      <td>0</td>\n",
              "      <td>0</td>\n",
              "      <td>0</td>\n",
              "      <td>0</td>\n",
              "      <td>0</td>\n",
              "      <td>0</td>\n",
              "      <td>0</td>\n",
              "      <td>0</td>\n",
              "      <td>0</td>\n",
              "      <td>0</td>\n",
              "      <td>0.0</td>\n",
              "      <td>0.0</td>\n",
              "      <td>0.0</td>\n",
              "      <td>0.0</td>\n",
              "      <td>0.0</td>\n",
              "      <td>0.0</td>\n",
              "    </tr>\n",
              "  </tbody>\n",
              "</table>\n",
              "<p>2 rows × 122 columns</p>\n",
              "</div>"
            ],
            "text/plain": [
              "   SK_ID_CURR  TARGET  ... AMT_REQ_CREDIT_BUREAU_QRT AMT_REQ_CREDIT_BUREAU_YEAR\n",
              "0      100002       1  ...                       0.0                        1.0\n",
              "1      100003       0  ...                       0.0                        0.0\n",
              "\n",
              "[2 rows x 122 columns]"
            ]
          },
          "metadata": {
            "tags": []
          },
          "execution_count": 8
        }
      ]
    },
    {
      "cell_type": "code",
      "metadata": {
        "colab": {
          "base_uri": "https://localhost:8080/"
        },
        "id": "I_w0bnPMrz09",
        "outputId": "42a3b579-1e06-44ee-f3ee-49f2ae1b1d2d"
      },
      "source": [
        "df['NAME_CONTRACT_TYPE'].value_counts() #contract_types"
      ],
      "execution_count": null,
      "outputs": [
        {
          "output_type": "execute_result",
          "data": {
            "text/plain": [
              "Cash loans         54457\n",
              "Revolving loans     5716\n",
              "Name: NAME_CONTRACT_TYPE, dtype: int64"
            ]
          },
          "metadata": {
            "tags": []
          },
          "execution_count": 9
        }
      ]
    },
    {
      "cell_type": "code",
      "metadata": {
        "colab": {
          "base_uri": "https://localhost:8080/"
        },
        "id": "QlwgdMZQsxP5",
        "outputId": "797beb35-b16c-4a0c-84ed-35ddc25ec4b0"
      },
      "source": [
        "df['CODE_GENDER'].value_counts() #Gender"
      ],
      "execution_count": null,
      "outputs": [
        {
          "output_type": "execute_result",
          "data": {
            "text/plain": [
              "F      39535\n",
              "M      20636\n",
              "XNA        2\n",
              "Name: CODE_GENDER, dtype: int64"
            ]
          },
          "metadata": {
            "tags": []
          },
          "execution_count": 10
        }
      ]
    },
    {
      "cell_type": "code",
      "metadata": {
        "colab": {
          "base_uri": "https://localhost:8080/"
        },
        "id": "lH242kV4s74t",
        "outputId": "5552d579-958e-40e3-b951-97e6b47d2e57"
      },
      "source": [
        "df['NAME_INCOME_TYPE'].value_counts() #income_type"
      ],
      "execution_count": null,
      "outputs": [
        {
          "output_type": "execute_result",
          "data": {
            "text/plain": [
              "Working                 31203\n",
              "Commercial associate    14008\n",
              "Pensioner               10686\n",
              "State servant            4261\n",
              "Unemployed                  6\n",
              "Student                     6\n",
              "Businessman                 2\n",
              "Maternity leave             1\n",
              "Name: NAME_INCOME_TYPE, dtype: int64"
            ]
          },
          "metadata": {
            "tags": []
          },
          "execution_count": 11
        }
      ]
    },
    {
      "cell_type": "code",
      "metadata": {
        "colab": {
          "base_uri": "https://localhost:8080/"
        },
        "id": "SJmD6vJGtZnQ",
        "outputId": "3881993d-b71e-405e-9d27-98fb01cfd3fa"
      },
      "source": [
        "df['NAME_FAMILY_STATUS'].value_counts() #family status"
      ],
      "execution_count": null,
      "outputs": [
        {
          "output_type": "execute_result",
          "data": {
            "text/plain": [
              "Married                 38570\n",
              "Single / not married     8784\n",
              "Civil marriage           5846\n",
              "Separated                3840\n",
              "Widow                    3132\n",
              "Unknown                     1\n",
              "Name: NAME_FAMILY_STATUS, dtype: int64"
            ]
          },
          "metadata": {
            "tags": []
          },
          "execution_count": 12
        }
      ]
    },
    {
      "cell_type": "code",
      "metadata": {
        "colab": {
          "base_uri": "https://localhost:8080/"
        },
        "id": "8NFaBVbqtlOK",
        "outputId": "11391a7e-62fc-4df4-f254-c702905656cd"
      },
      "source": [
        "df['NAME_HOUSING_TYPE'].value_counts() #housing type"
      ],
      "execution_count": null,
      "outputs": [
        {
          "output_type": "execute_result",
          "data": {
            "text/plain": [
              "House / apartment      53427\n",
              "With parents            2902\n",
              "Municipal apartment     2197\n",
              "Rented apartment         929\n",
              "Office apartment         503\n",
              "Co-op apartment          215\n",
              "Name: NAME_HOUSING_TYPE, dtype: int64"
            ]
          },
          "metadata": {
            "tags": []
          },
          "execution_count": 13
        }
      ]
    },
    {
      "cell_type": "code",
      "metadata": {
        "colab": {
          "base_uri": "https://localhost:8080/"
        },
        "id": "zL0wAlu5tw-q",
        "outputId": "c89b9dd1-51e4-4d60-e87f-936ca1159ad9"
      },
      "source": [
        "df['OCCUPATION_TYPE'].value_counts() #occupation type"
      ],
      "execution_count": null,
      "outputs": [
        {
          "output_type": "execute_result",
          "data": {
            "text/plain": [
              "Laborers                 10810\n",
              "Sales staff               6269\n",
              "Core staff                5373\n",
              "Managers                  4178\n",
              "Drivers                   3656\n",
              "High skill tech staff     2197\n",
              "Accountants               1943\n",
              "Medicine staff            1687\n",
              "Security staff            1353\n",
              "Cooking staff             1173\n",
              "Cleaning staff             878\n",
              "Private service staff      531\n",
              "Low-skill Laborers         422\n",
              "Waiters/barmen staff       265\n",
              "Secretaries                252\n",
              "Realty agents              146\n",
              "HR staff                   116\n",
              "IT staff                   100\n",
              "Name: OCCUPATION_TYPE, dtype: int64"
            ]
          },
          "metadata": {
            "tags": []
          },
          "execution_count": 14
        }
      ]
    },
    {
      "cell_type": "code",
      "metadata": {
        "colab": {
          "base_uri": "https://localhost:8080/"
        },
        "id": "5XweHYMIuPA1",
        "outputId": "90230c9d-3679-4a28-9fbb-87163bee3617"
      },
      "source": [
        "#check for number of missing values\n",
        "df.isnull().sum()"
      ],
      "execution_count": null,
      "outputs": [
        {
          "output_type": "execute_result",
          "data": {
            "text/plain": [
              "SK_ID_CURR                       0\n",
              "TARGET                           0\n",
              "NAME_CONTRACT_TYPE               0\n",
              "CODE_GENDER                      0\n",
              "FLAG_OWN_CAR                     0\n",
              "                              ... \n",
              "AMT_REQ_CREDIT_BUREAU_DAY     8053\n",
              "AMT_REQ_CREDIT_BUREAU_WEEK    8053\n",
              "AMT_REQ_CREDIT_BUREAU_MON     8053\n",
              "AMT_REQ_CREDIT_BUREAU_QRT     8053\n",
              "AMT_REQ_CREDIT_BUREAU_YEAR    8053\n",
              "Length: 122, dtype: int64"
            ]
          },
          "metadata": {
            "tags": []
          },
          "execution_count": 15
        }
      ]
    },
    {
      "cell_type": "code",
      "metadata": {
        "colab": {
          "base_uri": "https://localhost:8080/"
        },
        "id": "TaAGll54yd_X",
        "outputId": "efb48c86-7d8b-465b-f6f1-dca9aae2412f"
      },
      "source": [
        "df[df.isnull()].columns "
      ],
      "execution_count": null,
      "outputs": [
        {
          "output_type": "execute_result",
          "data": {
            "text/plain": [
              "Index(['SK_ID_CURR', 'TARGET', 'NAME_CONTRACT_TYPE', 'CODE_GENDER',\n",
              "       'FLAG_OWN_CAR', 'FLAG_OWN_REALTY', 'CNT_CHILDREN', 'AMT_INCOME_TOTAL',\n",
              "       'AMT_CREDIT', 'AMT_ANNUITY',\n",
              "       ...\n",
              "       'FLAG_DOCUMENT_18', 'FLAG_DOCUMENT_19', 'FLAG_DOCUMENT_20',\n",
              "       'FLAG_DOCUMENT_21', 'AMT_REQ_CREDIT_BUREAU_HOUR',\n",
              "       'AMT_REQ_CREDIT_BUREAU_DAY', 'AMT_REQ_CREDIT_BUREAU_WEEK',\n",
              "       'AMT_REQ_CREDIT_BUREAU_MON', 'AMT_REQ_CREDIT_BUREAU_QRT',\n",
              "       'AMT_REQ_CREDIT_BUREAU_YEAR'],\n",
              "      dtype='object', length=122)"
            ]
          },
          "metadata": {
            "tags": []
          },
          "execution_count": 16
        }
      ]
    },
    {
      "cell_type": "code",
      "metadata": {
        "colab": {
          "base_uri": "https://localhost:8080/",
          "height": 362
        },
        "id": "0Tub-uXH1jtG",
        "outputId": "1d654a72-2f77-46f5-c988-a60c71a237ee"
      },
      "source": [
        "# Checking missing values in the table\n",
        "total = df.isnull().sum().sort_values(ascending=False)\n",
        "missing = (df.isnull().sum() / df.isnull().count() * 100).sort_values(ascending=False)\n",
        "missing_percent  = pd.concat([total, missing], axis=1, keys=[\"Total\", \"Missing (%)\"])\n",
        "missing_percent.head(10)"
      ],
      "execution_count": null,
      "outputs": [
        {
          "output_type": "execute_result",
          "data": {
            "text/html": [
              "<div>\n",
              "<style scoped>\n",
              "    .dataframe tbody tr th:only-of-type {\n",
              "        vertical-align: middle;\n",
              "    }\n",
              "\n",
              "    .dataframe tbody tr th {\n",
              "        vertical-align: top;\n",
              "    }\n",
              "\n",
              "    .dataframe thead th {\n",
              "        text-align: right;\n",
              "    }\n",
              "</style>\n",
              "<table border=\"1\" class=\"dataframe\">\n",
              "  <thead>\n",
              "    <tr style=\"text-align: right;\">\n",
              "      <th></th>\n",
              "      <th>Total</th>\n",
              "      <th>Missing (%)</th>\n",
              "    </tr>\n",
              "  </thead>\n",
              "  <tbody>\n",
              "    <tr>\n",
              "      <th>COMMONAREA_MEDI</th>\n",
              "      <td>42026</td>\n",
              "      <td>69.841956</td>\n",
              "    </tr>\n",
              "    <tr>\n",
              "      <th>COMMONAREA_AVG</th>\n",
              "      <td>42026</td>\n",
              "      <td>69.841956</td>\n",
              "    </tr>\n",
              "    <tr>\n",
              "      <th>COMMONAREA_MODE</th>\n",
              "      <td>42026</td>\n",
              "      <td>69.841956</td>\n",
              "    </tr>\n",
              "    <tr>\n",
              "      <th>NONLIVINGAPARTMENTS_MODE</th>\n",
              "      <td>41758</td>\n",
              "      <td>69.396573</td>\n",
              "    </tr>\n",
              "    <tr>\n",
              "      <th>NONLIVINGAPARTMENTS_MEDI</th>\n",
              "      <td>41758</td>\n",
              "      <td>69.396573</td>\n",
              "    </tr>\n",
              "    <tr>\n",
              "      <th>NONLIVINGAPARTMENTS_AVG</th>\n",
              "      <td>41758</td>\n",
              "      <td>69.396573</td>\n",
              "    </tr>\n",
              "    <tr>\n",
              "      <th>LIVINGAPARTMENTS_MEDI</th>\n",
              "      <td>41156</td>\n",
              "      <td>68.396125</td>\n",
              "    </tr>\n",
              "    <tr>\n",
              "      <th>LIVINGAPARTMENTS_MODE</th>\n",
              "      <td>41156</td>\n",
              "      <td>68.396125</td>\n",
              "    </tr>\n",
              "    <tr>\n",
              "      <th>LIVINGAPARTMENTS_AVG</th>\n",
              "      <td>41156</td>\n",
              "      <td>68.396125</td>\n",
              "    </tr>\n",
              "    <tr>\n",
              "      <th>FONDKAPREMONT_MODE</th>\n",
              "      <td>41094</td>\n",
              "      <td>68.293088</td>\n",
              "    </tr>\n",
              "  </tbody>\n",
              "</table>\n",
              "</div>"
            ],
            "text/plain": [
              "                          Total  Missing (%)\n",
              "COMMONAREA_MEDI           42026    69.841956\n",
              "COMMONAREA_AVG            42026    69.841956\n",
              "COMMONAREA_MODE           42026    69.841956\n",
              "NONLIVINGAPARTMENTS_MODE  41758    69.396573\n",
              "NONLIVINGAPARTMENTS_MEDI  41758    69.396573\n",
              "NONLIVINGAPARTMENTS_AVG   41758    69.396573\n",
              "LIVINGAPARTMENTS_MEDI     41156    68.396125\n",
              "LIVINGAPARTMENTS_MODE     41156    68.396125\n",
              "LIVINGAPARTMENTS_AVG      41156    68.396125\n",
              "FONDKAPREMONT_MODE        41094    68.293088"
            ]
          },
          "metadata": {
            "tags": []
          },
          "execution_count": 17
        }
      ]
    },
    {
      "cell_type": "markdown",
      "metadata": {
        "id": "xgQEXlE09DaO"
      },
      "source": [
        "There are a lot of missing values and if we were to drop all the missing values, we might loose info. So, let's not remove them as of now."
      ]
    },
    {
      "cell_type": "markdown",
      "metadata": {
        "id": "cl7tq82K6igF"
      },
      "source": [
        "### Feature Engineering:"
      ]
    },
    {
      "cell_type": "code",
      "metadata": {
        "id": "hP-aTwfq6Egy"
      },
      "source": [
        "def flag_label(col):\n",
        "  map = {'Y': 1, 'N':0}\n",
        "  if col in map.keys():\n",
        "    value=map[col]\n",
        "  return value"
      ],
      "execution_count": null,
      "outputs": []
    },
    {
      "cell_type": "code",
      "metadata": {
        "id": "PGMrsxIh7jid"
      },
      "source": [
        "df['FLAG_OWN_CAR']=df['FLAG_OWN_CAR'].apply(lambda x: flag_label(x))\n",
        "df['FLAG_OWN_REALTY']=df['FLAG_OWN_REALTY'].apply(lambda x: flag_label(x))"
      ],
      "execution_count": null,
      "outputs": []
    },
    {
      "cell_type": "code",
      "metadata": {
        "colab": {
          "base_uri": "https://localhost:8080/",
          "height": 324
        },
        "id": "pCeLp2EDB-59",
        "outputId": "00c407d1-26ae-4278-e223-8736eab1ec6e"
      },
      "source": [
        "df.head(5)"
      ],
      "execution_count": null,
      "outputs": [
        {
          "output_type": "execute_result",
          "data": {
            "text/html": [
              "<div>\n",
              "<style scoped>\n",
              "    .dataframe tbody tr th:only-of-type {\n",
              "        vertical-align: middle;\n",
              "    }\n",
              "\n",
              "    .dataframe tbody tr th {\n",
              "        vertical-align: top;\n",
              "    }\n",
              "\n",
              "    .dataframe thead th {\n",
              "        text-align: right;\n",
              "    }\n",
              "</style>\n",
              "<table border=\"1\" class=\"dataframe\">\n",
              "  <thead>\n",
              "    <tr style=\"text-align: right;\">\n",
              "      <th></th>\n",
              "      <th>SK_ID_CURR</th>\n",
              "      <th>TARGET</th>\n",
              "      <th>NAME_CONTRACT_TYPE</th>\n",
              "      <th>CODE_GENDER</th>\n",
              "      <th>FLAG_OWN_CAR</th>\n",
              "      <th>FLAG_OWN_REALTY</th>\n",
              "      <th>CNT_CHILDREN</th>\n",
              "      <th>AMT_INCOME_TOTAL</th>\n",
              "      <th>AMT_CREDIT</th>\n",
              "      <th>AMT_ANNUITY</th>\n",
              "      <th>AMT_GOODS_PRICE</th>\n",
              "      <th>NAME_TYPE_SUITE</th>\n",
              "      <th>NAME_INCOME_TYPE</th>\n",
              "      <th>NAME_EDUCATION_TYPE</th>\n",
              "      <th>NAME_FAMILY_STATUS</th>\n",
              "      <th>NAME_HOUSING_TYPE</th>\n",
              "      <th>REGION_POPULATION_RELATIVE</th>\n",
              "      <th>DAYS_BIRTH</th>\n",
              "      <th>DAYS_EMPLOYED</th>\n",
              "      <th>DAYS_REGISTRATION</th>\n",
              "      <th>DAYS_ID_PUBLISH</th>\n",
              "      <th>OWN_CAR_AGE</th>\n",
              "      <th>FLAG_MOBIL</th>\n",
              "      <th>FLAG_EMP_PHONE</th>\n",
              "      <th>FLAG_WORK_PHONE</th>\n",
              "      <th>FLAG_CONT_MOBILE</th>\n",
              "      <th>FLAG_PHONE</th>\n",
              "      <th>FLAG_EMAIL</th>\n",
              "      <th>OCCUPATION_TYPE</th>\n",
              "      <th>CNT_FAM_MEMBERS</th>\n",
              "      <th>REGION_RATING_CLIENT</th>\n",
              "      <th>REGION_RATING_CLIENT_W_CITY</th>\n",
              "      <th>WEEKDAY_APPR_PROCESS_START</th>\n",
              "      <th>HOUR_APPR_PROCESS_START</th>\n",
              "      <th>REG_REGION_NOT_LIVE_REGION</th>\n",
              "      <th>REG_REGION_NOT_WORK_REGION</th>\n",
              "      <th>LIVE_REGION_NOT_WORK_REGION</th>\n",
              "      <th>REG_CITY_NOT_LIVE_CITY</th>\n",
              "      <th>REG_CITY_NOT_WORK_CITY</th>\n",
              "      <th>LIVE_CITY_NOT_WORK_CITY</th>\n",
              "      <th>...</th>\n",
              "      <th>LIVINGAPARTMENTS_MEDI</th>\n",
              "      <th>LIVINGAREA_MEDI</th>\n",
              "      <th>NONLIVINGAPARTMENTS_MEDI</th>\n",
              "      <th>NONLIVINGAREA_MEDI</th>\n",
              "      <th>FONDKAPREMONT_MODE</th>\n",
              "      <th>HOUSETYPE_MODE</th>\n",
              "      <th>TOTALAREA_MODE</th>\n",
              "      <th>WALLSMATERIAL_MODE</th>\n",
              "      <th>EMERGENCYSTATE_MODE</th>\n",
              "      <th>OBS_30_CNT_SOCIAL_CIRCLE</th>\n",
              "      <th>DEF_30_CNT_SOCIAL_CIRCLE</th>\n",
              "      <th>OBS_60_CNT_SOCIAL_CIRCLE</th>\n",
              "      <th>DEF_60_CNT_SOCIAL_CIRCLE</th>\n",
              "      <th>DAYS_LAST_PHONE_CHANGE</th>\n",
              "      <th>FLAG_DOCUMENT_2</th>\n",
              "      <th>FLAG_DOCUMENT_3</th>\n",
              "      <th>FLAG_DOCUMENT_4</th>\n",
              "      <th>FLAG_DOCUMENT_5</th>\n",
              "      <th>FLAG_DOCUMENT_6</th>\n",
              "      <th>FLAG_DOCUMENT_7</th>\n",
              "      <th>FLAG_DOCUMENT_8</th>\n",
              "      <th>FLAG_DOCUMENT_9</th>\n",
              "      <th>FLAG_DOCUMENT_10</th>\n",
              "      <th>FLAG_DOCUMENT_11</th>\n",
              "      <th>FLAG_DOCUMENT_12</th>\n",
              "      <th>FLAG_DOCUMENT_13</th>\n",
              "      <th>FLAG_DOCUMENT_14</th>\n",
              "      <th>FLAG_DOCUMENT_15</th>\n",
              "      <th>FLAG_DOCUMENT_16</th>\n",
              "      <th>FLAG_DOCUMENT_17</th>\n",
              "      <th>FLAG_DOCUMENT_18</th>\n",
              "      <th>FLAG_DOCUMENT_19</th>\n",
              "      <th>FLAG_DOCUMENT_20</th>\n",
              "      <th>FLAG_DOCUMENT_21</th>\n",
              "      <th>AMT_REQ_CREDIT_BUREAU_HOUR</th>\n",
              "      <th>AMT_REQ_CREDIT_BUREAU_DAY</th>\n",
              "      <th>AMT_REQ_CREDIT_BUREAU_WEEK</th>\n",
              "      <th>AMT_REQ_CREDIT_BUREAU_MON</th>\n",
              "      <th>AMT_REQ_CREDIT_BUREAU_QRT</th>\n",
              "      <th>AMT_REQ_CREDIT_BUREAU_YEAR</th>\n",
              "    </tr>\n",
              "  </thead>\n",
              "  <tbody>\n",
              "    <tr>\n",
              "      <th>0</th>\n",
              "      <td>100002</td>\n",
              "      <td>1</td>\n",
              "      <td>Cash loans</td>\n",
              "      <td>M</td>\n",
              "      <td>0</td>\n",
              "      <td>1</td>\n",
              "      <td>0</td>\n",
              "      <td>202500.0</td>\n",
              "      <td>406597.5</td>\n",
              "      <td>24700.5</td>\n",
              "      <td>351000.0</td>\n",
              "      <td>Unaccompanied</td>\n",
              "      <td>Working</td>\n",
              "      <td>Secondary / secondary special</td>\n",
              "      <td>Single / not married</td>\n",
              "      <td>House / apartment</td>\n",
              "      <td>0.018801</td>\n",
              "      <td>-9461</td>\n",
              "      <td>-637</td>\n",
              "      <td>-3648</td>\n",
              "      <td>-2120</td>\n",
              "      <td>NaN</td>\n",
              "      <td>1</td>\n",
              "      <td>1</td>\n",
              "      <td>0</td>\n",
              "      <td>1</td>\n",
              "      <td>1</td>\n",
              "      <td>0</td>\n",
              "      <td>Laborers</td>\n",
              "      <td>1.0</td>\n",
              "      <td>2</td>\n",
              "      <td>2</td>\n",
              "      <td>WEDNESDAY</td>\n",
              "      <td>10</td>\n",
              "      <td>0</td>\n",
              "      <td>0</td>\n",
              "      <td>0</td>\n",
              "      <td>0</td>\n",
              "      <td>0</td>\n",
              "      <td>0</td>\n",
              "      <td>...</td>\n",
              "      <td>0.0205</td>\n",
              "      <td>0.0193</td>\n",
              "      <td>0.0000</td>\n",
              "      <td>0.00</td>\n",
              "      <td>reg oper account</td>\n",
              "      <td>block of flats</td>\n",
              "      <td>0.0149</td>\n",
              "      <td>Stone, brick</td>\n",
              "      <td>No</td>\n",
              "      <td>2.0</td>\n",
              "      <td>2.0</td>\n",
              "      <td>2.0</td>\n",
              "      <td>2.0</td>\n",
              "      <td>-1134.0</td>\n",
              "      <td>0</td>\n",
              "      <td>1</td>\n",
              "      <td>0</td>\n",
              "      <td>0</td>\n",
              "      <td>0</td>\n",
              "      <td>0</td>\n",
              "      <td>0</td>\n",
              "      <td>0</td>\n",
              "      <td>0</td>\n",
              "      <td>0</td>\n",
              "      <td>0</td>\n",
              "      <td>0</td>\n",
              "      <td>0</td>\n",
              "      <td>0</td>\n",
              "      <td>0</td>\n",
              "      <td>0</td>\n",
              "      <td>0</td>\n",
              "      <td>0</td>\n",
              "      <td>0</td>\n",
              "      <td>0</td>\n",
              "      <td>0.0</td>\n",
              "      <td>0.0</td>\n",
              "      <td>0.0</td>\n",
              "      <td>0.0</td>\n",
              "      <td>0.0</td>\n",
              "      <td>1.0</td>\n",
              "    </tr>\n",
              "    <tr>\n",
              "      <th>1</th>\n",
              "      <td>100003</td>\n",
              "      <td>0</td>\n",
              "      <td>Cash loans</td>\n",
              "      <td>F</td>\n",
              "      <td>0</td>\n",
              "      <td>0</td>\n",
              "      <td>0</td>\n",
              "      <td>270000.0</td>\n",
              "      <td>1293502.5</td>\n",
              "      <td>35698.5</td>\n",
              "      <td>1129500.0</td>\n",
              "      <td>Family</td>\n",
              "      <td>State servant</td>\n",
              "      <td>Higher education</td>\n",
              "      <td>Married</td>\n",
              "      <td>House / apartment</td>\n",
              "      <td>0.003541</td>\n",
              "      <td>-16765</td>\n",
              "      <td>-1188</td>\n",
              "      <td>-1186</td>\n",
              "      <td>-291</td>\n",
              "      <td>NaN</td>\n",
              "      <td>1</td>\n",
              "      <td>1</td>\n",
              "      <td>0</td>\n",
              "      <td>1</td>\n",
              "      <td>1</td>\n",
              "      <td>0</td>\n",
              "      <td>Core staff</td>\n",
              "      <td>2.0</td>\n",
              "      <td>1</td>\n",
              "      <td>1</td>\n",
              "      <td>MONDAY</td>\n",
              "      <td>11</td>\n",
              "      <td>0</td>\n",
              "      <td>0</td>\n",
              "      <td>0</td>\n",
              "      <td>0</td>\n",
              "      <td>0</td>\n",
              "      <td>0</td>\n",
              "      <td>...</td>\n",
              "      <td>0.0787</td>\n",
              "      <td>0.0558</td>\n",
              "      <td>0.0039</td>\n",
              "      <td>0.01</td>\n",
              "      <td>reg oper account</td>\n",
              "      <td>block of flats</td>\n",
              "      <td>0.0714</td>\n",
              "      <td>Block</td>\n",
              "      <td>No</td>\n",
              "      <td>1.0</td>\n",
              "      <td>0.0</td>\n",
              "      <td>1.0</td>\n",
              "      <td>0.0</td>\n",
              "      <td>-828.0</td>\n",
              "      <td>0</td>\n",
              "      <td>1</td>\n",
              "      <td>0</td>\n",
              "      <td>0</td>\n",
              "      <td>0</td>\n",
              "      <td>0</td>\n",
              "      <td>0</td>\n",
              "      <td>0</td>\n",
              "      <td>0</td>\n",
              "      <td>0</td>\n",
              "      <td>0</td>\n",
              "      <td>0</td>\n",
              "      <td>0</td>\n",
              "      <td>0</td>\n",
              "      <td>0</td>\n",
              "      <td>0</td>\n",
              "      <td>0</td>\n",
              "      <td>0</td>\n",
              "      <td>0</td>\n",
              "      <td>0</td>\n",
              "      <td>0.0</td>\n",
              "      <td>0.0</td>\n",
              "      <td>0.0</td>\n",
              "      <td>0.0</td>\n",
              "      <td>0.0</td>\n",
              "      <td>0.0</td>\n",
              "    </tr>\n",
              "    <tr>\n",
              "      <th>2</th>\n",
              "      <td>100004</td>\n",
              "      <td>0</td>\n",
              "      <td>Revolving loans</td>\n",
              "      <td>M</td>\n",
              "      <td>1</td>\n",
              "      <td>1</td>\n",
              "      <td>0</td>\n",
              "      <td>67500.0</td>\n",
              "      <td>135000.0</td>\n",
              "      <td>6750.0</td>\n",
              "      <td>135000.0</td>\n",
              "      <td>Unaccompanied</td>\n",
              "      <td>Working</td>\n",
              "      <td>Secondary / secondary special</td>\n",
              "      <td>Single / not married</td>\n",
              "      <td>House / apartment</td>\n",
              "      <td>0.010032</td>\n",
              "      <td>-19046</td>\n",
              "      <td>-225</td>\n",
              "      <td>-4260</td>\n",
              "      <td>-2531</td>\n",
              "      <td>26.0</td>\n",
              "      <td>1</td>\n",
              "      <td>1</td>\n",
              "      <td>1</td>\n",
              "      <td>1</td>\n",
              "      <td>1</td>\n",
              "      <td>0</td>\n",
              "      <td>Laborers</td>\n",
              "      <td>1.0</td>\n",
              "      <td>2</td>\n",
              "      <td>2</td>\n",
              "      <td>MONDAY</td>\n",
              "      <td>9</td>\n",
              "      <td>0</td>\n",
              "      <td>0</td>\n",
              "      <td>0</td>\n",
              "      <td>0</td>\n",
              "      <td>0</td>\n",
              "      <td>0</td>\n",
              "      <td>...</td>\n",
              "      <td>NaN</td>\n",
              "      <td>NaN</td>\n",
              "      <td>NaN</td>\n",
              "      <td>NaN</td>\n",
              "      <td>NaN</td>\n",
              "      <td>NaN</td>\n",
              "      <td>NaN</td>\n",
              "      <td>NaN</td>\n",
              "      <td>NaN</td>\n",
              "      <td>0.0</td>\n",
              "      <td>0.0</td>\n",
              "      <td>0.0</td>\n",
              "      <td>0.0</td>\n",
              "      <td>-815.0</td>\n",
              "      <td>0</td>\n",
              "      <td>0</td>\n",
              "      <td>0</td>\n",
              "      <td>0</td>\n",
              "      <td>0</td>\n",
              "      <td>0</td>\n",
              "      <td>0</td>\n",
              "      <td>0</td>\n",
              "      <td>0</td>\n",
              "      <td>0</td>\n",
              "      <td>0</td>\n",
              "      <td>0</td>\n",
              "      <td>0</td>\n",
              "      <td>0</td>\n",
              "      <td>0</td>\n",
              "      <td>0</td>\n",
              "      <td>0</td>\n",
              "      <td>0</td>\n",
              "      <td>0</td>\n",
              "      <td>0</td>\n",
              "      <td>0.0</td>\n",
              "      <td>0.0</td>\n",
              "      <td>0.0</td>\n",
              "      <td>0.0</td>\n",
              "      <td>0.0</td>\n",
              "      <td>0.0</td>\n",
              "    </tr>\n",
              "    <tr>\n",
              "      <th>3</th>\n",
              "      <td>100006</td>\n",
              "      <td>0</td>\n",
              "      <td>Cash loans</td>\n",
              "      <td>F</td>\n",
              "      <td>0</td>\n",
              "      <td>1</td>\n",
              "      <td>0</td>\n",
              "      <td>135000.0</td>\n",
              "      <td>312682.5</td>\n",
              "      <td>29686.5</td>\n",
              "      <td>297000.0</td>\n",
              "      <td>Unaccompanied</td>\n",
              "      <td>Working</td>\n",
              "      <td>Secondary / secondary special</td>\n",
              "      <td>Civil marriage</td>\n",
              "      <td>House / apartment</td>\n",
              "      <td>0.008019</td>\n",
              "      <td>-19005</td>\n",
              "      <td>-3039</td>\n",
              "      <td>-9833</td>\n",
              "      <td>-2437</td>\n",
              "      <td>NaN</td>\n",
              "      <td>1</td>\n",
              "      <td>1</td>\n",
              "      <td>0</td>\n",
              "      <td>1</td>\n",
              "      <td>0</td>\n",
              "      <td>0</td>\n",
              "      <td>Laborers</td>\n",
              "      <td>2.0</td>\n",
              "      <td>2</td>\n",
              "      <td>2</td>\n",
              "      <td>WEDNESDAY</td>\n",
              "      <td>17</td>\n",
              "      <td>0</td>\n",
              "      <td>0</td>\n",
              "      <td>0</td>\n",
              "      <td>0</td>\n",
              "      <td>0</td>\n",
              "      <td>0</td>\n",
              "      <td>...</td>\n",
              "      <td>NaN</td>\n",
              "      <td>NaN</td>\n",
              "      <td>NaN</td>\n",
              "      <td>NaN</td>\n",
              "      <td>NaN</td>\n",
              "      <td>NaN</td>\n",
              "      <td>NaN</td>\n",
              "      <td>NaN</td>\n",
              "      <td>NaN</td>\n",
              "      <td>2.0</td>\n",
              "      <td>0.0</td>\n",
              "      <td>2.0</td>\n",
              "      <td>0.0</td>\n",
              "      <td>-617.0</td>\n",
              "      <td>0</td>\n",
              "      <td>1</td>\n",
              "      <td>0</td>\n",
              "      <td>0</td>\n",
              "      <td>0</td>\n",
              "      <td>0</td>\n",
              "      <td>0</td>\n",
              "      <td>0</td>\n",
              "      <td>0</td>\n",
              "      <td>0</td>\n",
              "      <td>0</td>\n",
              "      <td>0</td>\n",
              "      <td>0</td>\n",
              "      <td>0</td>\n",
              "      <td>0</td>\n",
              "      <td>0</td>\n",
              "      <td>0</td>\n",
              "      <td>0</td>\n",
              "      <td>0</td>\n",
              "      <td>0</td>\n",
              "      <td>NaN</td>\n",
              "      <td>NaN</td>\n",
              "      <td>NaN</td>\n",
              "      <td>NaN</td>\n",
              "      <td>NaN</td>\n",
              "      <td>NaN</td>\n",
              "    </tr>\n",
              "    <tr>\n",
              "      <th>4</th>\n",
              "      <td>100007</td>\n",
              "      <td>0</td>\n",
              "      <td>Cash loans</td>\n",
              "      <td>M</td>\n",
              "      <td>0</td>\n",
              "      <td>1</td>\n",
              "      <td>0</td>\n",
              "      <td>121500.0</td>\n",
              "      <td>513000.0</td>\n",
              "      <td>21865.5</td>\n",
              "      <td>513000.0</td>\n",
              "      <td>Unaccompanied</td>\n",
              "      <td>Working</td>\n",
              "      <td>Secondary / secondary special</td>\n",
              "      <td>Single / not married</td>\n",
              "      <td>House / apartment</td>\n",
              "      <td>0.028663</td>\n",
              "      <td>-19932</td>\n",
              "      <td>-3038</td>\n",
              "      <td>-4311</td>\n",
              "      <td>-3458</td>\n",
              "      <td>NaN</td>\n",
              "      <td>1</td>\n",
              "      <td>1</td>\n",
              "      <td>0</td>\n",
              "      <td>1</td>\n",
              "      <td>0</td>\n",
              "      <td>0</td>\n",
              "      <td>Core staff</td>\n",
              "      <td>1.0</td>\n",
              "      <td>2</td>\n",
              "      <td>2</td>\n",
              "      <td>THURSDAY</td>\n",
              "      <td>11</td>\n",
              "      <td>0</td>\n",
              "      <td>0</td>\n",
              "      <td>0</td>\n",
              "      <td>0</td>\n",
              "      <td>1</td>\n",
              "      <td>1</td>\n",
              "      <td>...</td>\n",
              "      <td>NaN</td>\n",
              "      <td>NaN</td>\n",
              "      <td>NaN</td>\n",
              "      <td>NaN</td>\n",
              "      <td>NaN</td>\n",
              "      <td>NaN</td>\n",
              "      <td>NaN</td>\n",
              "      <td>NaN</td>\n",
              "      <td>NaN</td>\n",
              "      <td>0.0</td>\n",
              "      <td>0.0</td>\n",
              "      <td>0.0</td>\n",
              "      <td>0.0</td>\n",
              "      <td>-1106.0</td>\n",
              "      <td>0</td>\n",
              "      <td>0</td>\n",
              "      <td>0</td>\n",
              "      <td>0</td>\n",
              "      <td>0</td>\n",
              "      <td>0</td>\n",
              "      <td>1</td>\n",
              "      <td>0</td>\n",
              "      <td>0</td>\n",
              "      <td>0</td>\n",
              "      <td>0</td>\n",
              "      <td>0</td>\n",
              "      <td>0</td>\n",
              "      <td>0</td>\n",
              "      <td>0</td>\n",
              "      <td>0</td>\n",
              "      <td>0</td>\n",
              "      <td>0</td>\n",
              "      <td>0</td>\n",
              "      <td>0</td>\n",
              "      <td>0.0</td>\n",
              "      <td>0.0</td>\n",
              "      <td>0.0</td>\n",
              "      <td>0.0</td>\n",
              "      <td>0.0</td>\n",
              "      <td>0.0</td>\n",
              "    </tr>\n",
              "  </tbody>\n",
              "</table>\n",
              "<p>5 rows × 122 columns</p>\n",
              "</div>"
            ],
            "text/plain": [
              "   SK_ID_CURR  TARGET  ... AMT_REQ_CREDIT_BUREAU_QRT AMT_REQ_CREDIT_BUREAU_YEAR\n",
              "0      100002       1  ...                       0.0                        1.0\n",
              "1      100003       0  ...                       0.0                        0.0\n",
              "2      100004       0  ...                       0.0                        0.0\n",
              "3      100006       0  ...                       NaN                        NaN\n",
              "4      100007       0  ...                       0.0                        0.0\n",
              "\n",
              "[5 rows x 122 columns]"
            ]
          },
          "metadata": {
            "tags": []
          },
          "execution_count": 20
        }
      ]
    },
    {
      "cell_type": "code",
      "metadata": {
        "colab": {
          "base_uri": "https://localhost:8080/"
        },
        "id": "l6562NfxCAe_",
        "outputId": "dd374b1a-0798-4487-8525-13503b4715ee"
      },
      "source": [
        "df.CODE_GENDER.isnull().sum()"
      ],
      "execution_count": null,
      "outputs": [
        {
          "output_type": "execute_result",
          "data": {
            "text/plain": [
              "0"
            ]
          },
          "metadata": {
            "tags": []
          },
          "execution_count": 21
        }
      ]
    },
    {
      "cell_type": "markdown",
      "metadata": {
        "id": "_0J1lRxiWphk"
      },
      "source": [
        "Few of the features like: 'DAYS_BIRTH', 'DAYS_EMPLOYED', 'DAYS_REGISTRATION', 'DAYS_ID_PUBLISH' are having negetive values. We'll fix those by writing a simple function."
      ]
    },
    {
      "cell_type": "code",
      "metadata": {
        "id": "l1cY9f5CViAW"
      },
      "source": [
        "# A function to fix negetive representation\n",
        "def convert_neg(negative):\n",
        "    positive = -negative\n",
        "    pos_years = positive/365\n",
        "    return pos_years"
      ],
      "execution_count": null,
      "outputs": []
    },
    {
      "cell_type": "code",
      "metadata": {
        "id": "c6qTnsNEWJzR"
      },
      "source": [
        "# Applying convert_neg() function to to the data frame\n",
        "df['DAYS_BIRTH'] = df['DAYS_BIRTH'].apply(convert_neg)\n",
        "df['DAYS_EMPLOYED'] = df['DAYS_EMPLOYED'].apply(convert_neg)\n",
        "df['DAYS_REGISTRATION'] = df['DAYS_REGISTRATION'].apply(convert_neg)\n",
        "df['DAYS_ID_PUBLISH'] = df['DAYS_ID_PUBLISH'].apply(convert_neg)"
      ],
      "execution_count": null,
      "outputs": []
    },
    {
      "cell_type": "code",
      "metadata": {
        "colab": {
          "base_uri": "https://localhost:8080/",
          "height": 324
        },
        "id": "KuACX2orWc9y",
        "outputId": "fd0f70c5-9979-4f5d-c11d-6e7c1ae1177c"
      },
      "source": [
        "df.head()"
      ],
      "execution_count": null,
      "outputs": [
        {
          "output_type": "execute_result",
          "data": {
            "text/html": [
              "<div>\n",
              "<style scoped>\n",
              "    .dataframe tbody tr th:only-of-type {\n",
              "        vertical-align: middle;\n",
              "    }\n",
              "\n",
              "    .dataframe tbody tr th {\n",
              "        vertical-align: top;\n",
              "    }\n",
              "\n",
              "    .dataframe thead th {\n",
              "        text-align: right;\n",
              "    }\n",
              "</style>\n",
              "<table border=\"1\" class=\"dataframe\">\n",
              "  <thead>\n",
              "    <tr style=\"text-align: right;\">\n",
              "      <th></th>\n",
              "      <th>SK_ID_CURR</th>\n",
              "      <th>TARGET</th>\n",
              "      <th>NAME_CONTRACT_TYPE</th>\n",
              "      <th>CODE_GENDER</th>\n",
              "      <th>FLAG_OWN_CAR</th>\n",
              "      <th>FLAG_OWN_REALTY</th>\n",
              "      <th>CNT_CHILDREN</th>\n",
              "      <th>AMT_INCOME_TOTAL</th>\n",
              "      <th>AMT_CREDIT</th>\n",
              "      <th>AMT_ANNUITY</th>\n",
              "      <th>AMT_GOODS_PRICE</th>\n",
              "      <th>NAME_TYPE_SUITE</th>\n",
              "      <th>NAME_INCOME_TYPE</th>\n",
              "      <th>NAME_EDUCATION_TYPE</th>\n",
              "      <th>NAME_FAMILY_STATUS</th>\n",
              "      <th>NAME_HOUSING_TYPE</th>\n",
              "      <th>REGION_POPULATION_RELATIVE</th>\n",
              "      <th>DAYS_BIRTH</th>\n",
              "      <th>DAYS_EMPLOYED</th>\n",
              "      <th>DAYS_REGISTRATION</th>\n",
              "      <th>DAYS_ID_PUBLISH</th>\n",
              "      <th>OWN_CAR_AGE</th>\n",
              "      <th>FLAG_MOBIL</th>\n",
              "      <th>FLAG_EMP_PHONE</th>\n",
              "      <th>FLAG_WORK_PHONE</th>\n",
              "      <th>FLAG_CONT_MOBILE</th>\n",
              "      <th>FLAG_PHONE</th>\n",
              "      <th>FLAG_EMAIL</th>\n",
              "      <th>OCCUPATION_TYPE</th>\n",
              "      <th>CNT_FAM_MEMBERS</th>\n",
              "      <th>REGION_RATING_CLIENT</th>\n",
              "      <th>REGION_RATING_CLIENT_W_CITY</th>\n",
              "      <th>WEEKDAY_APPR_PROCESS_START</th>\n",
              "      <th>HOUR_APPR_PROCESS_START</th>\n",
              "      <th>REG_REGION_NOT_LIVE_REGION</th>\n",
              "      <th>REG_REGION_NOT_WORK_REGION</th>\n",
              "      <th>LIVE_REGION_NOT_WORK_REGION</th>\n",
              "      <th>REG_CITY_NOT_LIVE_CITY</th>\n",
              "      <th>REG_CITY_NOT_WORK_CITY</th>\n",
              "      <th>LIVE_CITY_NOT_WORK_CITY</th>\n",
              "      <th>...</th>\n",
              "      <th>LIVINGAPARTMENTS_MEDI</th>\n",
              "      <th>LIVINGAREA_MEDI</th>\n",
              "      <th>NONLIVINGAPARTMENTS_MEDI</th>\n",
              "      <th>NONLIVINGAREA_MEDI</th>\n",
              "      <th>FONDKAPREMONT_MODE</th>\n",
              "      <th>HOUSETYPE_MODE</th>\n",
              "      <th>TOTALAREA_MODE</th>\n",
              "      <th>WALLSMATERIAL_MODE</th>\n",
              "      <th>EMERGENCYSTATE_MODE</th>\n",
              "      <th>OBS_30_CNT_SOCIAL_CIRCLE</th>\n",
              "      <th>DEF_30_CNT_SOCIAL_CIRCLE</th>\n",
              "      <th>OBS_60_CNT_SOCIAL_CIRCLE</th>\n",
              "      <th>DEF_60_CNT_SOCIAL_CIRCLE</th>\n",
              "      <th>DAYS_LAST_PHONE_CHANGE</th>\n",
              "      <th>FLAG_DOCUMENT_2</th>\n",
              "      <th>FLAG_DOCUMENT_3</th>\n",
              "      <th>FLAG_DOCUMENT_4</th>\n",
              "      <th>FLAG_DOCUMENT_5</th>\n",
              "      <th>FLAG_DOCUMENT_6</th>\n",
              "      <th>FLAG_DOCUMENT_7</th>\n",
              "      <th>FLAG_DOCUMENT_8</th>\n",
              "      <th>FLAG_DOCUMENT_9</th>\n",
              "      <th>FLAG_DOCUMENT_10</th>\n",
              "      <th>FLAG_DOCUMENT_11</th>\n",
              "      <th>FLAG_DOCUMENT_12</th>\n",
              "      <th>FLAG_DOCUMENT_13</th>\n",
              "      <th>FLAG_DOCUMENT_14</th>\n",
              "      <th>FLAG_DOCUMENT_15</th>\n",
              "      <th>FLAG_DOCUMENT_16</th>\n",
              "      <th>FLAG_DOCUMENT_17</th>\n",
              "      <th>FLAG_DOCUMENT_18</th>\n",
              "      <th>FLAG_DOCUMENT_19</th>\n",
              "      <th>FLAG_DOCUMENT_20</th>\n",
              "      <th>FLAG_DOCUMENT_21</th>\n",
              "      <th>AMT_REQ_CREDIT_BUREAU_HOUR</th>\n",
              "      <th>AMT_REQ_CREDIT_BUREAU_DAY</th>\n",
              "      <th>AMT_REQ_CREDIT_BUREAU_WEEK</th>\n",
              "      <th>AMT_REQ_CREDIT_BUREAU_MON</th>\n",
              "      <th>AMT_REQ_CREDIT_BUREAU_QRT</th>\n",
              "      <th>AMT_REQ_CREDIT_BUREAU_YEAR</th>\n",
              "    </tr>\n",
              "  </thead>\n",
              "  <tbody>\n",
              "    <tr>\n",
              "      <th>0</th>\n",
              "      <td>100002</td>\n",
              "      <td>1</td>\n",
              "      <td>Cash loans</td>\n",
              "      <td>M</td>\n",
              "      <td>0</td>\n",
              "      <td>1</td>\n",
              "      <td>0</td>\n",
              "      <td>202500.0</td>\n",
              "      <td>406597.5</td>\n",
              "      <td>24700.5</td>\n",
              "      <td>351000.0</td>\n",
              "      <td>Unaccompanied</td>\n",
              "      <td>Working</td>\n",
              "      <td>Secondary / secondary special</td>\n",
              "      <td>Single / not married</td>\n",
              "      <td>House / apartment</td>\n",
              "      <td>0.018801</td>\n",
              "      <td>25.920548</td>\n",
              "      <td>1.745205</td>\n",
              "      <td>9.994521</td>\n",
              "      <td>5.808219</td>\n",
              "      <td>NaN</td>\n",
              "      <td>1</td>\n",
              "      <td>1</td>\n",
              "      <td>0</td>\n",
              "      <td>1</td>\n",
              "      <td>1</td>\n",
              "      <td>0</td>\n",
              "      <td>Laborers</td>\n",
              "      <td>1.0</td>\n",
              "      <td>2</td>\n",
              "      <td>2</td>\n",
              "      <td>WEDNESDAY</td>\n",
              "      <td>10</td>\n",
              "      <td>0</td>\n",
              "      <td>0</td>\n",
              "      <td>0</td>\n",
              "      <td>0</td>\n",
              "      <td>0</td>\n",
              "      <td>0</td>\n",
              "      <td>...</td>\n",
              "      <td>0.0205</td>\n",
              "      <td>0.0193</td>\n",
              "      <td>0.0000</td>\n",
              "      <td>0.00</td>\n",
              "      <td>reg oper account</td>\n",
              "      <td>block of flats</td>\n",
              "      <td>0.0149</td>\n",
              "      <td>Stone, brick</td>\n",
              "      <td>No</td>\n",
              "      <td>2.0</td>\n",
              "      <td>2.0</td>\n",
              "      <td>2.0</td>\n",
              "      <td>2.0</td>\n",
              "      <td>-1134.0</td>\n",
              "      <td>0</td>\n",
              "      <td>1</td>\n",
              "      <td>0</td>\n",
              "      <td>0</td>\n",
              "      <td>0</td>\n",
              "      <td>0</td>\n",
              "      <td>0</td>\n",
              "      <td>0</td>\n",
              "      <td>0</td>\n",
              "      <td>0</td>\n",
              "      <td>0</td>\n",
              "      <td>0</td>\n",
              "      <td>0</td>\n",
              "      <td>0</td>\n",
              "      <td>0</td>\n",
              "      <td>0</td>\n",
              "      <td>0</td>\n",
              "      <td>0</td>\n",
              "      <td>0</td>\n",
              "      <td>0</td>\n",
              "      <td>0.0</td>\n",
              "      <td>0.0</td>\n",
              "      <td>0.0</td>\n",
              "      <td>0.0</td>\n",
              "      <td>0.0</td>\n",
              "      <td>1.0</td>\n",
              "    </tr>\n",
              "    <tr>\n",
              "      <th>1</th>\n",
              "      <td>100003</td>\n",
              "      <td>0</td>\n",
              "      <td>Cash loans</td>\n",
              "      <td>F</td>\n",
              "      <td>0</td>\n",
              "      <td>0</td>\n",
              "      <td>0</td>\n",
              "      <td>270000.0</td>\n",
              "      <td>1293502.5</td>\n",
              "      <td>35698.5</td>\n",
              "      <td>1129500.0</td>\n",
              "      <td>Family</td>\n",
              "      <td>State servant</td>\n",
              "      <td>Higher education</td>\n",
              "      <td>Married</td>\n",
              "      <td>House / apartment</td>\n",
              "      <td>0.003541</td>\n",
              "      <td>45.931507</td>\n",
              "      <td>3.254795</td>\n",
              "      <td>3.249315</td>\n",
              "      <td>0.797260</td>\n",
              "      <td>NaN</td>\n",
              "      <td>1</td>\n",
              "      <td>1</td>\n",
              "      <td>0</td>\n",
              "      <td>1</td>\n",
              "      <td>1</td>\n",
              "      <td>0</td>\n",
              "      <td>Core staff</td>\n",
              "      <td>2.0</td>\n",
              "      <td>1</td>\n",
              "      <td>1</td>\n",
              "      <td>MONDAY</td>\n",
              "      <td>11</td>\n",
              "      <td>0</td>\n",
              "      <td>0</td>\n",
              "      <td>0</td>\n",
              "      <td>0</td>\n",
              "      <td>0</td>\n",
              "      <td>0</td>\n",
              "      <td>...</td>\n",
              "      <td>0.0787</td>\n",
              "      <td>0.0558</td>\n",
              "      <td>0.0039</td>\n",
              "      <td>0.01</td>\n",
              "      <td>reg oper account</td>\n",
              "      <td>block of flats</td>\n",
              "      <td>0.0714</td>\n",
              "      <td>Block</td>\n",
              "      <td>No</td>\n",
              "      <td>1.0</td>\n",
              "      <td>0.0</td>\n",
              "      <td>1.0</td>\n",
              "      <td>0.0</td>\n",
              "      <td>-828.0</td>\n",
              "      <td>0</td>\n",
              "      <td>1</td>\n",
              "      <td>0</td>\n",
              "      <td>0</td>\n",
              "      <td>0</td>\n",
              "      <td>0</td>\n",
              "      <td>0</td>\n",
              "      <td>0</td>\n",
              "      <td>0</td>\n",
              "      <td>0</td>\n",
              "      <td>0</td>\n",
              "      <td>0</td>\n",
              "      <td>0</td>\n",
              "      <td>0</td>\n",
              "      <td>0</td>\n",
              "      <td>0</td>\n",
              "      <td>0</td>\n",
              "      <td>0</td>\n",
              "      <td>0</td>\n",
              "      <td>0</td>\n",
              "      <td>0.0</td>\n",
              "      <td>0.0</td>\n",
              "      <td>0.0</td>\n",
              "      <td>0.0</td>\n",
              "      <td>0.0</td>\n",
              "      <td>0.0</td>\n",
              "    </tr>\n",
              "    <tr>\n",
              "      <th>2</th>\n",
              "      <td>100004</td>\n",
              "      <td>0</td>\n",
              "      <td>Revolving loans</td>\n",
              "      <td>M</td>\n",
              "      <td>1</td>\n",
              "      <td>1</td>\n",
              "      <td>0</td>\n",
              "      <td>67500.0</td>\n",
              "      <td>135000.0</td>\n",
              "      <td>6750.0</td>\n",
              "      <td>135000.0</td>\n",
              "      <td>Unaccompanied</td>\n",
              "      <td>Working</td>\n",
              "      <td>Secondary / secondary special</td>\n",
              "      <td>Single / not married</td>\n",
              "      <td>House / apartment</td>\n",
              "      <td>0.010032</td>\n",
              "      <td>52.180822</td>\n",
              "      <td>0.616438</td>\n",
              "      <td>11.671233</td>\n",
              "      <td>6.934247</td>\n",
              "      <td>26.0</td>\n",
              "      <td>1</td>\n",
              "      <td>1</td>\n",
              "      <td>1</td>\n",
              "      <td>1</td>\n",
              "      <td>1</td>\n",
              "      <td>0</td>\n",
              "      <td>Laborers</td>\n",
              "      <td>1.0</td>\n",
              "      <td>2</td>\n",
              "      <td>2</td>\n",
              "      <td>MONDAY</td>\n",
              "      <td>9</td>\n",
              "      <td>0</td>\n",
              "      <td>0</td>\n",
              "      <td>0</td>\n",
              "      <td>0</td>\n",
              "      <td>0</td>\n",
              "      <td>0</td>\n",
              "      <td>...</td>\n",
              "      <td>NaN</td>\n",
              "      <td>NaN</td>\n",
              "      <td>NaN</td>\n",
              "      <td>NaN</td>\n",
              "      <td>NaN</td>\n",
              "      <td>NaN</td>\n",
              "      <td>NaN</td>\n",
              "      <td>NaN</td>\n",
              "      <td>NaN</td>\n",
              "      <td>0.0</td>\n",
              "      <td>0.0</td>\n",
              "      <td>0.0</td>\n",
              "      <td>0.0</td>\n",
              "      <td>-815.0</td>\n",
              "      <td>0</td>\n",
              "      <td>0</td>\n",
              "      <td>0</td>\n",
              "      <td>0</td>\n",
              "      <td>0</td>\n",
              "      <td>0</td>\n",
              "      <td>0</td>\n",
              "      <td>0</td>\n",
              "      <td>0</td>\n",
              "      <td>0</td>\n",
              "      <td>0</td>\n",
              "      <td>0</td>\n",
              "      <td>0</td>\n",
              "      <td>0</td>\n",
              "      <td>0</td>\n",
              "      <td>0</td>\n",
              "      <td>0</td>\n",
              "      <td>0</td>\n",
              "      <td>0</td>\n",
              "      <td>0</td>\n",
              "      <td>0.0</td>\n",
              "      <td>0.0</td>\n",
              "      <td>0.0</td>\n",
              "      <td>0.0</td>\n",
              "      <td>0.0</td>\n",
              "      <td>0.0</td>\n",
              "    </tr>\n",
              "    <tr>\n",
              "      <th>3</th>\n",
              "      <td>100006</td>\n",
              "      <td>0</td>\n",
              "      <td>Cash loans</td>\n",
              "      <td>F</td>\n",
              "      <td>0</td>\n",
              "      <td>1</td>\n",
              "      <td>0</td>\n",
              "      <td>135000.0</td>\n",
              "      <td>312682.5</td>\n",
              "      <td>29686.5</td>\n",
              "      <td>297000.0</td>\n",
              "      <td>Unaccompanied</td>\n",
              "      <td>Working</td>\n",
              "      <td>Secondary / secondary special</td>\n",
              "      <td>Civil marriage</td>\n",
              "      <td>House / apartment</td>\n",
              "      <td>0.008019</td>\n",
              "      <td>52.068493</td>\n",
              "      <td>8.326027</td>\n",
              "      <td>26.939726</td>\n",
              "      <td>6.676712</td>\n",
              "      <td>NaN</td>\n",
              "      <td>1</td>\n",
              "      <td>1</td>\n",
              "      <td>0</td>\n",
              "      <td>1</td>\n",
              "      <td>0</td>\n",
              "      <td>0</td>\n",
              "      <td>Laborers</td>\n",
              "      <td>2.0</td>\n",
              "      <td>2</td>\n",
              "      <td>2</td>\n",
              "      <td>WEDNESDAY</td>\n",
              "      <td>17</td>\n",
              "      <td>0</td>\n",
              "      <td>0</td>\n",
              "      <td>0</td>\n",
              "      <td>0</td>\n",
              "      <td>0</td>\n",
              "      <td>0</td>\n",
              "      <td>...</td>\n",
              "      <td>NaN</td>\n",
              "      <td>NaN</td>\n",
              "      <td>NaN</td>\n",
              "      <td>NaN</td>\n",
              "      <td>NaN</td>\n",
              "      <td>NaN</td>\n",
              "      <td>NaN</td>\n",
              "      <td>NaN</td>\n",
              "      <td>NaN</td>\n",
              "      <td>2.0</td>\n",
              "      <td>0.0</td>\n",
              "      <td>2.0</td>\n",
              "      <td>0.0</td>\n",
              "      <td>-617.0</td>\n",
              "      <td>0</td>\n",
              "      <td>1</td>\n",
              "      <td>0</td>\n",
              "      <td>0</td>\n",
              "      <td>0</td>\n",
              "      <td>0</td>\n",
              "      <td>0</td>\n",
              "      <td>0</td>\n",
              "      <td>0</td>\n",
              "      <td>0</td>\n",
              "      <td>0</td>\n",
              "      <td>0</td>\n",
              "      <td>0</td>\n",
              "      <td>0</td>\n",
              "      <td>0</td>\n",
              "      <td>0</td>\n",
              "      <td>0</td>\n",
              "      <td>0</td>\n",
              "      <td>0</td>\n",
              "      <td>0</td>\n",
              "      <td>NaN</td>\n",
              "      <td>NaN</td>\n",
              "      <td>NaN</td>\n",
              "      <td>NaN</td>\n",
              "      <td>NaN</td>\n",
              "      <td>NaN</td>\n",
              "    </tr>\n",
              "    <tr>\n",
              "      <th>4</th>\n",
              "      <td>100007</td>\n",
              "      <td>0</td>\n",
              "      <td>Cash loans</td>\n",
              "      <td>M</td>\n",
              "      <td>0</td>\n",
              "      <td>1</td>\n",
              "      <td>0</td>\n",
              "      <td>121500.0</td>\n",
              "      <td>513000.0</td>\n",
              "      <td>21865.5</td>\n",
              "      <td>513000.0</td>\n",
              "      <td>Unaccompanied</td>\n",
              "      <td>Working</td>\n",
              "      <td>Secondary / secondary special</td>\n",
              "      <td>Single / not married</td>\n",
              "      <td>House / apartment</td>\n",
              "      <td>0.028663</td>\n",
              "      <td>54.608219</td>\n",
              "      <td>8.323288</td>\n",
              "      <td>11.810959</td>\n",
              "      <td>9.473973</td>\n",
              "      <td>NaN</td>\n",
              "      <td>1</td>\n",
              "      <td>1</td>\n",
              "      <td>0</td>\n",
              "      <td>1</td>\n",
              "      <td>0</td>\n",
              "      <td>0</td>\n",
              "      <td>Core staff</td>\n",
              "      <td>1.0</td>\n",
              "      <td>2</td>\n",
              "      <td>2</td>\n",
              "      <td>THURSDAY</td>\n",
              "      <td>11</td>\n",
              "      <td>0</td>\n",
              "      <td>0</td>\n",
              "      <td>0</td>\n",
              "      <td>0</td>\n",
              "      <td>1</td>\n",
              "      <td>1</td>\n",
              "      <td>...</td>\n",
              "      <td>NaN</td>\n",
              "      <td>NaN</td>\n",
              "      <td>NaN</td>\n",
              "      <td>NaN</td>\n",
              "      <td>NaN</td>\n",
              "      <td>NaN</td>\n",
              "      <td>NaN</td>\n",
              "      <td>NaN</td>\n",
              "      <td>NaN</td>\n",
              "      <td>0.0</td>\n",
              "      <td>0.0</td>\n",
              "      <td>0.0</td>\n",
              "      <td>0.0</td>\n",
              "      <td>-1106.0</td>\n",
              "      <td>0</td>\n",
              "      <td>0</td>\n",
              "      <td>0</td>\n",
              "      <td>0</td>\n",
              "      <td>0</td>\n",
              "      <td>0</td>\n",
              "      <td>1</td>\n",
              "      <td>0</td>\n",
              "      <td>0</td>\n",
              "      <td>0</td>\n",
              "      <td>0</td>\n",
              "      <td>0</td>\n",
              "      <td>0</td>\n",
              "      <td>0</td>\n",
              "      <td>0</td>\n",
              "      <td>0</td>\n",
              "      <td>0</td>\n",
              "      <td>0</td>\n",
              "      <td>0</td>\n",
              "      <td>0</td>\n",
              "      <td>0.0</td>\n",
              "      <td>0.0</td>\n",
              "      <td>0.0</td>\n",
              "      <td>0.0</td>\n",
              "      <td>0.0</td>\n",
              "      <td>0.0</td>\n",
              "    </tr>\n",
              "  </tbody>\n",
              "</table>\n",
              "<p>5 rows × 122 columns</p>\n",
              "</div>"
            ],
            "text/plain": [
              "   SK_ID_CURR  TARGET  ... AMT_REQ_CREDIT_BUREAU_QRT AMT_REQ_CREDIT_BUREAU_YEAR\n",
              "0      100002       1  ...                       0.0                        1.0\n",
              "1      100003       0  ...                       0.0                        0.0\n",
              "2      100004       0  ...                       0.0                        0.0\n",
              "3      100006       0  ...                       NaN                        NaN\n",
              "4      100007       0  ...                       0.0                        0.0\n",
              "\n",
              "[5 rows x 122 columns]"
            ]
          },
          "metadata": {
            "tags": []
          },
          "execution_count": 24
        }
      ]
    },
    {
      "cell_type": "code",
      "metadata": {
        "colab": {
          "base_uri": "https://localhost:8080/",
          "height": 348
        },
        "id": "c4-OVRTlZaAM",
        "outputId": "651d3a27-5e77-47e0-d3d1-2f116ec44238"
      },
      "source": [
        "df.describe()"
      ],
      "execution_count": null,
      "outputs": [
        {
          "output_type": "execute_result",
          "data": {
            "text/html": [
              "<div>\n",
              "<style scoped>\n",
              "    .dataframe tbody tr th:only-of-type {\n",
              "        vertical-align: middle;\n",
              "    }\n",
              "\n",
              "    .dataframe tbody tr th {\n",
              "        vertical-align: top;\n",
              "    }\n",
              "\n",
              "    .dataframe thead th {\n",
              "        text-align: right;\n",
              "    }\n",
              "</style>\n",
              "<table border=\"1\" class=\"dataframe\">\n",
              "  <thead>\n",
              "    <tr style=\"text-align: right;\">\n",
              "      <th></th>\n",
              "      <th>SK_ID_CURR</th>\n",
              "      <th>TARGET</th>\n",
              "      <th>FLAG_OWN_CAR</th>\n",
              "      <th>FLAG_OWN_REALTY</th>\n",
              "      <th>CNT_CHILDREN</th>\n",
              "      <th>AMT_INCOME_TOTAL</th>\n",
              "      <th>AMT_CREDIT</th>\n",
              "      <th>AMT_ANNUITY</th>\n",
              "      <th>AMT_GOODS_PRICE</th>\n",
              "      <th>REGION_POPULATION_RELATIVE</th>\n",
              "      <th>DAYS_BIRTH</th>\n",
              "      <th>DAYS_EMPLOYED</th>\n",
              "      <th>DAYS_REGISTRATION</th>\n",
              "      <th>DAYS_ID_PUBLISH</th>\n",
              "      <th>OWN_CAR_AGE</th>\n",
              "      <th>FLAG_MOBIL</th>\n",
              "      <th>FLAG_EMP_PHONE</th>\n",
              "      <th>FLAG_WORK_PHONE</th>\n",
              "      <th>FLAG_CONT_MOBILE</th>\n",
              "      <th>FLAG_PHONE</th>\n",
              "      <th>FLAG_EMAIL</th>\n",
              "      <th>CNT_FAM_MEMBERS</th>\n",
              "      <th>REGION_RATING_CLIENT</th>\n",
              "      <th>REGION_RATING_CLIENT_W_CITY</th>\n",
              "      <th>HOUR_APPR_PROCESS_START</th>\n",
              "      <th>REG_REGION_NOT_LIVE_REGION</th>\n",
              "      <th>REG_REGION_NOT_WORK_REGION</th>\n",
              "      <th>LIVE_REGION_NOT_WORK_REGION</th>\n",
              "      <th>REG_CITY_NOT_LIVE_CITY</th>\n",
              "      <th>REG_CITY_NOT_WORK_CITY</th>\n",
              "      <th>LIVE_CITY_NOT_WORK_CITY</th>\n",
              "      <th>EXT_SOURCE_1</th>\n",
              "      <th>EXT_SOURCE_2</th>\n",
              "      <th>EXT_SOURCE_3</th>\n",
              "      <th>APARTMENTS_AVG</th>\n",
              "      <th>BASEMENTAREA_AVG</th>\n",
              "      <th>YEARS_BEGINEXPLUATATION_AVG</th>\n",
              "      <th>YEARS_BUILD_AVG</th>\n",
              "      <th>COMMONAREA_AVG</th>\n",
              "      <th>ELEVATORS_AVG</th>\n",
              "      <th>...</th>\n",
              "      <th>ENTRANCES_MEDI</th>\n",
              "      <th>FLOORSMAX_MEDI</th>\n",
              "      <th>FLOORSMIN_MEDI</th>\n",
              "      <th>LANDAREA_MEDI</th>\n",
              "      <th>LIVINGAPARTMENTS_MEDI</th>\n",
              "      <th>LIVINGAREA_MEDI</th>\n",
              "      <th>NONLIVINGAPARTMENTS_MEDI</th>\n",
              "      <th>NONLIVINGAREA_MEDI</th>\n",
              "      <th>TOTALAREA_MODE</th>\n",
              "      <th>OBS_30_CNT_SOCIAL_CIRCLE</th>\n",
              "      <th>DEF_30_CNT_SOCIAL_CIRCLE</th>\n",
              "      <th>OBS_60_CNT_SOCIAL_CIRCLE</th>\n",
              "      <th>DEF_60_CNT_SOCIAL_CIRCLE</th>\n",
              "      <th>DAYS_LAST_PHONE_CHANGE</th>\n",
              "      <th>FLAG_DOCUMENT_2</th>\n",
              "      <th>FLAG_DOCUMENT_3</th>\n",
              "      <th>FLAG_DOCUMENT_4</th>\n",
              "      <th>FLAG_DOCUMENT_5</th>\n",
              "      <th>FLAG_DOCUMENT_6</th>\n",
              "      <th>FLAG_DOCUMENT_7</th>\n",
              "      <th>FLAG_DOCUMENT_8</th>\n",
              "      <th>FLAG_DOCUMENT_9</th>\n",
              "      <th>FLAG_DOCUMENT_10</th>\n",
              "      <th>FLAG_DOCUMENT_11</th>\n",
              "      <th>FLAG_DOCUMENT_12</th>\n",
              "      <th>FLAG_DOCUMENT_13</th>\n",
              "      <th>FLAG_DOCUMENT_14</th>\n",
              "      <th>FLAG_DOCUMENT_15</th>\n",
              "      <th>FLAG_DOCUMENT_16</th>\n",
              "      <th>FLAG_DOCUMENT_17</th>\n",
              "      <th>FLAG_DOCUMENT_18</th>\n",
              "      <th>FLAG_DOCUMENT_19</th>\n",
              "      <th>FLAG_DOCUMENT_20</th>\n",
              "      <th>FLAG_DOCUMENT_21</th>\n",
              "      <th>AMT_REQ_CREDIT_BUREAU_HOUR</th>\n",
              "      <th>AMT_REQ_CREDIT_BUREAU_DAY</th>\n",
              "      <th>AMT_REQ_CREDIT_BUREAU_WEEK</th>\n",
              "      <th>AMT_REQ_CREDIT_BUREAU_MON</th>\n",
              "      <th>AMT_REQ_CREDIT_BUREAU_QRT</th>\n",
              "      <th>AMT_REQ_CREDIT_BUREAU_YEAR</th>\n",
              "    </tr>\n",
              "  </thead>\n",
              "  <tbody>\n",
              "    <tr>\n",
              "      <th>count</th>\n",
              "      <td>60173.000000</td>\n",
              "      <td>60173.000000</td>\n",
              "      <td>60173.000000</td>\n",
              "      <td>60173.000000</td>\n",
              "      <td>60173.000000</td>\n",
              "      <td>6.017300e+04</td>\n",
              "      <td>6.017300e+04</td>\n",
              "      <td>60168.000000</td>\n",
              "      <td>6.012700e+04</td>\n",
              "      <td>60173.000000</td>\n",
              "      <td>60173.000000</td>\n",
              "      <td>60173.000000</td>\n",
              "      <td>60173.000000</td>\n",
              "      <td>60173.000000</td>\n",
              "      <td>20469.000000</td>\n",
              "      <td>60173.000000</td>\n",
              "      <td>60173.000000</td>\n",
              "      <td>60173.000000</td>\n",
              "      <td>60173.000000</td>\n",
              "      <td>60173.000000</td>\n",
              "      <td>60173.000000</td>\n",
              "      <td>60172.000000</td>\n",
              "      <td>60173.000000</td>\n",
              "      <td>60173.000000</td>\n",
              "      <td>60173.000000</td>\n",
              "      <td>60173.000000</td>\n",
              "      <td>60173.000000</td>\n",
              "      <td>60173.000000</td>\n",
              "      <td>60173.000000</td>\n",
              "      <td>60173.000000</td>\n",
              "      <td>60173.000000</td>\n",
              "      <td>26226.000000</td>\n",
              "      <td>6.002900e+04</td>\n",
              "      <td>48259.000000</td>\n",
              "      <td>29642.000000</td>\n",
              "      <td>25032.000000</td>\n",
              "      <td>30811.000000</td>\n",
              "      <td>20183.000000</td>\n",
              "      <td>18147.000000</td>\n",
              "      <td>28101.000000</td>\n",
              "      <td>...</td>\n",
              "      <td>29865.000000</td>\n",
              "      <td>30240.000000</td>\n",
              "      <td>19384.000000</td>\n",
              "      <td>24448.000000</td>\n",
              "      <td>19017.000000</td>\n",
              "      <td>29935.000000</td>\n",
              "      <td>18415.000000</td>\n",
              "      <td>27012.000000</td>\n",
              "      <td>31111.000000</td>\n",
              "      <td>59976.000000</td>\n",
              "      <td>59976.000000</td>\n",
              "      <td>59976.000000</td>\n",
              "      <td>59976.000000</td>\n",
              "      <td>60172.000000</td>\n",
              "      <td>60173.000000</td>\n",
              "      <td>60173.000000</td>\n",
              "      <td>60173.000000</td>\n",
              "      <td>60173.000000</td>\n",
              "      <td>60173.000000</td>\n",
              "      <td>60173.000000</td>\n",
              "      <td>60173.000000</td>\n",
              "      <td>60173.000000</td>\n",
              "      <td>60173.000000</td>\n",
              "      <td>60173.000000</td>\n",
              "      <td>60173.000000</td>\n",
              "      <td>60173.000000</td>\n",
              "      <td>60173.000000</td>\n",
              "      <td>60173.000000</td>\n",
              "      <td>60173.000000</td>\n",
              "      <td>60173.000000</td>\n",
              "      <td>60173.000000</td>\n",
              "      <td>60173.000000</td>\n",
              "      <td>60173.000000</td>\n",
              "      <td>60173.000000</td>\n",
              "      <td>52120.000000</td>\n",
              "      <td>52120.000000</td>\n",
              "      <td>52120.000000</td>\n",
              "      <td>52120.000000</td>\n",
              "      <td>52120.000000</td>\n",
              "      <td>52120.000000</td>\n",
              "    </tr>\n",
              "    <tr>\n",
              "      <th>mean</th>\n",
              "      <td>134898.791401</td>\n",
              "      <td>0.080235</td>\n",
              "      <td>0.340186</td>\n",
              "      <td>0.694232</td>\n",
              "      <td>0.420255</td>\n",
              "      <td>1.700445e+05</td>\n",
              "      <td>5.998655e+05</td>\n",
              "      <td>27086.380884</td>\n",
              "      <td>5.390792e+05</td>\n",
              "      <td>0.020866</td>\n",
              "      <td>43.902104</td>\n",
              "      <td>-172.362748</td>\n",
              "      <td>13.646343</td>\n",
              "      <td>8.206831</td>\n",
              "      <td>12.004837</td>\n",
              "      <td>0.999983</td>\n",
              "      <td>0.822296</td>\n",
              "      <td>0.199807</td>\n",
              "      <td>0.998022</td>\n",
              "      <td>0.278331</td>\n",
              "      <td>0.055556</td>\n",
              "      <td>2.158413</td>\n",
              "      <td>2.051867</td>\n",
              "      <td>2.031193</td>\n",
              "      <td>12.052765</td>\n",
              "      <td>0.015140</td>\n",
              "      <td>0.050288</td>\n",
              "      <td>0.039785</td>\n",
              "      <td>0.079969</td>\n",
              "      <td>0.231765</td>\n",
              "      <td>0.179167</td>\n",
              "      <td>0.502711</td>\n",
              "      <td>5.141413e-01</td>\n",
              "      <td>0.511372</td>\n",
              "      <td>0.117641</td>\n",
              "      <td>0.088978</td>\n",
              "      <td>0.978039</td>\n",
              "      <td>0.751629</td>\n",
              "      <td>0.044978</td>\n",
              "      <td>0.078794</td>\n",
              "      <td>...</td>\n",
              "      <td>0.149647</td>\n",
              "      <td>0.225505</td>\n",
              "      <td>0.231735</td>\n",
              "      <td>0.067121</td>\n",
              "      <td>0.101722</td>\n",
              "      <td>0.108741</td>\n",
              "      <td>0.009014</td>\n",
              "      <td>0.028079</td>\n",
              "      <td>0.102714</td>\n",
              "      <td>1.423469</td>\n",
              "      <td>0.141973</td>\n",
              "      <td>1.406629</td>\n",
              "      <td>0.098523</td>\n",
              "      <td>-962.103653</td>\n",
              "      <td>0.000033</td>\n",
              "      <td>0.711848</td>\n",
              "      <td>0.000166</td>\n",
              "      <td>0.015638</td>\n",
              "      <td>0.086218</td>\n",
              "      <td>0.000199</td>\n",
              "      <td>0.081066</td>\n",
              "      <td>0.003623</td>\n",
              "      <td>0.000017</td>\n",
              "      <td>0.004205</td>\n",
              "      <td>0.000017</td>\n",
              "      <td>0.003274</td>\n",
              "      <td>0.003108</td>\n",
              "      <td>0.000897</td>\n",
              "      <td>0.010088</td>\n",
              "      <td>0.000283</td>\n",
              "      <td>0.008392</td>\n",
              "      <td>0.000681</td>\n",
              "      <td>0.000482</td>\n",
              "      <td>0.000349</td>\n",
              "      <td>0.007080</td>\n",
              "      <td>0.007809</td>\n",
              "      <td>0.033346</td>\n",
              "      <td>0.270683</td>\n",
              "      <td>0.262068</td>\n",
              "      <td>1.881754</td>\n",
              "    </tr>\n",
              "    <tr>\n",
              "      <th>std</th>\n",
              "      <td>20092.197186</td>\n",
              "      <td>0.271659</td>\n",
              "      <td>0.473775</td>\n",
              "      <td>0.460736</td>\n",
              "      <td>0.725420</td>\n",
              "      <td>4.863248e+05</td>\n",
              "      <td>4.030292e+05</td>\n",
              "      <td>14526.868318</td>\n",
              "      <td>3.702773e+05</td>\n",
              "      <td>0.013794</td>\n",
              "      <td>11.947529</td>\n",
              "      <td>385.038272</td>\n",
              "      <td>9.661137</td>\n",
              "      <td>4.139002</td>\n",
              "      <td>11.828171</td>\n",
              "      <td>0.004077</td>\n",
              "      <td>0.382267</td>\n",
              "      <td>0.399859</td>\n",
              "      <td>0.044427</td>\n",
              "      <td>0.448181</td>\n",
              "      <td>0.229065</td>\n",
              "      <td>0.913067</td>\n",
              "      <td>0.508799</td>\n",
              "      <td>0.502808</td>\n",
              "      <td>3.258367</td>\n",
              "      <td>0.122109</td>\n",
              "      <td>0.218541</td>\n",
              "      <td>0.195456</td>\n",
              "      <td>0.271248</td>\n",
              "      <td>0.421963</td>\n",
              "      <td>0.383495</td>\n",
              "      <td>0.211469</td>\n",
              "      <td>1.911863e-01</td>\n",
              "      <td>0.194747</td>\n",
              "      <td>0.108414</td>\n",
              "      <td>0.082986</td>\n",
              "      <td>0.056295</td>\n",
              "      <td>0.113482</td>\n",
              "      <td>0.078160</td>\n",
              "      <td>0.134261</td>\n",
              "      <td>...</td>\n",
              "      <td>0.100734</td>\n",
              "      <td>0.145734</td>\n",
              "      <td>0.162360</td>\n",
              "      <td>0.080318</td>\n",
              "      <td>0.094125</td>\n",
              "      <td>0.112304</td>\n",
              "      <td>0.049852</td>\n",
              "      <td>0.069626</td>\n",
              "      <td>0.107838</td>\n",
              "      <td>2.302438</td>\n",
              "      <td>0.440207</td>\n",
              "      <td>2.282328</td>\n",
              "      <td>0.356137</td>\n",
              "      <td>829.261894</td>\n",
              "      <td>0.005765</td>\n",
              "      <td>0.452906</td>\n",
              "      <td>0.012890</td>\n",
              "      <td>0.124072</td>\n",
              "      <td>0.280688</td>\n",
              "      <td>0.014121</td>\n",
              "      <td>0.272939</td>\n",
              "      <td>0.060082</td>\n",
              "      <td>0.004077</td>\n",
              "      <td>0.064707</td>\n",
              "      <td>0.004077</td>\n",
              "      <td>0.057125</td>\n",
              "      <td>0.055661</td>\n",
              "      <td>0.029944</td>\n",
              "      <td>0.099930</td>\n",
              "      <td>0.016806</td>\n",
              "      <td>0.091226</td>\n",
              "      <td>0.026094</td>\n",
              "      <td>0.021948</td>\n",
              "      <td>0.018678</td>\n",
              "      <td>0.088519</td>\n",
              "      <td>0.113027</td>\n",
              "      <td>0.201400</td>\n",
              "      <td>0.930881</td>\n",
              "      <td>0.608613</td>\n",
              "      <td>1.866864</td>\n",
              "    </tr>\n",
              "    <tr>\n",
              "      <th>min</th>\n",
              "      <td>100002.000000</td>\n",
              "      <td>0.000000</td>\n",
              "      <td>0.000000</td>\n",
              "      <td>0.000000</td>\n",
              "      <td>0.000000</td>\n",
              "      <td>2.565000e+04</td>\n",
              "      <td>4.500000e+04</td>\n",
              "      <td>2052.000000</td>\n",
              "      <td>4.500000e+04</td>\n",
              "      <td>0.000533</td>\n",
              "      <td>21.030137</td>\n",
              "      <td>-1000.665753</td>\n",
              "      <td>0.000000</td>\n",
              "      <td>0.000000</td>\n",
              "      <td>0.000000</td>\n",
              "      <td>0.000000</td>\n",
              "      <td>0.000000</td>\n",
              "      <td>0.000000</td>\n",
              "      <td>0.000000</td>\n",
              "      <td>0.000000</td>\n",
              "      <td>0.000000</td>\n",
              "      <td>1.000000</td>\n",
              "      <td>1.000000</td>\n",
              "      <td>1.000000</td>\n",
              "      <td>0.000000</td>\n",
              "      <td>0.000000</td>\n",
              "      <td>0.000000</td>\n",
              "      <td>0.000000</td>\n",
              "      <td>0.000000</td>\n",
              "      <td>0.000000</td>\n",
              "      <td>0.000000</td>\n",
              "      <td>0.014568</td>\n",
              "      <td>8.170000e-08</td>\n",
              "      <td>0.000527</td>\n",
              "      <td>0.000000</td>\n",
              "      <td>0.000000</td>\n",
              "      <td>0.000000</td>\n",
              "      <td>0.000000</td>\n",
              "      <td>0.000000</td>\n",
              "      <td>0.000000</td>\n",
              "      <td>...</td>\n",
              "      <td>0.000000</td>\n",
              "      <td>0.000000</td>\n",
              "      <td>0.000000</td>\n",
              "      <td>0.000000</td>\n",
              "      <td>0.000000</td>\n",
              "      <td>0.000000</td>\n",
              "      <td>0.000000</td>\n",
              "      <td>0.000000</td>\n",
              "      <td>0.000000</td>\n",
              "      <td>0.000000</td>\n",
              "      <td>0.000000</td>\n",
              "      <td>0.000000</td>\n",
              "      <td>0.000000</td>\n",
              "      <td>-4021.000000</td>\n",
              "      <td>0.000000</td>\n",
              "      <td>0.000000</td>\n",
              "      <td>0.000000</td>\n",
              "      <td>0.000000</td>\n",
              "      <td>0.000000</td>\n",
              "      <td>0.000000</td>\n",
              "      <td>0.000000</td>\n",
              "      <td>0.000000</td>\n",
              "      <td>0.000000</td>\n",
              "      <td>0.000000</td>\n",
              "      <td>0.000000</td>\n",
              "      <td>0.000000</td>\n",
              "      <td>0.000000</td>\n",
              "      <td>0.000000</td>\n",
              "      <td>0.000000</td>\n",
              "      <td>0.000000</td>\n",
              "      <td>0.000000</td>\n",
              "      <td>0.000000</td>\n",
              "      <td>0.000000</td>\n",
              "      <td>0.000000</td>\n",
              "      <td>0.000000</td>\n",
              "      <td>0.000000</td>\n",
              "      <td>0.000000</td>\n",
              "      <td>0.000000</td>\n",
              "      <td>0.000000</td>\n",
              "      <td>0.000000</td>\n",
              "    </tr>\n",
              "    <tr>\n",
              "      <th>25%</th>\n",
              "      <td>117568.000000</td>\n",
              "      <td>0.000000</td>\n",
              "      <td>0.000000</td>\n",
              "      <td>0.000000</td>\n",
              "      <td>0.000000</td>\n",
              "      <td>1.125000e+05</td>\n",
              "      <td>2.700000e+05</td>\n",
              "      <td>16456.500000</td>\n",
              "      <td>2.385000e+05</td>\n",
              "      <td>0.010006</td>\n",
              "      <td>33.939726</td>\n",
              "      <td>0.800000</td>\n",
              "      <td>5.495890</td>\n",
              "      <td>4.715068</td>\n",
              "      <td>5.000000</td>\n",
              "      <td>1.000000</td>\n",
              "      <td>1.000000</td>\n",
              "      <td>0.000000</td>\n",
              "      <td>1.000000</td>\n",
              "      <td>0.000000</td>\n",
              "      <td>0.000000</td>\n",
              "      <td>2.000000</td>\n",
              "      <td>2.000000</td>\n",
              "      <td>2.000000</td>\n",
              "      <td>10.000000</td>\n",
              "      <td>0.000000</td>\n",
              "      <td>0.000000</td>\n",
              "      <td>0.000000</td>\n",
              "      <td>0.000000</td>\n",
              "      <td>0.000000</td>\n",
              "      <td>0.000000</td>\n",
              "      <td>0.334730</td>\n",
              "      <td>3.916131e-01</td>\n",
              "      <td>0.370650</td>\n",
              "      <td>0.057700</td>\n",
              "      <td>0.044300</td>\n",
              "      <td>0.976700</td>\n",
              "      <td>0.687200</td>\n",
              "      <td>0.007700</td>\n",
              "      <td>0.000000</td>\n",
              "      <td>...</td>\n",
              "      <td>0.069000</td>\n",
              "      <td>0.166700</td>\n",
              "      <td>0.083300</td>\n",
              "      <td>0.019300</td>\n",
              "      <td>0.051300</td>\n",
              "      <td>0.046300</td>\n",
              "      <td>0.000000</td>\n",
              "      <td>0.000000</td>\n",
              "      <td>0.041300</td>\n",
              "      <td>0.000000</td>\n",
              "      <td>0.000000</td>\n",
              "      <td>0.000000</td>\n",
              "      <td>0.000000</td>\n",
              "      <td>-1571.000000</td>\n",
              "      <td>0.000000</td>\n",
              "      <td>0.000000</td>\n",
              "      <td>0.000000</td>\n",
              "      <td>0.000000</td>\n",
              "      <td>0.000000</td>\n",
              "      <td>0.000000</td>\n",
              "      <td>0.000000</td>\n",
              "      <td>0.000000</td>\n",
              "      <td>0.000000</td>\n",
              "      <td>0.000000</td>\n",
              "      <td>0.000000</td>\n",
              "      <td>0.000000</td>\n",
              "      <td>0.000000</td>\n",
              "      <td>0.000000</td>\n",
              "      <td>0.000000</td>\n",
              "      <td>0.000000</td>\n",
              "      <td>0.000000</td>\n",
              "      <td>0.000000</td>\n",
              "      <td>0.000000</td>\n",
              "      <td>0.000000</td>\n",
              "      <td>0.000000</td>\n",
              "      <td>0.000000</td>\n",
              "      <td>0.000000</td>\n",
              "      <td>0.000000</td>\n",
              "      <td>0.000000</td>\n",
              "      <td>0.000000</td>\n",
              "    </tr>\n",
              "    <tr>\n",
              "      <th>50%</th>\n",
              "      <td>134926.000000</td>\n",
              "      <td>0.000000</td>\n",
              "      <td>0.000000</td>\n",
              "      <td>1.000000</td>\n",
              "      <td>0.000000</td>\n",
              "      <td>1.440000e+05</td>\n",
              "      <td>5.146020e+05</td>\n",
              "      <td>24907.500000</td>\n",
              "      <td>4.500000e+05</td>\n",
              "      <td>0.018850</td>\n",
              "      <td>43.131507</td>\n",
              "      <td>3.339726</td>\n",
              "      <td>12.312329</td>\n",
              "      <td>8.928767</td>\n",
              "      <td>9.000000</td>\n",
              "      <td>1.000000</td>\n",
              "      <td>1.000000</td>\n",
              "      <td>0.000000</td>\n",
              "      <td>1.000000</td>\n",
              "      <td>0.000000</td>\n",
              "      <td>0.000000</td>\n",
              "      <td>2.000000</td>\n",
              "      <td>2.000000</td>\n",
              "      <td>2.000000</td>\n",
              "      <td>12.000000</td>\n",
              "      <td>0.000000</td>\n",
              "      <td>0.000000</td>\n",
              "      <td>0.000000</td>\n",
              "      <td>0.000000</td>\n",
              "      <td>0.000000</td>\n",
              "      <td>0.000000</td>\n",
              "      <td>0.507123</td>\n",
              "      <td>5.662407e-01</td>\n",
              "      <td>0.535276</td>\n",
              "      <td>0.087600</td>\n",
              "      <td>0.076200</td>\n",
              "      <td>0.981600</td>\n",
              "      <td>0.755200</td>\n",
              "      <td>0.021000</td>\n",
              "      <td>0.000000</td>\n",
              "      <td>...</td>\n",
              "      <td>0.137900</td>\n",
              "      <td>0.166700</td>\n",
              "      <td>0.208300</td>\n",
              "      <td>0.049000</td>\n",
              "      <td>0.076100</td>\n",
              "      <td>0.074800</td>\n",
              "      <td>0.000000</td>\n",
              "      <td>0.003100</td>\n",
              "      <td>0.068600</td>\n",
              "      <td>0.000000</td>\n",
              "      <td>0.000000</td>\n",
              "      <td>0.000000</td>\n",
              "      <td>0.000000</td>\n",
              "      <td>-753.000000</td>\n",
              "      <td>0.000000</td>\n",
              "      <td>1.000000</td>\n",
              "      <td>0.000000</td>\n",
              "      <td>0.000000</td>\n",
              "      <td>0.000000</td>\n",
              "      <td>0.000000</td>\n",
              "      <td>0.000000</td>\n",
              "      <td>0.000000</td>\n",
              "      <td>0.000000</td>\n",
              "      <td>0.000000</td>\n",
              "      <td>0.000000</td>\n",
              "      <td>0.000000</td>\n",
              "      <td>0.000000</td>\n",
              "      <td>0.000000</td>\n",
              "      <td>0.000000</td>\n",
              "      <td>0.000000</td>\n",
              "      <td>0.000000</td>\n",
              "      <td>0.000000</td>\n",
              "      <td>0.000000</td>\n",
              "      <td>0.000000</td>\n",
              "      <td>0.000000</td>\n",
              "      <td>0.000000</td>\n",
              "      <td>0.000000</td>\n",
              "      <td>0.000000</td>\n",
              "      <td>0.000000</td>\n",
              "      <td>1.000000</td>\n",
              "    </tr>\n",
              "    <tr>\n",
              "      <th>75%</th>\n",
              "      <td>152277.000000</td>\n",
              "      <td>0.000000</td>\n",
              "      <td>1.000000</td>\n",
              "      <td>1.000000</td>\n",
              "      <td>1.000000</td>\n",
              "      <td>2.025000e+05</td>\n",
              "      <td>8.086500e+05</td>\n",
              "      <td>34587.000000</td>\n",
              "      <td>6.795000e+05</td>\n",
              "      <td>0.028663</td>\n",
              "      <td>53.841096</td>\n",
              "      <td>7.660274</td>\n",
              "      <td>20.465753</td>\n",
              "      <td>11.772603</td>\n",
              "      <td>15.000000</td>\n",
              "      <td>1.000000</td>\n",
              "      <td>1.000000</td>\n",
              "      <td>0.000000</td>\n",
              "      <td>1.000000</td>\n",
              "      <td>1.000000</td>\n",
              "      <td>0.000000</td>\n",
              "      <td>3.000000</td>\n",
              "      <td>2.000000</td>\n",
              "      <td>2.000000</td>\n",
              "      <td>14.000000</td>\n",
              "      <td>0.000000</td>\n",
              "      <td>0.000000</td>\n",
              "      <td>0.000000</td>\n",
              "      <td>0.000000</td>\n",
              "      <td>0.000000</td>\n",
              "      <td>0.000000</td>\n",
              "      <td>0.674763</td>\n",
              "      <td>6.638270e-01</td>\n",
              "      <td>0.669057</td>\n",
              "      <td>0.148500</td>\n",
              "      <td>0.112700</td>\n",
              "      <td>0.986600</td>\n",
              "      <td>0.823200</td>\n",
              "      <td>0.051100</td>\n",
              "      <td>0.120000</td>\n",
              "      <td>...</td>\n",
              "      <td>0.206900</td>\n",
              "      <td>0.333300</td>\n",
              "      <td>0.375000</td>\n",
              "      <td>0.087500</td>\n",
              "      <td>0.123100</td>\n",
              "      <td>0.130000</td>\n",
              "      <td>0.003900</td>\n",
              "      <td>0.026600</td>\n",
              "      <td>0.127400</td>\n",
              "      <td>2.000000</td>\n",
              "      <td>0.000000</td>\n",
              "      <td>2.000000</td>\n",
              "      <td>0.000000</td>\n",
              "      <td>-268.000000</td>\n",
              "      <td>0.000000</td>\n",
              "      <td>1.000000</td>\n",
              "      <td>0.000000</td>\n",
              "      <td>0.000000</td>\n",
              "      <td>0.000000</td>\n",
              "      <td>0.000000</td>\n",
              "      <td>0.000000</td>\n",
              "      <td>0.000000</td>\n",
              "      <td>0.000000</td>\n",
              "      <td>0.000000</td>\n",
              "      <td>0.000000</td>\n",
              "      <td>0.000000</td>\n",
              "      <td>0.000000</td>\n",
              "      <td>0.000000</td>\n",
              "      <td>0.000000</td>\n",
              "      <td>0.000000</td>\n",
              "      <td>0.000000</td>\n",
              "      <td>0.000000</td>\n",
              "      <td>0.000000</td>\n",
              "      <td>0.000000</td>\n",
              "      <td>0.000000</td>\n",
              "      <td>0.000000</td>\n",
              "      <td>0.000000</td>\n",
              "      <td>0.000000</td>\n",
              "      <td>0.000000</td>\n",
              "      <td>3.000000</td>\n",
              "    </tr>\n",
              "    <tr>\n",
              "      <th>max</th>\n",
              "      <td>169771.000000</td>\n",
              "      <td>1.000000</td>\n",
              "      <td>1.000000</td>\n",
              "      <td>1.000000</td>\n",
              "      <td>11.000000</td>\n",
              "      <td>1.170000e+08</td>\n",
              "      <td>4.050000e+06</td>\n",
              "      <td>258025.500000</td>\n",
              "      <td>4.050000e+06</td>\n",
              "      <td>0.072508</td>\n",
              "      <td>68.997260</td>\n",
              "      <td>48.030137</td>\n",
              "      <td>61.347945</td>\n",
              "      <td>17.073973</td>\n",
              "      <td>65.000000</td>\n",
              "      <td>1.000000</td>\n",
              "      <td>1.000000</td>\n",
              "      <td>1.000000</td>\n",
              "      <td>1.000000</td>\n",
              "      <td>1.000000</td>\n",
              "      <td>1.000000</td>\n",
              "      <td>13.000000</td>\n",
              "      <td>3.000000</td>\n",
              "      <td>3.000000</td>\n",
              "      <td>23.000000</td>\n",
              "      <td>1.000000</td>\n",
              "      <td>1.000000</td>\n",
              "      <td>1.000000</td>\n",
              "      <td>1.000000</td>\n",
              "      <td>1.000000</td>\n",
              "      <td>1.000000</td>\n",
              "      <td>0.944420</td>\n",
              "      <td>8.549997e-01</td>\n",
              "      <td>0.896010</td>\n",
              "      <td>1.000000</td>\n",
              "      <td>1.000000</td>\n",
              "      <td>1.000000</td>\n",
              "      <td>1.000000</td>\n",
              "      <td>1.000000</td>\n",
              "      <td>1.000000</td>\n",
              "      <td>...</td>\n",
              "      <td>1.000000</td>\n",
              "      <td>1.000000</td>\n",
              "      <td>1.000000</td>\n",
              "      <td>1.000000</td>\n",
              "      <td>1.000000</td>\n",
              "      <td>1.000000</td>\n",
              "      <td>1.000000</td>\n",
              "      <td>1.000000</td>\n",
              "      <td>1.000000</td>\n",
              "      <td>29.000000</td>\n",
              "      <td>6.000000</td>\n",
              "      <td>29.000000</td>\n",
              "      <td>5.000000</td>\n",
              "      <td>0.000000</td>\n",
              "      <td>1.000000</td>\n",
              "      <td>1.000000</td>\n",
              "      <td>1.000000</td>\n",
              "      <td>1.000000</td>\n",
              "      <td>1.000000</td>\n",
              "      <td>1.000000</td>\n",
              "      <td>1.000000</td>\n",
              "      <td>1.000000</td>\n",
              "      <td>1.000000</td>\n",
              "      <td>1.000000</td>\n",
              "      <td>1.000000</td>\n",
              "      <td>1.000000</td>\n",
              "      <td>1.000000</td>\n",
              "      <td>1.000000</td>\n",
              "      <td>1.000000</td>\n",
              "      <td>1.000000</td>\n",
              "      <td>1.000000</td>\n",
              "      <td>1.000000</td>\n",
              "      <td>1.000000</td>\n",
              "      <td>1.000000</td>\n",
              "      <td>3.000000</td>\n",
              "      <td>6.000000</td>\n",
              "      <td>6.000000</td>\n",
              "      <td>24.000000</td>\n",
              "      <td>8.000000</td>\n",
              "      <td>25.000000</td>\n",
              "    </tr>\n",
              "  </tbody>\n",
              "</table>\n",
              "<p>8 rows × 108 columns</p>\n",
              "</div>"
            ],
            "text/plain": [
              "          SK_ID_CURR  ...  AMT_REQ_CREDIT_BUREAU_YEAR\n",
              "count   60173.000000  ...                52120.000000\n",
              "mean   134898.791401  ...                    1.881754\n",
              "std     20092.197186  ...                    1.866864\n",
              "min    100002.000000  ...                    0.000000\n",
              "25%    117568.000000  ...                    0.000000\n",
              "50%    134926.000000  ...                    1.000000\n",
              "75%    152277.000000  ...                    3.000000\n",
              "max    169771.000000  ...                   25.000000\n",
              "\n",
              "[8 rows x 108 columns]"
            ]
          },
          "metadata": {
            "tags": []
          },
          "execution_count": 25
        }
      ]
    },
    {
      "cell_type": "code",
      "metadata": {
        "colab": {
          "base_uri": "https://localhost:8080/",
          "height": 116
        },
        "id": "UO367AZte1Yn",
        "outputId": "41f030c7-a3d9-432e-9054-2cc8f6897e1d"
      },
      "source": [
        "#checking for duplicate records if present:\n",
        "\n",
        "duplicate_data = df.duplicated()\n",
        "print(duplicate_data.sum())\n",
        "df[duplicate_data]\n",
        "#looks like there's no duplicate data present!"
      ],
      "execution_count": null,
      "outputs": [
        {
          "output_type": "stream",
          "text": [
            "0\n"
          ],
          "name": "stdout"
        },
        {
          "output_type": "execute_result",
          "data": {
            "text/html": [
              "<div>\n",
              "<style scoped>\n",
              "    .dataframe tbody tr th:only-of-type {\n",
              "        vertical-align: middle;\n",
              "    }\n",
              "\n",
              "    .dataframe tbody tr th {\n",
              "        vertical-align: top;\n",
              "    }\n",
              "\n",
              "    .dataframe thead th {\n",
              "        text-align: right;\n",
              "    }\n",
              "</style>\n",
              "<table border=\"1\" class=\"dataframe\">\n",
              "  <thead>\n",
              "    <tr style=\"text-align: right;\">\n",
              "      <th></th>\n",
              "      <th>SK_ID_CURR</th>\n",
              "      <th>TARGET</th>\n",
              "      <th>NAME_CONTRACT_TYPE</th>\n",
              "      <th>CODE_GENDER</th>\n",
              "      <th>FLAG_OWN_CAR</th>\n",
              "      <th>FLAG_OWN_REALTY</th>\n",
              "      <th>CNT_CHILDREN</th>\n",
              "      <th>AMT_INCOME_TOTAL</th>\n",
              "      <th>AMT_CREDIT</th>\n",
              "      <th>AMT_ANNUITY</th>\n",
              "      <th>AMT_GOODS_PRICE</th>\n",
              "      <th>NAME_TYPE_SUITE</th>\n",
              "      <th>NAME_INCOME_TYPE</th>\n",
              "      <th>NAME_EDUCATION_TYPE</th>\n",
              "      <th>NAME_FAMILY_STATUS</th>\n",
              "      <th>NAME_HOUSING_TYPE</th>\n",
              "      <th>REGION_POPULATION_RELATIVE</th>\n",
              "      <th>DAYS_BIRTH</th>\n",
              "      <th>DAYS_EMPLOYED</th>\n",
              "      <th>DAYS_REGISTRATION</th>\n",
              "      <th>DAYS_ID_PUBLISH</th>\n",
              "      <th>OWN_CAR_AGE</th>\n",
              "      <th>FLAG_MOBIL</th>\n",
              "      <th>FLAG_EMP_PHONE</th>\n",
              "      <th>FLAG_WORK_PHONE</th>\n",
              "      <th>FLAG_CONT_MOBILE</th>\n",
              "      <th>FLAG_PHONE</th>\n",
              "      <th>FLAG_EMAIL</th>\n",
              "      <th>OCCUPATION_TYPE</th>\n",
              "      <th>CNT_FAM_MEMBERS</th>\n",
              "      <th>REGION_RATING_CLIENT</th>\n",
              "      <th>REGION_RATING_CLIENT_W_CITY</th>\n",
              "      <th>WEEKDAY_APPR_PROCESS_START</th>\n",
              "      <th>HOUR_APPR_PROCESS_START</th>\n",
              "      <th>REG_REGION_NOT_LIVE_REGION</th>\n",
              "      <th>REG_REGION_NOT_WORK_REGION</th>\n",
              "      <th>LIVE_REGION_NOT_WORK_REGION</th>\n",
              "      <th>REG_CITY_NOT_LIVE_CITY</th>\n",
              "      <th>REG_CITY_NOT_WORK_CITY</th>\n",
              "      <th>LIVE_CITY_NOT_WORK_CITY</th>\n",
              "      <th>...</th>\n",
              "      <th>LIVINGAPARTMENTS_MEDI</th>\n",
              "      <th>LIVINGAREA_MEDI</th>\n",
              "      <th>NONLIVINGAPARTMENTS_MEDI</th>\n",
              "      <th>NONLIVINGAREA_MEDI</th>\n",
              "      <th>FONDKAPREMONT_MODE</th>\n",
              "      <th>HOUSETYPE_MODE</th>\n",
              "      <th>TOTALAREA_MODE</th>\n",
              "      <th>WALLSMATERIAL_MODE</th>\n",
              "      <th>EMERGENCYSTATE_MODE</th>\n",
              "      <th>OBS_30_CNT_SOCIAL_CIRCLE</th>\n",
              "      <th>DEF_30_CNT_SOCIAL_CIRCLE</th>\n",
              "      <th>OBS_60_CNT_SOCIAL_CIRCLE</th>\n",
              "      <th>DEF_60_CNT_SOCIAL_CIRCLE</th>\n",
              "      <th>DAYS_LAST_PHONE_CHANGE</th>\n",
              "      <th>FLAG_DOCUMENT_2</th>\n",
              "      <th>FLAG_DOCUMENT_3</th>\n",
              "      <th>FLAG_DOCUMENT_4</th>\n",
              "      <th>FLAG_DOCUMENT_5</th>\n",
              "      <th>FLAG_DOCUMENT_6</th>\n",
              "      <th>FLAG_DOCUMENT_7</th>\n",
              "      <th>FLAG_DOCUMENT_8</th>\n",
              "      <th>FLAG_DOCUMENT_9</th>\n",
              "      <th>FLAG_DOCUMENT_10</th>\n",
              "      <th>FLAG_DOCUMENT_11</th>\n",
              "      <th>FLAG_DOCUMENT_12</th>\n",
              "      <th>FLAG_DOCUMENT_13</th>\n",
              "      <th>FLAG_DOCUMENT_14</th>\n",
              "      <th>FLAG_DOCUMENT_15</th>\n",
              "      <th>FLAG_DOCUMENT_16</th>\n",
              "      <th>FLAG_DOCUMENT_17</th>\n",
              "      <th>FLAG_DOCUMENT_18</th>\n",
              "      <th>FLAG_DOCUMENT_19</th>\n",
              "      <th>FLAG_DOCUMENT_20</th>\n",
              "      <th>FLAG_DOCUMENT_21</th>\n",
              "      <th>AMT_REQ_CREDIT_BUREAU_HOUR</th>\n",
              "      <th>AMT_REQ_CREDIT_BUREAU_DAY</th>\n",
              "      <th>AMT_REQ_CREDIT_BUREAU_WEEK</th>\n",
              "      <th>AMT_REQ_CREDIT_BUREAU_MON</th>\n",
              "      <th>AMT_REQ_CREDIT_BUREAU_QRT</th>\n",
              "      <th>AMT_REQ_CREDIT_BUREAU_YEAR</th>\n",
              "    </tr>\n",
              "  </thead>\n",
              "  <tbody>\n",
              "  </tbody>\n",
              "</table>\n",
              "<p>0 rows × 122 columns</p>\n",
              "</div>"
            ],
            "text/plain": [
              "Empty DataFrame\n",
              "Columns: [SK_ID_CURR, TARGET, NAME_CONTRACT_TYPE, CODE_GENDER, FLAG_OWN_CAR, FLAG_OWN_REALTY, CNT_CHILDREN, AMT_INCOME_TOTAL, AMT_CREDIT, AMT_ANNUITY, AMT_GOODS_PRICE, NAME_TYPE_SUITE, NAME_INCOME_TYPE, NAME_EDUCATION_TYPE, NAME_FAMILY_STATUS, NAME_HOUSING_TYPE, REGION_POPULATION_RELATIVE, DAYS_BIRTH, DAYS_EMPLOYED, DAYS_REGISTRATION, DAYS_ID_PUBLISH, OWN_CAR_AGE, FLAG_MOBIL, FLAG_EMP_PHONE, FLAG_WORK_PHONE, FLAG_CONT_MOBILE, FLAG_PHONE, FLAG_EMAIL, OCCUPATION_TYPE, CNT_FAM_MEMBERS, REGION_RATING_CLIENT, REGION_RATING_CLIENT_W_CITY, WEEKDAY_APPR_PROCESS_START, HOUR_APPR_PROCESS_START, REG_REGION_NOT_LIVE_REGION, REG_REGION_NOT_WORK_REGION, LIVE_REGION_NOT_WORK_REGION, REG_CITY_NOT_LIVE_CITY, REG_CITY_NOT_WORK_CITY, LIVE_CITY_NOT_WORK_CITY, ORGANIZATION_TYPE, EXT_SOURCE_1, EXT_SOURCE_2, EXT_SOURCE_3, APARTMENTS_AVG, BASEMENTAREA_AVG, YEARS_BEGINEXPLUATATION_AVG, YEARS_BUILD_AVG, COMMONAREA_AVG, ELEVATORS_AVG, ENTRANCES_AVG, FLOORSMAX_AVG, FLOORSMIN_AVG, LANDAREA_AVG, LIVINGAPARTMENTS_AVG, LIVINGAREA_AVG, NONLIVINGAPARTMENTS_AVG, NONLIVINGAREA_AVG, APARTMENTS_MODE, BASEMENTAREA_MODE, YEARS_BEGINEXPLUATATION_MODE, YEARS_BUILD_MODE, COMMONAREA_MODE, ELEVATORS_MODE, ENTRANCES_MODE, FLOORSMAX_MODE, FLOORSMIN_MODE, LANDAREA_MODE, LIVINGAPARTMENTS_MODE, LIVINGAREA_MODE, NONLIVINGAPARTMENTS_MODE, NONLIVINGAREA_MODE, APARTMENTS_MEDI, BASEMENTAREA_MEDI, YEARS_BEGINEXPLUATATION_MEDI, YEARS_BUILD_MEDI, COMMONAREA_MEDI, ELEVATORS_MEDI, ENTRANCES_MEDI, FLOORSMAX_MEDI, FLOORSMIN_MEDI, LANDAREA_MEDI, LIVINGAPARTMENTS_MEDI, LIVINGAREA_MEDI, NONLIVINGAPARTMENTS_MEDI, NONLIVINGAREA_MEDI, FONDKAPREMONT_MODE, HOUSETYPE_MODE, TOTALAREA_MODE, WALLSMATERIAL_MODE, EMERGENCYSTATE_MODE, OBS_30_CNT_SOCIAL_CIRCLE, DEF_30_CNT_SOCIAL_CIRCLE, OBS_60_CNT_SOCIAL_CIRCLE, DEF_60_CNT_SOCIAL_CIRCLE, DAYS_LAST_PHONE_CHANGE, FLAG_DOCUMENT_2, FLAG_DOCUMENT_3, FLAG_DOCUMENT_4, FLAG_DOCUMENT_5, ...]\n",
              "Index: []\n",
              "\n",
              "[0 rows x 122 columns]"
            ]
          },
          "metadata": {
            "tags": []
          },
          "execution_count": 26
        }
      ]
    },
    {
      "cell_type": "markdown",
      "metadata": {
        "id": "e_D5k9oTYi1z"
      },
      "source": [
        "### Data Cleaning: Outlier Treatment & Missing values:"
      ]
    },
    {
      "cell_type": "code",
      "metadata": {
        "colab": {
          "base_uri": "https://localhost:8080/",
          "height": 313
        },
        "id": "ZHtJQphaYr9R",
        "outputId": "6561f9ca-a7b7-40a5-9b19-db2e9489b8f6"
      },
      "source": [
        "df['DAYS_EMPLOYED'].plot.hist(title = 'Days Employment Histogram');\n",
        "plt.xlabel('Days Employment')"
      ],
      "execution_count": null,
      "outputs": [
        {
          "output_type": "execute_result",
          "data": {
            "text/plain": [
              "Text(0.5, 0, 'Days Employment')"
            ]
          },
          "metadata": {
            "tags": []
          },
          "execution_count": 27
        },
        {
          "output_type": "display_data",
          "data": {
            "image/png": "[encoded data removed]",
            "text/plain": [
              "<Figure size 432x288 with 1 Axes>"
            ]
          },
          "metadata": {
            "tags": [],
            "needs_background": "light"
          }
        }
      ]
    },
    {
      "cell_type": "markdown",
      "metadata": {
        "id": "aQCe7i8daAOb"
      },
      "source": [
        "Looks like it has negetive outliers surrounded with a value of -1000. It's obvious that a person's days employed cant be negetive 1000s. We'll set a threshold and remove them."
      ]
    },
    {
      "cell_type": "code",
      "metadata": {
        "id": "ii6kFj0YbtSz"
      },
      "source": [
        "df1=df.copy()"
      ],
      "execution_count": null,
      "outputs": []
    },
    {
      "cell_type": "markdown",
      "metadata": {
        "id": "0AsHf8UBKtV6"
      },
      "source": [
        "Going with the IQR approach for handling outliers"
      ]
    },
    {
      "cell_type": "code",
      "metadata": {
        "colab": {
          "base_uri": "https://localhost:8080/"
        },
        "id": "dXL131Xuh5N1",
        "outputId": "5016e55e-7f53-4c3b-f81f-00f8830ca60f"
      },
      "source": [
        "Q1 = df1.quantile(0.25)\n",
        "Q3 = df1.quantile(0.75)\n",
        "IQR = Q3 - Q1\n",
        "print(IQR)"
      ],
      "execution_count": null,
      "outputs": [
        {
          "output_type": "stream",
          "text": [
            "SK_ID_CURR                    34709.0\n",
            "TARGET                            0.0\n",
            "FLAG_OWN_CAR                      1.0\n",
            "FLAG_OWN_REALTY                   1.0\n",
            "CNT_CHILDREN                      1.0\n",
            "                               ...   \n",
            "AMT_REQ_CREDIT_BUREAU_DAY         0.0\n",
            "AMT_REQ_CREDIT_BUREAU_WEEK        0.0\n",
            "AMT_REQ_CREDIT_BUREAU_MON         0.0\n",
            "AMT_REQ_CREDIT_BUREAU_QRT         0.0\n",
            "AMT_REQ_CREDIT_BUREAU_YEAR        3.0\n",
            "Length: 108, dtype: float64\n"
          ],
          "name": "stdout"
        }
      ]
    },
    {
      "cell_type": "code",
      "metadata": {
        "id": "cdiX82vKh6y9"
      },
      "source": [
        "#writing a outlier function for removing outliers!\n",
        "def outlier_treatment(datacolumn):\n",
        " sorted(datacolumn)\n",
        " Q1,Q3 = np.percentile(datacolumn , [25,75])\n",
        " IQR = Q3 - Q1\n",
        " lower_range = Q1 - (1.5 * IQR)\n",
        " upper_range = Q3 + (1.5 * IQR)\n",
        " \n",
        " return lower_range,upper_range"
      ],
      "execution_count": null,
      "outputs": []
    },
    {
      "cell_type": "code",
      "metadata": {
        "id": "IEL_uvuWiH-1"
      },
      "source": [
        "lower_bound,upper_bound = outlier_treatment(df1['DAYS_EMPLOYED'])"
      ],
      "execution_count": null,
      "outputs": []
    },
    {
      "cell_type": "code",
      "metadata": {
        "id": "Bw5DEa9HiXo1"
      },
      "source": [
        "df1_new = df1[(df1.DAYS_EMPLOYED>lower_bound) & (df1.DAYS_EMPLOYED<upper_bound)]"
      ],
      "execution_count": null,
      "outputs": []
    },
    {
      "cell_type": "code",
      "metadata": {
        "colab": {
          "base_uri": "https://localhost:8080/"
        },
        "id": "mcSEuaIii18J",
        "outputId": "6f1aa5fa-9159-458e-ba10-be85bfce21ba"
      },
      "source": [
        "df1_new.DAYS_EMPLOYED.describe()"
      ],
      "execution_count": null,
      "outputs": [
        {
          "output_type": "execute_result",
          "data": {
            "text/plain": [
              "count    46144.000000\n",
              "mean         5.273835\n",
              "std          4.148785\n",
              "min          0.000000\n",
              "25%          1.961644\n",
              "50%          4.150685\n",
              "75%          7.731507\n",
              "max         17.947945\n",
              "Name: DAYS_EMPLOYED, dtype: float64"
            ]
          },
          "metadata": {
            "tags": []
          },
          "execution_count": 33
        }
      ]
    },
    {
      "cell_type": "markdown",
      "metadata": {
        "id": "sbPr-x2kjIvw"
      },
      "source": [
        "**Let's check the distribution for 'DAYS EMPLOYED' now:**"
      ]
    },
    {
      "cell_type": "code",
      "metadata": {
        "colab": {
          "base_uri": "https://localhost:8080/",
          "height": 355
        },
        "id": "q-I_KTOBjG72",
        "outputId": "f9176ab7-0f6e-4c22-ac0f-17de60b14f45"
      },
      "source": [
        "sns.distplot(df1_new['DAYS_EMPLOYED'])"
      ],
      "execution_count": null,
      "outputs": [
        {
          "output_type": "stream",
          "text": [
            "/usr/local/lib/python3.7/dist-packages/seaborn/distributions.py:2557: FutureWarning: `distplot` is a deprecated function and will be removed in a future version. Please adapt your code to use either `displot` (a figure-level function with similar flexibility) or `histplot` (an axes-level function for histograms).\n",
            "  warnings.warn(msg, FutureWarning)\n"
          ],
          "name": "stderr"
        },
        {
          "output_type": "execute_result",
          "data": {
            "text/plain": [
              "<matplotlib.axes._subplots.AxesSubplot at 0x7efee2c8dc90>"
            ]
          },
          "metadata": {
            "tags": []
          },
          "execution_count": 34
        },
        {
          "output_type": "display_data",
          "data": {
            "image/png": "[encoded data removed]",
            "text/plain": [
              "<Figure size 432x288 with 1 Axes>"
            ]
          },
          "metadata": {
            "tags": [],
            "needs_background": "light"
          }
        }
      ]
    },
    {
      "cell_type": "markdown",
      "metadata": {
        "id": "UgE_BL-tkAjk"
      },
      "source": [
        "The distribution now looks better instead of clinging to a negetive outlier value. But, its not a gaussian distribution and is positively skewed. So, we are good to apply normalization on train & test data."
      ]
    },
    {
      "cell_type": "code",
      "metadata": {
        "colab": {
          "base_uri": "https://localhost:8080/"
        },
        "id": "8qRYPcGUjGEo",
        "outputId": "1fb9c21d-481a-4ac0-e341-434abc132b16"
      },
      "source": [
        "#skewness and kurtosis\n",
        "print(\"Skewness: %f\" % df1_new['DAYS_EMPLOYED'].skew())\n",
        "print(\"Kurtosis: %f\" % df1_new['DAYS_EMPLOYED'].kurt())"
      ],
      "execution_count": null,
      "outputs": [
        {
          "output_type": "stream",
          "text": [
            "Skewness: 0.958125\n",
            "Kurtosis: 0.154962\n"
          ],
          "name": "stdout"
        }
      ]
    },
    {
      "cell_type": "markdown",
      "metadata": {
        "id": "_WLhRmnHkypE"
      },
      "source": [
        "A skewness value between the range 0.5 & 1 is moderately skewed distribution and the kurtosis is also low which is caused by the process that directly leads to high peaks than  fat tails. "
      ]
    },
    {
      "cell_type": "code",
      "metadata": {
        "colab": {
          "base_uri": "https://localhost:8080/",
          "height": 355
        },
        "id": "iLJfHk3mkdVQ",
        "outputId": "83851b01-bf0e-4633-b745-add57adaa378"
      },
      "source": [
        "sns.boxplot(df1_new['DAYS_EMPLOYED'])"
      ],
      "execution_count": null,
      "outputs": [
        {
          "output_type": "stream",
          "text": [
            "/usr/local/lib/python3.7/dist-packages/seaborn/_decorators.py:43: FutureWarning: Pass the following variable as a keyword arg: x. From version 0.12, the only valid positional argument will be `data`, and passing other arguments without an explicit keyword will result in an error or misinterpretation.\n",
            "  FutureWarning\n"
          ],
          "name": "stderr"
        },
        {
          "output_type": "execute_result",
          "data": {
            "text/plain": [
              "<matplotlib.axes._subplots.AxesSubplot at 0x7efee31838d0>"
            ]
          },
          "metadata": {
            "tags": []
          },
          "execution_count": 36
        },
        {
          "output_type": "display_data",
          "data": {
            "image/png": "[encoded data removed]",
            "text/plain": [
              "<Figure size 432x288 with 1 Axes>"
            ]
          },
          "metadata": {
            "tags": [],
            "needs_background": "light"
          }
        }
      ]
    },
    {
      "cell_type": "markdown",
      "metadata": {
        "id": "g8Gk5QAClfjg"
      },
      "source": [
        "From the box-plot we can clearly visualize that we've successfuly removed the high-range outliers from the feature 'DAYS_EMPLOYED'."
      ]
    },
    {
      "cell_type": "markdown",
      "metadata": {
        "id": "du5i1cVS28nm"
      },
      "source": [
        "### Univariate Analysis:"
      ]
    },
    {
      "cell_type": "code",
      "metadata": {
        "colab": {
          "base_uri": "https://localhost:8080/",
          "height": 460
        },
        "id": "CWyDzJ5TmmLb",
        "outputId": "4d899d41-fab6-49fd-890a-be5d0ace8b32"
      },
      "source": [
        "f,ax=plt.subplots(1,2,figsize=(12,6))\n",
        "df.TARGET.value_counts().plot.pie(explode=[0,0.1],autopct='%1.1f%%',ax=ax[0],shadow=True)\n",
        "ax[0].set_title('Distribution of target variable')\n",
        "ax[0].set_ylabel('')\n",
        "sns.countplot('TARGET',data=df1_new,ax=ax[1])\n",
        "ax[1].set_title('Count of Repayer VS defaulter')\n",
        "plt.show()"
      ],
      "execution_count": null,
      "outputs": [
        {
          "output_type": "stream",
          "text": [
            "/usr/local/lib/python3.7/dist-packages/seaborn/_decorators.py:43: FutureWarning: Pass the following variable as a keyword arg: x. From version 0.12, the only valid positional argument will be `data`, and passing other arguments without an explicit keyword will result in an error or misinterpretation.\n",
            "  FutureWarning\n"
          ],
          "name": "stderr"
        },
        {
          "output_type": "display_data",
          "data": {
            "image/png": "[encoded data removed]",
            "text/plain": [
              "<Figure size 864x432 with 2 Axes>"
            ]
          },
          "metadata": {
            "tags": [],
            "needs_background": "light"
          }
        }
      ]
    },
    {
      "cell_type": "markdown",
      "metadata": {
        "id": "sTjpp-GHUFAO"
      },
      "source": [
        "It is evident that many customer are able to pay the loan back i.e Only 92% of the total customer are repaying the loan back. While 8% of the customer are unable to repay!"
      ]
    },
    {
      "cell_type": "markdown",
      "metadata": {
        "id": "70EVaf4g3N1d"
      },
      "source": [
        "**Who is the highest borrower? Male or Female?**"
      ]
    },
    {
      "cell_type": "code",
      "metadata": {
        "colab": {
          "base_uri": "https://localhost:8080/",
          "height": 461
        },
        "id": "6X-5dFPn3Af3",
        "outputId": "5b8fe6ad-0134-4eb9-a28f-b06af51eccf8"
      },
      "source": [
        "fig, ax = plt.subplots(figsize=(10,7))\n",
        "sns.countplot(x='CODE_GENDER',data=df1_new)"
      ],
      "execution_count": null,
      "outputs": [
        {
          "output_type": "execute_result",
          "data": {
            "text/plain": [
              "<matplotlib.axes._subplots.AxesSubplot at 0x7efed82f6c90>"
            ]
          },
          "metadata": {
            "tags": []
          },
          "execution_count": 38
        },
        {
          "output_type": "display_data",
          "data": {
            "image/png": "[encoded data removed]",
            "text/plain": [
              "<Figure size 720x504 with 1 Axes>"
            ]
          },
          "metadata": {
            "tags": [],
            "needs_background": "light"
          }
        }
      ]
    },
    {
      "cell_type": "markdown",
      "metadata": {
        "id": "OqsnXesc4com"
      },
      "source": [
        "**Females** holds the highest counts as borrowers."
      ]
    },
    {
      "cell_type": "markdown",
      "metadata": {
        "id": "bHPzEXjk4jUd"
      },
      "source": [
        "Let's now understand who faces the problem in repaying the loan back? Is it Male/female?"
      ]
    },
    {
      "cell_type": "code",
      "metadata": {
        "colab": {
          "base_uri": "https://localhost:8080/",
          "height": 460
        },
        "id": "X7dnbJFJ46sV",
        "outputId": "ad296289-b24f-47e4-a90c-d297dc2508b9"
      },
      "source": [
        "fig, ax = plt.subplots(figsize=(10,7))\n",
        "sns.countplot(x='TARGET',hue='CODE_GENDER',data=df1_new)"
      ],
      "execution_count": null,
      "outputs": [
        {
          "output_type": "execute_result",
          "data": {
            "text/plain": [
              "<matplotlib.axes._subplots.AxesSubplot at 0x7efed82d33d0>"
            ]
          },
          "metadata": {
            "tags": []
          },
          "execution_count": 39
        },
        {
          "output_type": "display_data",
          "data": {
            "image/png": "[encoded data removed]",
            "text/plain": [
              "<Figure size 720x504 with 1 Axes>"
            ]
          },
          "metadata": {
            "tags": [],
            "needs_background": "light"
          }
        }
      ]
    },
    {
      "cell_type": "markdown",
      "metadata": {
        "id": "2LLe5W-b5NQ5"
      },
      "source": [
        "Looking at this we are clear that **Females** faces the **problem of repaying the loan amount back** as compared to Males."
      ]
    },
    {
      "cell_type": "markdown",
      "metadata": {
        "id": "YViXP7FG8Nha"
      },
      "source": [
        "**Borrowers & their occupancy type with their chances of repaying the loan back:**"
      ]
    },
    {
      "cell_type": "code",
      "metadata": {
        "id": "Feih0o56utT6",
        "colab": {
          "base_uri": "https://localhost:8080/",
          "height": 535
        },
        "outputId": "5f564d83-e903-4211-b6fa-49830aa05ab0"
      },
      "source": [
        "fig, ax = plt.subplots(figsize=(15,7))\n",
        "sns.countplot(x='OCCUPATION_TYPE',data=df1_new)\n",
        "plt.xlabel(\"Occupation Type\")\n",
        "plt.xticks(rotation=70)\n",
        "plt.show()"
      ],
      "execution_count": null,
      "outputs": [
        {
          "output_type": "display_data",
          "data": {
            "image/png": "[encoded data removed]",
            "text/plain": [
              "<Figure size 1080x504 with 1 Axes>"
            ]
          },
          "metadata": {
            "tags": [],
            "needs_background": "light"
          }
        }
      ]
    },
    {
      "cell_type": "markdown",
      "metadata": {
        "id": "uffvBzBl8rYf"
      },
      "source": [
        "Occupation type with **Labourers** seems to have borrowed the most no of loans followed by **Sales staff**."
      ]
    },
    {
      "cell_type": "markdown",
      "metadata": {
        "id": "Any3kiFhUVPh"
      },
      "source": [
        "### Multivariate Analysis:"
      ]
    },
    {
      "cell_type": "code",
      "metadata": {
        "colab": {
          "base_uri": "https://localhost:8080/",
          "height": 365
        },
        "id": "RX3ScG8qX0Y-",
        "outputId": "5a930ecd-f753-418e-f0db-bc696fb0a457"
      },
      "source": [
        "sns.countplot(x=\"NAME_FAMILY_STATUS\", hue=\"TARGET\", data=df1_new, palette=\"icefire\")\n",
        "plt.xticks(rotation=45)"
      ],
      "execution_count": null,
      "outputs": [
        {
          "output_type": "execute_result",
          "data": {
            "text/plain": [
              "(array([0, 1, 2, 3, 4, 5]), <a list of 6 Text major ticklabel objects>)"
            ]
          },
          "metadata": {
            "tags": []
          },
          "execution_count": 41
        },
        {
          "output_type": "display_data",
          "data": {
            "image/png": "[encoded data removed]",
            "text/plain": [
              "<Figure size 432x288 with 1 Axes>"
            ]
          },
          "metadata": {
            "tags": [],
            "needs_background": "light"
          }
        }
      ]
    },
    {
      "cell_type": "markdown",
      "metadata": {
        "id": "x0BjHtrXofnc"
      },
      "source": [
        "Mostly **Married couples** are on default list having the highest numbers for not repaying the loan back & also they are the one's who are able to pay their loans back than the other classes of family."
      ]
    },
    {
      "cell_type": "code",
      "metadata": {
        "colab": {
          "base_uri": "https://localhost:8080/",
          "height": 280
        },
        "id": "VFUQ0vanoYh9",
        "outputId": "e993f4f7-dd91-4289-d182-c9cd8a60f2fd"
      },
      "source": [
        "sns.countplot(x=\"CNT_CHILDREN\", hue=\"TARGET\", data=df1_new, palette=\"icefire\")\n",
        "plt.xticks()\n",
        "plt.show()"
      ],
      "execution_count": null,
      "outputs": [
        {
          "output_type": "display_data",
          "data": {
            "image/png": "[encoded data removed]",
            "text/plain": [
              "<Figure size 432x288 with 1 Axes>"
            ]
          },
          "metadata": {
            "tags": [],
            "needs_background": "light"
          }
        }
      ]
    },
    {
      "cell_type": "markdown",
      "metadata": {
        "id": "8lCMuf5eroJC"
      },
      "source": [
        "The families with no children has the highest counts of repaying the loan back. Families with more than 3 children are most likely facing problems to pay their loans back."
      ]
    },
    {
      "cell_type": "code",
      "metadata": {
        "colab": {
          "base_uri": "https://localhost:8080/",
          "height": 385
        },
        "id": "MCJo9ZmTpkBQ",
        "outputId": "09db3987-094d-45b5-c485-04ce69a3b803"
      },
      "source": [
        "sns.countplot(x=\"NAME_EDUCATION_TYPE\", hue=\"TARGET\", data=df1_new, palette=\"icefire\")\n",
        "plt.xticks(rotation=45)\n",
        "plt.show()"
      ],
      "execution_count": null,
      "outputs": [
        {
          "output_type": "display_data",
          "data": {
            "image/png": "[encoded data removed]",
            "text/plain": [
              "<Figure size 432x288 with 1 Axes>"
            ]
          },
          "metadata": {
            "tags": [],
            "needs_background": "light"
          }
        }
      ]
    },
    {
      "cell_type": "markdown",
      "metadata": {
        "id": "HBIur3Sxsc4z"
      },
      "source": [
        "Families with status as Secondary/secondary special & higher education are mostly paying their loans as they are not in the defaulter's regime."
      ]
    },
    {
      "cell_type": "code",
      "metadata": {
        "colab": {
          "base_uri": "https://localhost:8080/",
          "height": 513
        },
        "id": "IXDzX1TFtoDH",
        "outputId": "70b07934-feda-4d85-eaf5-52c4f141c471"
      },
      "source": [
        "plt.figure(figsize=(10,8))\n",
        "plt.title('Age Distribution')\n",
        "plt.xlabel('Age')\n",
        "sns.kdeplot(data=df1_new, x=\"DAYS_BIRTH\", hue=\"TARGET\", multiple=\"stack\")\n",
        "plt.grid()\n",
        "plt.show()"
      ],
      "execution_count": null,
      "outputs": [
        {
          "output_type": "display_data",
          "data": {
            "image/png": "[encoded data removed]",
            "text/plain": [
              "<Figure size 720x576 with 1 Axes>"
            ]
          },
          "metadata": {
            "tags": [],
            "needs_background": "light"
          }
        }
      ]
    },
    {
      "cell_type": "markdown",
      "metadata": {
        "id": "IVQrwi5f74r4"
      },
      "source": [
        "From the KDE graph we can clearly visualize and say that **younger people has more difficulty** than the older ones in **repaying the loan back**."
      ]
    },
    {
      "cell_type": "code",
      "metadata": {
        "colab": {
          "base_uri": "https://localhost:8080/",
          "height": 553
        },
        "id": "6n7iDD-z8bUo",
        "outputId": "4dd42434-feb4-4a8e-8030-87c357cfe403"
      },
      "source": [
        "fig, ax = plt.subplots(figsize=(15,7))\n",
        "sns.barplot(x='OCCUPATION_TYPE',y='AMT_INCOME_TOTAL',data=df1_new)\n",
        "plt.xticks(rotation=70)\n",
        "plt.xlabel(\"Occupation Type\")\n",
        "plt.ylabel(\"Average Annual family income\")"
      ],
      "execution_count": null,
      "outputs": [
        {
          "output_type": "execute_result",
          "data": {
            "text/plain": [
              "Text(0, 0.5, 'Average Annual family income')"
            ]
          },
          "metadata": {
            "tags": []
          },
          "execution_count": 45
        },
        {
          "output_type": "display_data",
          "data": {
            "image/png": "[encoded data removed]",
            "text/plain": [
              "<Figure size 1080x504 with 1 Axes>"
            ]
          },
          "metadata": {
            "tags": [],
            "needs_background": "light"
          }
        }
      ]
    },
    {
      "cell_type": "markdown",
      "metadata": {
        "id": "LTATYRQS-TCq"
      },
      "source": [
        "Borrowers with Occupation type as: **Managers** are more likely having higher avg income followed by **IT/HR staff** & **Realty agents**."
      ]
    },
    {
      "cell_type": "code",
      "metadata": {
        "colab": {
          "base_uri": "https://localhost:8080/",
          "height": 226
        },
        "id": "N9MwkGKL-RIP",
        "outputId": "d624ae02-0797-42b0-d375-f065eb483c84"
      },
      "source": [
        "df1_new.head(3)"
      ],
      "execution_count": null,
      "outputs": [
        {
          "output_type": "execute_result",
          "data": {
            "text/html": [
              "<div>\n",
              "<style scoped>\n",
              "    .dataframe tbody tr th:only-of-type {\n",
              "        vertical-align: middle;\n",
              "    }\n",
              "\n",
              "    .dataframe tbody tr th {\n",
              "        vertical-align: top;\n",
              "    }\n",
              "\n",
              "    .dataframe thead th {\n",
              "        text-align: right;\n",
              "    }\n",
              "</style>\n",
              "<table border=\"1\" class=\"dataframe\">\n",
              "  <thead>\n",
              "    <tr style=\"text-align: right;\">\n",
              "      <th></th>\n",
              "      <th>SK_ID_CURR</th>\n",
              "      <th>TARGET</th>\n",
              "      <th>NAME_CONTRACT_TYPE</th>\n",
              "      <th>CODE_GENDER</th>\n",
              "      <th>FLAG_OWN_CAR</th>\n",
              "      <th>FLAG_OWN_REALTY</th>\n",
              "      <th>CNT_CHILDREN</th>\n",
              "      <th>AMT_INCOME_TOTAL</th>\n",
              "      <th>AMT_CREDIT</th>\n",
              "      <th>AMT_ANNUITY</th>\n",
              "      <th>AMT_GOODS_PRICE</th>\n",
              "      <th>NAME_TYPE_SUITE</th>\n",
              "      <th>NAME_INCOME_TYPE</th>\n",
              "      <th>NAME_EDUCATION_TYPE</th>\n",
              "      <th>NAME_FAMILY_STATUS</th>\n",
              "      <th>NAME_HOUSING_TYPE</th>\n",
              "      <th>REGION_POPULATION_RELATIVE</th>\n",
              "      <th>DAYS_BIRTH</th>\n",
              "      <th>DAYS_EMPLOYED</th>\n",
              "      <th>DAYS_REGISTRATION</th>\n",
              "      <th>DAYS_ID_PUBLISH</th>\n",
              "      <th>OWN_CAR_AGE</th>\n",
              "      <th>FLAG_MOBIL</th>\n",
              "      <th>FLAG_EMP_PHONE</th>\n",
              "      <th>FLAG_WORK_PHONE</th>\n",
              "      <th>FLAG_CONT_MOBILE</th>\n",
              "      <th>FLAG_PHONE</th>\n",
              "      <th>FLAG_EMAIL</th>\n",
              "      <th>OCCUPATION_TYPE</th>\n",
              "      <th>CNT_FAM_MEMBERS</th>\n",
              "      <th>REGION_RATING_CLIENT</th>\n",
              "      <th>REGION_RATING_CLIENT_W_CITY</th>\n",
              "      <th>WEEKDAY_APPR_PROCESS_START</th>\n",
              "      <th>HOUR_APPR_PROCESS_START</th>\n",
              "      <th>REG_REGION_NOT_LIVE_REGION</th>\n",
              "      <th>REG_REGION_NOT_WORK_REGION</th>\n",
              "      <th>LIVE_REGION_NOT_WORK_REGION</th>\n",
              "      <th>REG_CITY_NOT_LIVE_CITY</th>\n",
              "      <th>REG_CITY_NOT_WORK_CITY</th>\n",
              "      <th>LIVE_CITY_NOT_WORK_CITY</th>\n",
              "      <th>...</th>\n",
              "      <th>LIVINGAPARTMENTS_MEDI</th>\n",
              "      <th>LIVINGAREA_MEDI</th>\n",
              "      <th>NONLIVINGAPARTMENTS_MEDI</th>\n",
              "      <th>NONLIVINGAREA_MEDI</th>\n",
              "      <th>FONDKAPREMONT_MODE</th>\n",
              "      <th>HOUSETYPE_MODE</th>\n",
              "      <th>TOTALAREA_MODE</th>\n",
              "      <th>WALLSMATERIAL_MODE</th>\n",
              "      <th>EMERGENCYSTATE_MODE</th>\n",
              "      <th>OBS_30_CNT_SOCIAL_CIRCLE</th>\n",
              "      <th>DEF_30_CNT_SOCIAL_CIRCLE</th>\n",
              "      <th>OBS_60_CNT_SOCIAL_CIRCLE</th>\n",
              "      <th>DEF_60_CNT_SOCIAL_CIRCLE</th>\n",
              "      <th>DAYS_LAST_PHONE_CHANGE</th>\n",
              "      <th>FLAG_DOCUMENT_2</th>\n",
              "      <th>FLAG_DOCUMENT_3</th>\n",
              "      <th>FLAG_DOCUMENT_4</th>\n",
              "      <th>FLAG_DOCUMENT_5</th>\n",
              "      <th>FLAG_DOCUMENT_6</th>\n",
              "      <th>FLAG_DOCUMENT_7</th>\n",
              "      <th>FLAG_DOCUMENT_8</th>\n",
              "      <th>FLAG_DOCUMENT_9</th>\n",
              "      <th>FLAG_DOCUMENT_10</th>\n",
              "      <th>FLAG_DOCUMENT_11</th>\n",
              "      <th>FLAG_DOCUMENT_12</th>\n",
              "      <th>FLAG_DOCUMENT_13</th>\n",
              "      <th>FLAG_DOCUMENT_14</th>\n",
              "      <th>FLAG_DOCUMENT_15</th>\n",
              "      <th>FLAG_DOCUMENT_16</th>\n",
              "      <th>FLAG_DOCUMENT_17</th>\n",
              "      <th>FLAG_DOCUMENT_18</th>\n",
              "      <th>FLAG_DOCUMENT_19</th>\n",
              "      <th>FLAG_DOCUMENT_20</th>\n",
              "      <th>FLAG_DOCUMENT_21</th>\n",
              "      <th>AMT_REQ_CREDIT_BUREAU_HOUR</th>\n",
              "      <th>AMT_REQ_CREDIT_BUREAU_DAY</th>\n",
              "      <th>AMT_REQ_CREDIT_BUREAU_WEEK</th>\n",
              "      <th>AMT_REQ_CREDIT_BUREAU_MON</th>\n",
              "      <th>AMT_REQ_CREDIT_BUREAU_QRT</th>\n",
              "      <th>AMT_REQ_CREDIT_BUREAU_YEAR</th>\n",
              "    </tr>\n",
              "  </thead>\n",
              "  <tbody>\n",
              "    <tr>\n",
              "      <th>0</th>\n",
              "      <td>100002</td>\n",
              "      <td>1</td>\n",
              "      <td>Cash loans</td>\n",
              "      <td>M</td>\n",
              "      <td>0</td>\n",
              "      <td>1</td>\n",
              "      <td>0</td>\n",
              "      <td>202500.0</td>\n",
              "      <td>406597.5</td>\n",
              "      <td>24700.5</td>\n",
              "      <td>351000.0</td>\n",
              "      <td>Unaccompanied</td>\n",
              "      <td>Working</td>\n",
              "      <td>Secondary / secondary special</td>\n",
              "      <td>Single / not married</td>\n",
              "      <td>House / apartment</td>\n",
              "      <td>0.018801</td>\n",
              "      <td>25.920548</td>\n",
              "      <td>1.745205</td>\n",
              "      <td>9.994521</td>\n",
              "      <td>5.808219</td>\n",
              "      <td>NaN</td>\n",
              "      <td>1</td>\n",
              "      <td>1</td>\n",
              "      <td>0</td>\n",
              "      <td>1</td>\n",
              "      <td>1</td>\n",
              "      <td>0</td>\n",
              "      <td>Laborers</td>\n",
              "      <td>1.0</td>\n",
              "      <td>2</td>\n",
              "      <td>2</td>\n",
              "      <td>WEDNESDAY</td>\n",
              "      <td>10</td>\n",
              "      <td>0</td>\n",
              "      <td>0</td>\n",
              "      <td>0</td>\n",
              "      <td>0</td>\n",
              "      <td>0</td>\n",
              "      <td>0</td>\n",
              "      <td>...</td>\n",
              "      <td>0.0205</td>\n",
              "      <td>0.0193</td>\n",
              "      <td>0.0000</td>\n",
              "      <td>0.00</td>\n",
              "      <td>reg oper account</td>\n",
              "      <td>block of flats</td>\n",
              "      <td>0.0149</td>\n",
              "      <td>Stone, brick</td>\n",
              "      <td>No</td>\n",
              "      <td>2.0</td>\n",
              "      <td>2.0</td>\n",
              "      <td>2.0</td>\n",
              "      <td>2.0</td>\n",
              "      <td>-1134.0</td>\n",
              "      <td>0</td>\n",
              "      <td>1</td>\n",
              "      <td>0</td>\n",
              "      <td>0</td>\n",
              "      <td>0</td>\n",
              "      <td>0</td>\n",
              "      <td>0</td>\n",
              "      <td>0</td>\n",
              "      <td>0</td>\n",
              "      <td>0</td>\n",
              "      <td>0</td>\n",
              "      <td>0</td>\n",
              "      <td>0</td>\n",
              "      <td>0</td>\n",
              "      <td>0</td>\n",
              "      <td>0</td>\n",
              "      <td>0</td>\n",
              "      <td>0</td>\n",
              "      <td>0</td>\n",
              "      <td>0</td>\n",
              "      <td>0.0</td>\n",
              "      <td>0.0</td>\n",
              "      <td>0.0</td>\n",
              "      <td>0.0</td>\n",
              "      <td>0.0</td>\n",
              "      <td>1.0</td>\n",
              "    </tr>\n",
              "    <tr>\n",
              "      <th>1</th>\n",
              "      <td>100003</td>\n",
              "      <td>0</td>\n",
              "      <td>Cash loans</td>\n",
              "      <td>F</td>\n",
              "      <td>0</td>\n",
              "      <td>0</td>\n",
              "      <td>0</td>\n",
              "      <td>270000.0</td>\n",
              "      <td>1293502.5</td>\n",
              "      <td>35698.5</td>\n",
              "      <td>1129500.0</td>\n",
              "      <td>Family</td>\n",
              "      <td>State servant</td>\n",
              "      <td>Higher education</td>\n",
              "      <td>Married</td>\n",
              "      <td>House / apartment</td>\n",
              "      <td>0.003541</td>\n",
              "      <td>45.931507</td>\n",
              "      <td>3.254795</td>\n",
              "      <td>3.249315</td>\n",
              "      <td>0.797260</td>\n",
              "      <td>NaN</td>\n",
              "      <td>1</td>\n",
              "      <td>1</td>\n",
              "      <td>0</td>\n",
              "      <td>1</td>\n",
              "      <td>1</td>\n",
              "      <td>0</td>\n",
              "      <td>Core staff</td>\n",
              "      <td>2.0</td>\n",
              "      <td>1</td>\n",
              "      <td>1</td>\n",
              "      <td>MONDAY</td>\n",
              "      <td>11</td>\n",
              "      <td>0</td>\n",
              "      <td>0</td>\n",
              "      <td>0</td>\n",
              "      <td>0</td>\n",
              "      <td>0</td>\n",
              "      <td>0</td>\n",
              "      <td>...</td>\n",
              "      <td>0.0787</td>\n",
              "      <td>0.0558</td>\n",
              "      <td>0.0039</td>\n",
              "      <td>0.01</td>\n",
              "      <td>reg oper account</td>\n",
              "      <td>block of flats</td>\n",
              "      <td>0.0714</td>\n",
              "      <td>Block</td>\n",
              "      <td>No</td>\n",
              "      <td>1.0</td>\n",
              "      <td>0.0</td>\n",
              "      <td>1.0</td>\n",
              "      <td>0.0</td>\n",
              "      <td>-828.0</td>\n",
              "      <td>0</td>\n",
              "      <td>1</td>\n",
              "      <td>0</td>\n",
              "      <td>0</td>\n",
              "      <td>0</td>\n",
              "      <td>0</td>\n",
              "      <td>0</td>\n",
              "      <td>0</td>\n",
              "      <td>0</td>\n",
              "      <td>0</td>\n",
              "      <td>0</td>\n",
              "      <td>0</td>\n",
              "      <td>0</td>\n",
              "      <td>0</td>\n",
              "      <td>0</td>\n",
              "      <td>0</td>\n",
              "      <td>0</td>\n",
              "      <td>0</td>\n",
              "      <td>0</td>\n",
              "      <td>0</td>\n",
              "      <td>0.0</td>\n",
              "      <td>0.0</td>\n",
              "      <td>0.0</td>\n",
              "      <td>0.0</td>\n",
              "      <td>0.0</td>\n",
              "      <td>0.0</td>\n",
              "    </tr>\n",
              "    <tr>\n",
              "      <th>2</th>\n",
              "      <td>100004</td>\n",
              "      <td>0</td>\n",
              "      <td>Revolving loans</td>\n",
              "      <td>M</td>\n",
              "      <td>1</td>\n",
              "      <td>1</td>\n",
              "      <td>0</td>\n",
              "      <td>67500.0</td>\n",
              "      <td>135000.0</td>\n",
              "      <td>6750.0</td>\n",
              "      <td>135000.0</td>\n",
              "      <td>Unaccompanied</td>\n",
              "      <td>Working</td>\n",
              "      <td>Secondary / secondary special</td>\n",
              "      <td>Single / not married</td>\n",
              "      <td>House / apartment</td>\n",
              "      <td>0.010032</td>\n",
              "      <td>52.180822</td>\n",
              "      <td>0.616438</td>\n",
              "      <td>11.671233</td>\n",
              "      <td>6.934247</td>\n",
              "      <td>26.0</td>\n",
              "      <td>1</td>\n",
              "      <td>1</td>\n",
              "      <td>1</td>\n",
              "      <td>1</td>\n",
              "      <td>1</td>\n",
              "      <td>0</td>\n",
              "      <td>Laborers</td>\n",
              "      <td>1.0</td>\n",
              "      <td>2</td>\n",
              "      <td>2</td>\n",
              "      <td>MONDAY</td>\n",
              "      <td>9</td>\n",
              "      <td>0</td>\n",
              "      <td>0</td>\n",
              "      <td>0</td>\n",
              "      <td>0</td>\n",
              "      <td>0</td>\n",
              "      <td>0</td>\n",
              "      <td>...</td>\n",
              "      <td>NaN</td>\n",
              "      <td>NaN</td>\n",
              "      <td>NaN</td>\n",
              "      <td>NaN</td>\n",
              "      <td>NaN</td>\n",
              "      <td>NaN</td>\n",
              "      <td>NaN</td>\n",
              "      <td>NaN</td>\n",
              "      <td>NaN</td>\n",
              "      <td>0.0</td>\n",
              "      <td>0.0</td>\n",
              "      <td>0.0</td>\n",
              "      <td>0.0</td>\n",
              "      <td>-815.0</td>\n",
              "      <td>0</td>\n",
              "      <td>0</td>\n",
              "      <td>0</td>\n",
              "      <td>0</td>\n",
              "      <td>0</td>\n",
              "      <td>0</td>\n",
              "      <td>0</td>\n",
              "      <td>0</td>\n",
              "      <td>0</td>\n",
              "      <td>0</td>\n",
              "      <td>0</td>\n",
              "      <td>0</td>\n",
              "      <td>0</td>\n",
              "      <td>0</td>\n",
              "      <td>0</td>\n",
              "      <td>0</td>\n",
              "      <td>0</td>\n",
              "      <td>0</td>\n",
              "      <td>0</td>\n",
              "      <td>0</td>\n",
              "      <td>0.0</td>\n",
              "      <td>0.0</td>\n",
              "      <td>0.0</td>\n",
              "      <td>0.0</td>\n",
              "      <td>0.0</td>\n",
              "      <td>0.0</td>\n",
              "    </tr>\n",
              "  </tbody>\n",
              "</table>\n",
              "<p>3 rows × 122 columns</p>\n",
              "</div>"
            ],
            "text/plain": [
              "   SK_ID_CURR  TARGET  ... AMT_REQ_CREDIT_BUREAU_QRT AMT_REQ_CREDIT_BUREAU_YEAR\n",
              "0      100002       1  ...                       0.0                        1.0\n",
              "1      100003       0  ...                       0.0                        0.0\n",
              "2      100004       0  ...                       0.0                        0.0\n",
              "\n",
              "[3 rows x 122 columns]"
            ]
          },
          "metadata": {
            "tags": []
          },
          "execution_count": 46
        }
      ]
    },
    {
      "cell_type": "code",
      "metadata": {
        "colab": {
          "base_uri": "https://localhost:8080/",
          "height": 460
        },
        "id": "ZQG1_BlpA9HT",
        "outputId": "e0fd0e19-6ce1-482b-8f1b-96411bebec10"
      },
      "source": [
        "fig, ax = plt.subplots(figsize=(10,7))\n",
        "sns.countplot(x='TARGET',hue='OCCUPATION_TYPE',data=df1_new)"
      ],
      "execution_count": null,
      "outputs": [
        {
          "output_type": "execute_result",
          "data": {
            "text/plain": [
              "<matplotlib.axes._subplots.AxesSubplot at 0x7efed7fec6d0>"
            ]
          },
          "metadata": {
            "tags": []
          },
          "execution_count": 47
        },
        {
          "output_type": "display_data",
          "data": {
            "image/png": "[encoded data removed]",
            "text/plain": [
              "<Figure size 720x504 with 1 Axes>"
            ]
          },
          "metadata": {
            "tags": [],
            "needs_background": "light"
          }
        }
      ]
    },
    {
      "cell_type": "markdown",
      "metadata": {
        "id": "Q7t7a4yqBzAH"
      },
      "source": [
        "Looking at this count plot we can clearly say that **IT/HR staff, Secretaries, accountants** are safe for santioning loans. Also, **Managers, Drivers, sales staff** are likely to be safe for giving loans."
      ]
    },
    {
      "cell_type": "code",
      "metadata": {
        "colab": {
          "base_uri": "https://localhost:8080/",
          "height": 226
        },
        "id": "3D1ZpBaGWrhy",
        "outputId": "84d99615-7e97-4310-ce8a-463cb89b1be4"
      },
      "source": [
        "df1_new.head(3)"
      ],
      "execution_count": null,
      "outputs": [
        {
          "output_type": "execute_result",
          "data": {
            "text/html": [
              "<div>\n",
              "<style scoped>\n",
              "    .dataframe tbody tr th:only-of-type {\n",
              "        vertical-align: middle;\n",
              "    }\n",
              "\n",
              "    .dataframe tbody tr th {\n",
              "        vertical-align: top;\n",
              "    }\n",
              "\n",
              "    .dataframe thead th {\n",
              "        text-align: right;\n",
              "    }\n",
              "</style>\n",
              "<table border=\"1\" class=\"dataframe\">\n",
              "  <thead>\n",
              "    <tr style=\"text-align: right;\">\n",
              "      <th></th>\n",
              "      <th>SK_ID_CURR</th>\n",
              "      <th>TARGET</th>\n",
              "      <th>NAME_CONTRACT_TYPE</th>\n",
              "      <th>CODE_GENDER</th>\n",
              "      <th>FLAG_OWN_CAR</th>\n",
              "      <th>FLAG_OWN_REALTY</th>\n",
              "      <th>CNT_CHILDREN</th>\n",
              "      <th>AMT_INCOME_TOTAL</th>\n",
              "      <th>AMT_CREDIT</th>\n",
              "      <th>AMT_ANNUITY</th>\n",
              "      <th>AMT_GOODS_PRICE</th>\n",
              "      <th>NAME_TYPE_SUITE</th>\n",
              "      <th>NAME_INCOME_TYPE</th>\n",
              "      <th>NAME_EDUCATION_TYPE</th>\n",
              "      <th>NAME_FAMILY_STATUS</th>\n",
              "      <th>NAME_HOUSING_TYPE</th>\n",
              "      <th>REGION_POPULATION_RELATIVE</th>\n",
              "      <th>DAYS_BIRTH</th>\n",
              "      <th>DAYS_EMPLOYED</th>\n",
              "      <th>DAYS_REGISTRATION</th>\n",
              "      <th>DAYS_ID_PUBLISH</th>\n",
              "      <th>OWN_CAR_AGE</th>\n",
              "      <th>FLAG_MOBIL</th>\n",
              "      <th>FLAG_EMP_PHONE</th>\n",
              "      <th>FLAG_WORK_PHONE</th>\n",
              "      <th>FLAG_CONT_MOBILE</th>\n",
              "      <th>FLAG_PHONE</th>\n",
              "      <th>FLAG_EMAIL</th>\n",
              "      <th>OCCUPATION_TYPE</th>\n",
              "      <th>CNT_FAM_MEMBERS</th>\n",
              "      <th>REGION_RATING_CLIENT</th>\n",
              "      <th>REGION_RATING_CLIENT_W_CITY</th>\n",
              "      <th>WEEKDAY_APPR_PROCESS_START</th>\n",
              "      <th>HOUR_APPR_PROCESS_START</th>\n",
              "      <th>REG_REGION_NOT_LIVE_REGION</th>\n",
              "      <th>REG_REGION_NOT_WORK_REGION</th>\n",
              "      <th>LIVE_REGION_NOT_WORK_REGION</th>\n",
              "      <th>REG_CITY_NOT_LIVE_CITY</th>\n",
              "      <th>REG_CITY_NOT_WORK_CITY</th>\n",
              "      <th>LIVE_CITY_NOT_WORK_CITY</th>\n",
              "      <th>...</th>\n",
              "      <th>LIVINGAPARTMENTS_MEDI</th>\n",
              "      <th>LIVINGAREA_MEDI</th>\n",
              "      <th>NONLIVINGAPARTMENTS_MEDI</th>\n",
              "      <th>NONLIVINGAREA_MEDI</th>\n",
              "      <th>FONDKAPREMONT_MODE</th>\n",
              "      <th>HOUSETYPE_MODE</th>\n",
              "      <th>TOTALAREA_MODE</th>\n",
              "      <th>WALLSMATERIAL_MODE</th>\n",
              "      <th>EMERGENCYSTATE_MODE</th>\n",
              "      <th>OBS_30_CNT_SOCIAL_CIRCLE</th>\n",
              "      <th>DEF_30_CNT_SOCIAL_CIRCLE</th>\n",
              "      <th>OBS_60_CNT_SOCIAL_CIRCLE</th>\n",
              "      <th>DEF_60_CNT_SOCIAL_CIRCLE</th>\n",
              "      <th>DAYS_LAST_PHONE_CHANGE</th>\n",
              "      <th>FLAG_DOCUMENT_2</th>\n",
              "      <th>FLAG_DOCUMENT_3</th>\n",
              "      <th>FLAG_DOCUMENT_4</th>\n",
              "      <th>FLAG_DOCUMENT_5</th>\n",
              "      <th>FLAG_DOCUMENT_6</th>\n",
              "      <th>FLAG_DOCUMENT_7</th>\n",
              "      <th>FLAG_DOCUMENT_8</th>\n",
              "      <th>FLAG_DOCUMENT_9</th>\n",
              "      <th>FLAG_DOCUMENT_10</th>\n",
              "      <th>FLAG_DOCUMENT_11</th>\n",
              "      <th>FLAG_DOCUMENT_12</th>\n",
              "      <th>FLAG_DOCUMENT_13</th>\n",
              "      <th>FLAG_DOCUMENT_14</th>\n",
              "      <th>FLAG_DOCUMENT_15</th>\n",
              "      <th>FLAG_DOCUMENT_16</th>\n",
              "      <th>FLAG_DOCUMENT_17</th>\n",
              "      <th>FLAG_DOCUMENT_18</th>\n",
              "      <th>FLAG_DOCUMENT_19</th>\n",
              "      <th>FLAG_DOCUMENT_20</th>\n",
              "      <th>FLAG_DOCUMENT_21</th>\n",
              "      <th>AMT_REQ_CREDIT_BUREAU_HOUR</th>\n",
              "      <th>AMT_REQ_CREDIT_BUREAU_DAY</th>\n",
              "      <th>AMT_REQ_CREDIT_BUREAU_WEEK</th>\n",
              "      <th>AMT_REQ_CREDIT_BUREAU_MON</th>\n",
              "      <th>AMT_REQ_CREDIT_BUREAU_QRT</th>\n",
              "      <th>AMT_REQ_CREDIT_BUREAU_YEAR</th>\n",
              "    </tr>\n",
              "  </thead>\n",
              "  <tbody>\n",
              "    <tr>\n",
              "      <th>0</th>\n",
              "      <td>100002</td>\n",
              "      <td>1</td>\n",
              "      <td>Cash loans</td>\n",
              "      <td>M</td>\n",
              "      <td>0</td>\n",
              "      <td>1</td>\n",
              "      <td>0</td>\n",
              "      <td>202500.0</td>\n",
              "      <td>406597.5</td>\n",
              "      <td>24700.5</td>\n",
              "      <td>351000.0</td>\n",
              "      <td>Unaccompanied</td>\n",
              "      <td>Working</td>\n",
              "      <td>Secondary / secondary special</td>\n",
              "      <td>Single / not married</td>\n",
              "      <td>House / apartment</td>\n",
              "      <td>0.018801</td>\n",
              "      <td>25.920548</td>\n",
              "      <td>1.745205</td>\n",
              "      <td>9.994521</td>\n",
              "      <td>5.808219</td>\n",
              "      <td>NaN</td>\n",
              "      <td>1</td>\n",
              "      <td>1</td>\n",
              "      <td>0</td>\n",
              "      <td>1</td>\n",
              "      <td>1</td>\n",
              "      <td>0</td>\n",
              "      <td>Laborers</td>\n",
              "      <td>1.0</td>\n",
              "      <td>2</td>\n",
              "      <td>2</td>\n",
              "      <td>WEDNESDAY</td>\n",
              "      <td>10</td>\n",
              "      <td>0</td>\n",
              "      <td>0</td>\n",
              "      <td>0</td>\n",
              "      <td>0</td>\n",
              "      <td>0</td>\n",
              "      <td>0</td>\n",
              "      <td>...</td>\n",
              "      <td>0.0205</td>\n",
              "      <td>0.0193</td>\n",
              "      <td>0.0000</td>\n",
              "      <td>0.00</td>\n",
              "      <td>reg oper account</td>\n",
              "      <td>block of flats</td>\n",
              "      <td>0.0149</td>\n",
              "      <td>Stone, brick</td>\n",
              "      <td>No</td>\n",
              "      <td>2.0</td>\n",
              "      <td>2.0</td>\n",
              "      <td>2.0</td>\n",
              "      <td>2.0</td>\n",
              "      <td>-1134.0</td>\n",
              "      <td>0</td>\n",
              "      <td>1</td>\n",
              "      <td>0</td>\n",
              "      <td>0</td>\n",
              "      <td>0</td>\n",
              "      <td>0</td>\n",
              "      <td>0</td>\n",
              "      <td>0</td>\n",
              "      <td>0</td>\n",
              "      <td>0</td>\n",
              "      <td>0</td>\n",
              "      <td>0</td>\n",
              "      <td>0</td>\n",
              "      <td>0</td>\n",
              "      <td>0</td>\n",
              "      <td>0</td>\n",
              "      <td>0</td>\n",
              "      <td>0</td>\n",
              "      <td>0</td>\n",
              "      <td>0</td>\n",
              "      <td>0.0</td>\n",
              "      <td>0.0</td>\n",
              "      <td>0.0</td>\n",
              "      <td>0.0</td>\n",
              "      <td>0.0</td>\n",
              "      <td>1.0</td>\n",
              "    </tr>\n",
              "    <tr>\n",
              "      <th>1</th>\n",
              "      <td>100003</td>\n",
              "      <td>0</td>\n",
              "      <td>Cash loans</td>\n",
              "      <td>F</td>\n",
              "      <td>0</td>\n",
              "      <td>0</td>\n",
              "      <td>0</td>\n",
              "      <td>270000.0</td>\n",
              "      <td>1293502.5</td>\n",
              "      <td>35698.5</td>\n",
              "      <td>1129500.0</td>\n",
              "      <td>Family</td>\n",
              "      <td>State servant</td>\n",
              "      <td>Higher education</td>\n",
              "      <td>Married</td>\n",
              "      <td>House / apartment</td>\n",
              "      <td>0.003541</td>\n",
              "      <td>45.931507</td>\n",
              "      <td>3.254795</td>\n",
              "      <td>3.249315</td>\n",
              "      <td>0.797260</td>\n",
              "      <td>NaN</td>\n",
              "      <td>1</td>\n",
              "      <td>1</td>\n",
              "      <td>0</td>\n",
              "      <td>1</td>\n",
              "      <td>1</td>\n",
              "      <td>0</td>\n",
              "      <td>Core staff</td>\n",
              "      <td>2.0</td>\n",
              "      <td>1</td>\n",
              "      <td>1</td>\n",
              "      <td>MONDAY</td>\n",
              "      <td>11</td>\n",
              "      <td>0</td>\n",
              "      <td>0</td>\n",
              "      <td>0</td>\n",
              "      <td>0</td>\n",
              "      <td>0</td>\n",
              "      <td>0</td>\n",
              "      <td>...</td>\n",
              "      <td>0.0787</td>\n",
              "      <td>0.0558</td>\n",
              "      <td>0.0039</td>\n",
              "      <td>0.01</td>\n",
              "      <td>reg oper account</td>\n",
              "      <td>block of flats</td>\n",
              "      <td>0.0714</td>\n",
              "      <td>Block</td>\n",
              "      <td>No</td>\n",
              "      <td>1.0</td>\n",
              "      <td>0.0</td>\n",
              "      <td>1.0</td>\n",
              "      <td>0.0</td>\n",
              "      <td>-828.0</td>\n",
              "      <td>0</td>\n",
              "      <td>1</td>\n",
              "      <td>0</td>\n",
              "      <td>0</td>\n",
              "      <td>0</td>\n",
              "      <td>0</td>\n",
              "      <td>0</td>\n",
              "      <td>0</td>\n",
              "      <td>0</td>\n",
              "      <td>0</td>\n",
              "      <td>0</td>\n",
              "      <td>0</td>\n",
              "      <td>0</td>\n",
              "      <td>0</td>\n",
              "      <td>0</td>\n",
              "      <td>0</td>\n",
              "      <td>0</td>\n",
              "      <td>0</td>\n",
              "      <td>0</td>\n",
              "      <td>0</td>\n",
              "      <td>0.0</td>\n",
              "      <td>0.0</td>\n",
              "      <td>0.0</td>\n",
              "      <td>0.0</td>\n",
              "      <td>0.0</td>\n",
              "      <td>0.0</td>\n",
              "    </tr>\n",
              "    <tr>\n",
              "      <th>2</th>\n",
              "      <td>100004</td>\n",
              "      <td>0</td>\n",
              "      <td>Revolving loans</td>\n",
              "      <td>M</td>\n",
              "      <td>1</td>\n",
              "      <td>1</td>\n",
              "      <td>0</td>\n",
              "      <td>67500.0</td>\n",
              "      <td>135000.0</td>\n",
              "      <td>6750.0</td>\n",
              "      <td>135000.0</td>\n",
              "      <td>Unaccompanied</td>\n",
              "      <td>Working</td>\n",
              "      <td>Secondary / secondary special</td>\n",
              "      <td>Single / not married</td>\n",
              "      <td>House / apartment</td>\n",
              "      <td>0.010032</td>\n",
              "      <td>52.180822</td>\n",
              "      <td>0.616438</td>\n",
              "      <td>11.671233</td>\n",
              "      <td>6.934247</td>\n",
              "      <td>26.0</td>\n",
              "      <td>1</td>\n",
              "      <td>1</td>\n",
              "      <td>1</td>\n",
              "      <td>1</td>\n",
              "      <td>1</td>\n",
              "      <td>0</td>\n",
              "      <td>Laborers</td>\n",
              "      <td>1.0</td>\n",
              "      <td>2</td>\n",
              "      <td>2</td>\n",
              "      <td>MONDAY</td>\n",
              "      <td>9</td>\n",
              "      <td>0</td>\n",
              "      <td>0</td>\n",
              "      <td>0</td>\n",
              "      <td>0</td>\n",
              "      <td>0</td>\n",
              "      <td>0</td>\n",
              "      <td>...</td>\n",
              "      <td>NaN</td>\n",
              "      <td>NaN</td>\n",
              "      <td>NaN</td>\n",
              "      <td>NaN</td>\n",
              "      <td>NaN</td>\n",
              "      <td>NaN</td>\n",
              "      <td>NaN</td>\n",
              "      <td>NaN</td>\n",
              "      <td>NaN</td>\n",
              "      <td>0.0</td>\n",
              "      <td>0.0</td>\n",
              "      <td>0.0</td>\n",
              "      <td>0.0</td>\n",
              "      <td>-815.0</td>\n",
              "      <td>0</td>\n",
              "      <td>0</td>\n",
              "      <td>0</td>\n",
              "      <td>0</td>\n",
              "      <td>0</td>\n",
              "      <td>0</td>\n",
              "      <td>0</td>\n",
              "      <td>0</td>\n",
              "      <td>0</td>\n",
              "      <td>0</td>\n",
              "      <td>0</td>\n",
              "      <td>0</td>\n",
              "      <td>0</td>\n",
              "      <td>0</td>\n",
              "      <td>0</td>\n",
              "      <td>0</td>\n",
              "      <td>0</td>\n",
              "      <td>0</td>\n",
              "      <td>0</td>\n",
              "      <td>0</td>\n",
              "      <td>0.0</td>\n",
              "      <td>0.0</td>\n",
              "      <td>0.0</td>\n",
              "      <td>0.0</td>\n",
              "      <td>0.0</td>\n",
              "      <td>0.0</td>\n",
              "    </tr>\n",
              "  </tbody>\n",
              "</table>\n",
              "<p>3 rows × 122 columns</p>\n",
              "</div>"
            ],
            "text/plain": [
              "   SK_ID_CURR  TARGET  ... AMT_REQ_CREDIT_BUREAU_QRT AMT_REQ_CREDIT_BUREAU_YEAR\n",
              "0      100002       1  ...                       0.0                        1.0\n",
              "1      100003       0  ...                       0.0                        0.0\n",
              "2      100004       0  ...                       0.0                        0.0\n",
              "\n",
              "[3 rows x 122 columns]"
            ]
          },
          "metadata": {
            "tags": []
          },
          "execution_count": 48
        }
      ]
    },
    {
      "cell_type": "code",
      "metadata": {
        "id": "QeMmHeUjYWv4"
      },
      "source": [
        "# Features that we are going to use to train the model\n",
        "used_features = [\n",
        "    'TARGET',\n",
        "    'NAME_CONTRACT_TYPE',\n",
        "    'CODE_GENDER',\n",
        "    'FLAG_OWN_CAR',\n",
        "    'FLAG_OWN_REALTY',\n",
        "    'CNT_CHILDREN',\n",
        "    'AMT_INCOME_TOTAL',\n",
        "    'AMT_CREDIT',\n",
        "    'AMT_GOODS_PRICE',\n",
        "    'NAME_INCOME_TYPE',\n",
        "    'NAME_EDUCATION_TYPE',\n",
        "    'DAYS_BIRTH',\n",
        "    'DAYS_EMPLOYED',\n",
        "    'CNT_FAM_MEMBERS',\n",
        "    'EXT_SOURCE_1',\n",
        "    'EXT_SOURCE_2',\n",
        "    'EXT_SOURCE_3'\n",
        "]"
      ],
      "execution_count": null,
      "outputs": []
    },
    {
      "cell_type": "code",
      "metadata": {
        "id": "C7FvS5Ypa6vo"
      },
      "source": [
        "# Create a new data frame which only consists of those selected columns\n",
        "reduced_df = df1_new[used_features]"
      ],
      "execution_count": null,
      "outputs": []
    },
    {
      "cell_type": "code",
      "metadata": {
        "colab": {
          "base_uri": "https://localhost:8080/",
          "height": 706
        },
        "id": "ElXPuxM8bCK3",
        "outputId": "c376a665-5dfb-4035-c9bb-e6aaad06e8f1"
      },
      "source": [
        "# Displaying correlation matrix based on reduced_df\n",
        "plt.figure(figsize=(12,10))\n",
        "sns.heatmap(reduced_df.corr(), annot=True, cmap='RdBu') #heatmap"
      ],
      "execution_count": null,
      "outputs": [
        {
          "output_type": "execute_result",
          "data": {
            "text/plain": [
              "<matplotlib.axes._subplots.AxesSubplot at 0x7efee4648f90>"
            ]
          },
          "metadata": {
            "tags": []
          },
          "execution_count": 51
        },
        {
          "output_type": "display_data",
          "data": {
            "image/png": "[encoded data removed]",
            "text/plain": [
              "<Figure size 864x720 with 2 Axes>"
            ]
          },
          "metadata": {
            "tags": [],
            "needs_background": "light"
          }
        }
      ]
    },
    {
      "cell_type": "markdown",
      "metadata": {
        "id": "gKkRjQZDbR1O"
      },
      "source": [
        "CNT_CHILDREN & CNT_FAM_MEMBERS exhibits strong collinearly with each other. Similarly, (CNT_CHILDREN & DAYS_BIRTH) ~strong negetive and (CNT_FAM_MEMBERS & DAYS_BIRTH)shows a negetive correlation with each other. All the EXT_SOURCE_1, EXT_SOURCE_2,EXT_SOURCE_3 shows strong negetive correlation with TARGET(dependent variable). Also, DAYS_EMPLOYED, DAYS_BIRTH, AMT_GOODS_PRICE, AMT_CREDIT is correlated with dependent variable 'TARGET'.  "
      ]
    },
    {
      "cell_type": "markdown",
      "metadata": {
        "id": "NroWpyoHiLop"
      },
      "source": [
        "### Model Preparation & Building:"
      ]
    },
    {
      "cell_type": "code",
      "metadata": {
        "id": "lApgL9lZhx15"
      },
      "source": [
        "# A function to convert categorical data into one-hot representation (more than 2 categories)\n",
        "columns = ['CODE_GENDER', 'NAME_INCOME_TYPE', 'NAME_EDUCATION_TYPE']"
      ],
      "execution_count": null,
      "outputs": []
    },
    {
      "cell_type": "code",
      "metadata": {
        "id": "vPIJ7jz2h1Cz"
      },
      "source": [
        "def create_one_hot(reduced_df, columns):\n",
        "    for column in columns:\n",
        "        reduced_df = pd.concat([reduced_df, pd.get_dummies(df[column])], axis=1, join='inner')\n",
        "        reduced_df = reduced_df.drop([column], axis=1)\n",
        "    \n",
        "    return reduced_df"
      ],
      "execution_count": null,
      "outputs": []
    },
    {
      "cell_type": "code",
      "metadata": {
        "id": "ImuiTHhih4cQ"
      },
      "source": [
        "reduced_df = create_one_hot(reduced_df, columns)"
      ],
      "execution_count": null,
      "outputs": []
    },
    {
      "cell_type": "code",
      "metadata": {
        "colab": {
          "base_uri": "https://localhost:8080/",
          "height": 277
        },
        "id": "HpdO9udgh-wH",
        "outputId": "1f192534-1414-4cfb-96bf-f6f7f859b8da"
      },
      "source": [
        "reduced_df.head()"
      ],
      "execution_count": null,
      "outputs": [
        {
          "output_type": "execute_result",
          "data": {
            "text/html": [
              "<div>\n",
              "<style scoped>\n",
              "    .dataframe tbody tr th:only-of-type {\n",
              "        vertical-align: middle;\n",
              "    }\n",
              "\n",
              "    .dataframe tbody tr th {\n",
              "        vertical-align: top;\n",
              "    }\n",
              "\n",
              "    .dataframe thead th {\n",
              "        text-align: right;\n",
              "    }\n",
              "</style>\n",
              "<table border=\"1\" class=\"dataframe\">\n",
              "  <thead>\n",
              "    <tr style=\"text-align: right;\">\n",
              "      <th></th>\n",
              "      <th>TARGET</th>\n",
              "      <th>NAME_CONTRACT_TYPE</th>\n",
              "      <th>FLAG_OWN_CAR</th>\n",
              "      <th>FLAG_OWN_REALTY</th>\n",
              "      <th>CNT_CHILDREN</th>\n",
              "      <th>AMT_INCOME_TOTAL</th>\n",
              "      <th>AMT_CREDIT</th>\n",
              "      <th>AMT_GOODS_PRICE</th>\n",
              "      <th>DAYS_BIRTH</th>\n",
              "      <th>DAYS_EMPLOYED</th>\n",
              "      <th>CNT_FAM_MEMBERS</th>\n",
              "      <th>EXT_SOURCE_1</th>\n",
              "      <th>EXT_SOURCE_2</th>\n",
              "      <th>EXT_SOURCE_3</th>\n",
              "      <th>F</th>\n",
              "      <th>M</th>\n",
              "      <th>XNA</th>\n",
              "      <th>Businessman</th>\n",
              "      <th>Commercial associate</th>\n",
              "      <th>Maternity leave</th>\n",
              "      <th>Pensioner</th>\n",
              "      <th>State servant</th>\n",
              "      <th>Student</th>\n",
              "      <th>Unemployed</th>\n",
              "      <th>Working</th>\n",
              "      <th>Academic degree</th>\n",
              "      <th>Higher education</th>\n",
              "      <th>Incomplete higher</th>\n",
              "      <th>Lower secondary</th>\n",
              "      <th>Secondary / secondary special</th>\n",
              "    </tr>\n",
              "  </thead>\n",
              "  <tbody>\n",
              "    <tr>\n",
              "      <th>0</th>\n",
              "      <td>1</td>\n",
              "      <td>Cash loans</td>\n",
              "      <td>0</td>\n",
              "      <td>1</td>\n",
              "      <td>0</td>\n",
              "      <td>202500.0</td>\n",
              "      <td>406597.5</td>\n",
              "      <td>351000.0</td>\n",
              "      <td>25.920548</td>\n",
              "      <td>1.745205</td>\n",
              "      <td>1.0</td>\n",
              "      <td>0.083037</td>\n",
              "      <td>0.262949</td>\n",
              "      <td>0.139376</td>\n",
              "      <td>0</td>\n",
              "      <td>1</td>\n",
              "      <td>0</td>\n",
              "      <td>0</td>\n",
              "      <td>0</td>\n",
              "      <td>0</td>\n",
              "      <td>0</td>\n",
              "      <td>0</td>\n",
              "      <td>0</td>\n",
              "      <td>0</td>\n",
              "      <td>1</td>\n",
              "      <td>0</td>\n",
              "      <td>0</td>\n",
              "      <td>0</td>\n",
              "      <td>0</td>\n",
              "      <td>1</td>\n",
              "    </tr>\n",
              "    <tr>\n",
              "      <th>1</th>\n",
              "      <td>0</td>\n",
              "      <td>Cash loans</td>\n",
              "      <td>0</td>\n",
              "      <td>0</td>\n",
              "      <td>0</td>\n",
              "      <td>270000.0</td>\n",
              "      <td>1293502.5</td>\n",
              "      <td>1129500.0</td>\n",
              "      <td>45.931507</td>\n",
              "      <td>3.254795</td>\n",
              "      <td>2.0</td>\n",
              "      <td>0.311267</td>\n",
              "      <td>0.622246</td>\n",
              "      <td>NaN</td>\n",
              "      <td>1</td>\n",
              "      <td>0</td>\n",
              "      <td>0</td>\n",
              "      <td>0</td>\n",
              "      <td>0</td>\n",
              "      <td>0</td>\n",
              "      <td>0</td>\n",
              "      <td>1</td>\n",
              "      <td>0</td>\n",
              "      <td>0</td>\n",
              "      <td>0</td>\n",
              "      <td>0</td>\n",
              "      <td>1</td>\n",
              "      <td>0</td>\n",
              "      <td>0</td>\n",
              "      <td>0</td>\n",
              "    </tr>\n",
              "    <tr>\n",
              "      <th>2</th>\n",
              "      <td>0</td>\n",
              "      <td>Revolving loans</td>\n",
              "      <td>1</td>\n",
              "      <td>1</td>\n",
              "      <td>0</td>\n",
              "      <td>67500.0</td>\n",
              "      <td>135000.0</td>\n",
              "      <td>135000.0</td>\n",
              "      <td>52.180822</td>\n",
              "      <td>0.616438</td>\n",
              "      <td>1.0</td>\n",
              "      <td>NaN</td>\n",
              "      <td>0.555912</td>\n",
              "      <td>0.729567</td>\n",
              "      <td>0</td>\n",
              "      <td>1</td>\n",
              "      <td>0</td>\n",
              "      <td>0</td>\n",
              "      <td>0</td>\n",
              "      <td>0</td>\n",
              "      <td>0</td>\n",
              "      <td>0</td>\n",
              "      <td>0</td>\n",
              "      <td>0</td>\n",
              "      <td>1</td>\n",
              "      <td>0</td>\n",
              "      <td>0</td>\n",
              "      <td>0</td>\n",
              "      <td>0</td>\n",
              "      <td>1</td>\n",
              "    </tr>\n",
              "    <tr>\n",
              "      <th>3</th>\n",
              "      <td>0</td>\n",
              "      <td>Cash loans</td>\n",
              "      <td>0</td>\n",
              "      <td>1</td>\n",
              "      <td>0</td>\n",
              "      <td>135000.0</td>\n",
              "      <td>312682.5</td>\n",
              "      <td>297000.0</td>\n",
              "      <td>52.068493</td>\n",
              "      <td>8.326027</td>\n",
              "      <td>2.0</td>\n",
              "      <td>NaN</td>\n",
              "      <td>0.650442</td>\n",
              "      <td>NaN</td>\n",
              "      <td>1</td>\n",
              "      <td>0</td>\n",
              "      <td>0</td>\n",
              "      <td>0</td>\n",
              "      <td>0</td>\n",
              "      <td>0</td>\n",
              "      <td>0</td>\n",
              "      <td>0</td>\n",
              "      <td>0</td>\n",
              "      <td>0</td>\n",
              "      <td>1</td>\n",
              "      <td>0</td>\n",
              "      <td>0</td>\n",
              "      <td>0</td>\n",
              "      <td>0</td>\n",
              "      <td>1</td>\n",
              "    </tr>\n",
              "    <tr>\n",
              "      <th>4</th>\n",
              "      <td>0</td>\n",
              "      <td>Cash loans</td>\n",
              "      <td>0</td>\n",
              "      <td>1</td>\n",
              "      <td>0</td>\n",
              "      <td>121500.0</td>\n",
              "      <td>513000.0</td>\n",
              "      <td>513000.0</td>\n",
              "      <td>54.608219</td>\n",
              "      <td>8.323288</td>\n",
              "      <td>1.0</td>\n",
              "      <td>NaN</td>\n",
              "      <td>0.322738</td>\n",
              "      <td>NaN</td>\n",
              "      <td>0</td>\n",
              "      <td>1</td>\n",
              "      <td>0</td>\n",
              "      <td>0</td>\n",
              "      <td>0</td>\n",
              "      <td>0</td>\n",
              "      <td>0</td>\n",
              "      <td>0</td>\n",
              "      <td>0</td>\n",
              "      <td>0</td>\n",
              "      <td>1</td>\n",
              "      <td>0</td>\n",
              "      <td>0</td>\n",
              "      <td>0</td>\n",
              "      <td>0</td>\n",
              "      <td>1</td>\n",
              "    </tr>\n",
              "  </tbody>\n",
              "</table>\n",
              "</div>"
            ],
            "text/plain": [
              "   TARGET NAME_CONTRACT_TYPE  ...  Lower secondary  Secondary / secondary special\n",
              "0       1         Cash loans  ...                0                              1\n",
              "1       0         Cash loans  ...                0                              0\n",
              "2       0    Revolving loans  ...                0                              1\n",
              "3       0         Cash loans  ...                0                              1\n",
              "4       0         Cash loans  ...                0                              1\n",
              "\n",
              "[5 rows x 30 columns]"
            ]
          },
          "metadata": {
            "tags": []
          },
          "execution_count": 55
        }
      ]
    },
    {
      "cell_type": "markdown",
      "metadata": {
        "id": "okLjIKwJimsB"
      },
      "source": [
        "**Label Encoding:**"
      ]
    },
    {
      "cell_type": "code",
      "metadata": {
        "id": "J9St1TJaiBAw"
      },
      "source": [
        "# Using label encoder to encode columns which consists of only 2 categories\n",
        "le_name_contract_type = LabelEncoder()\n",
        "reduced_df['NAME_CONTRACT_TYPE'] = le_name_contract_type.fit_transform(reduced_df['NAME_CONTRACT_TYPE'])\n",
        "\n",
        "le_flag_own_car = LabelEncoder()\n",
        "reduced_df['FLAG_OWN_CAR'] = le_flag_own_car.fit_transform(reduced_df['FLAG_OWN_CAR'])\n",
        "\n",
        "le_flag_own_realty = LabelEncoder()\n",
        "reduced_df['FLAG_OWN_REALTY'] = le_flag_own_realty.fit_transform(reduced_df['FLAG_OWN_REALTY'])"
      ],
      "execution_count": null,
      "outputs": []
    },
    {
      "cell_type": "code",
      "metadata": {
        "colab": {
          "base_uri": "https://localhost:8080/"
        },
        "id": "w6o8KY0ekklf",
        "outputId": "aac7c976-f495-4788-84ea-b4abe24168d7"
      },
      "source": [
        "reduced_df.isnull().sum() #missing values"
      ],
      "execution_count": null,
      "outputs": [
        {
          "output_type": "execute_result",
          "data": {
            "text/plain": [
              "TARGET                               0\n",
              "NAME_CONTRACT_TYPE                   0\n",
              "FLAG_OWN_CAR                         0\n",
              "FLAG_OWN_REALTY                      0\n",
              "CNT_CHILDREN                         0\n",
              "AMT_INCOME_TOTAL                     0\n",
              "AMT_CREDIT                           0\n",
              "AMT_GOODS_PRICE                     40\n",
              "DAYS_BIRTH                           0\n",
              "DAYS_EMPLOYED                        0\n",
              "CNT_FAM_MEMBERS                      1\n",
              "EXT_SOURCE_1                     23621\n",
              "EXT_SOURCE_2                       105\n",
              "EXT_SOURCE_3                      9297\n",
              "F                                    0\n",
              "M                                    0\n",
              "XNA                                  0\n",
              "Businessman                          0\n",
              "Commercial associate                 0\n",
              "Maternity leave                      0\n",
              "Pensioner                            0\n",
              "State servant                        0\n",
              "Student                              0\n",
              "Unemployed                           0\n",
              "Working                              0\n",
              "Academic degree                      0\n",
              "Higher education                     0\n",
              "Incomplete higher                    0\n",
              "Lower secondary                      0\n",
              "Secondary / secondary special        0\n",
              "dtype: int64"
            ]
          },
          "metadata": {
            "tags": []
          },
          "execution_count": 57
        }
      ]
    },
    {
      "cell_type": "code",
      "metadata": {
        "id": "hdAj7xm0kGrs"
      },
      "source": [
        "# Filling missing values with the mean of the corresponding column\n",
        "reduced_df.loc[:,'AMT_GOODS_PRICE'] = reduced_df['AMT_GOODS_PRICE'].fillna(reduced_df['AMT_GOODS_PRICE'].mean())\n",
        "reduced_df.loc[:,'CNT_FAM_MEMBERS'] = reduced_df['CNT_FAM_MEMBERS'].fillna(reduced_df['CNT_FAM_MEMBERS'].mean())\n",
        "reduced_df.loc[:,'EXT_SOURCE_1'] = reduced_df['EXT_SOURCE_1'].fillna(reduced_df['EXT_SOURCE_1'].mean())\n",
        "reduced_df.loc[:,'EXT_SOURCE_2'] = reduced_df['EXT_SOURCE_2'].fillna(reduced_df['EXT_SOURCE_2'].mean())\n",
        "reduced_df.loc[:,'EXT_SOURCE_3'] = reduced_df['EXT_SOURCE_3'].fillna(reduced_df['EXT_SOURCE_3'].mean())"
      ],
      "execution_count": null,
      "outputs": []
    },
    {
      "cell_type": "code",
      "metadata": {
        "id": "qSlpWHHGkxq2"
      },
      "source": [
        "# Split the data into train/test\n",
        "X = reduced_df.iloc[:,1:].values #choosing all the independent variables apart from the dependent variable.\n",
        "y = reduced_df['TARGET'].values\n",
        "\n",
        "X_train, X_test, y_train, y_test = train_test_split(X, y, test_size=0.2, random_state=22)"
      ],
      "execution_count": null,
      "outputs": []
    },
    {
      "cell_type": "markdown",
      "metadata": {
        "id": "iRtSAvdemFUT"
      },
      "source": [
        "**Normalization** is good to use when you know that the distribution of your data does not follow a Gaussian distribution:"
      ]
    },
    {
      "cell_type": "code",
      "metadata": {
        "id": "rdGj0qXQlJ8S"
      },
      "source": [
        "min_max_scaler = MinMaxScaler()\n",
        "X_train_scaled = min_max_scaler.fit_transform(X_train)\n",
        "X_test_scaled = min_max_scaler.fit_transform(X_test)"
      ],
      "execution_count": null,
      "outputs": []
    },
    {
      "cell_type": "code",
      "metadata": {
        "id": "uCy-UGOsmcUd"
      },
      "source": [
        "# Initializing LightGBM classifier\n",
        "model_light = lgb.LGBMClassifier(n_estimators=100, class_weight='balanced', random_state=22)"
      ],
      "execution_count": null,
      "outputs": []
    },
    {
      "cell_type": "code",
      "metadata": {
        "colab": {
          "base_uri": "https://localhost:8080/"
        },
        "id": "UcV6c2IynOoQ",
        "outputId": "eaee111d-8043-4045-a430-54288bd40212"
      },
      "source": [
        "# Training the LightGBM model\n",
        "model_light.fit(X_train_scaled, y_train, eval_metric='auc',eval_set=[(X_train_scaled, y_train),(X_test_scaled, y_test)])"
      ],
      "execution_count": null,
      "outputs": [
        {
          "output_type": "stream",
          "text": [
            "[1]\ttraining's binary_logloss: 0.677661\ttraining's auc: 0.731349\tvalid_1's binary_logloss: 0.673592\tvalid_1's auc: 0.683501\n",
            "[2]\ttraining's binary_logloss: 0.665168\ttraining's auc: 0.737994\tvalid_1's binary_logloss: 0.656842\tvalid_1's auc: 0.700593\n",
            "[3]\ttraining's binary_logloss: 0.654091\ttraining's auc: 0.745452\tvalid_1's binary_logloss: 0.640381\tvalid_1's auc: 0.701814\n",
            "[4]\ttraining's binary_logloss: 0.645113\ttraining's auc: 0.7484\tvalid_1's binary_logloss: 0.629491\tvalid_1's auc: 0.707456\n",
            "[5]\ttraining's binary_logloss: 0.637011\ttraining's auc: 0.751144\tvalid_1's binary_logloss: 0.62041\tvalid_1's auc: 0.709959\n",
            "[6]\ttraining's binary_logloss: 0.629918\ttraining's auc: 0.75499\tvalid_1's binary_logloss: 0.612044\tvalid_1's auc: 0.712099\n",
            "[7]\ttraining's binary_logloss: 0.623045\ttraining's auc: 0.758731\tvalid_1's binary_logloss: 0.601987\tvalid_1's auc: 0.714114\n",
            "[8]\ttraining's binary_logloss: 0.617359\ttraining's auc: 0.761434\tvalid_1's binary_logloss: 0.595763\tvalid_1's auc: 0.715787\n",
            "[9]\ttraining's binary_logloss: 0.612393\ttraining's auc: 0.763272\tvalid_1's binary_logloss: 0.584864\tvalid_1's auc: 0.715553\n",
            "[10]\ttraining's binary_logloss: 0.607708\ttraining's auc: 0.764953\tvalid_1's binary_logloss: 0.577948\tvalid_1's auc: 0.718262\n",
            "[11]\ttraining's binary_logloss: 0.603531\ttraining's auc: 0.766821\tvalid_1's binary_logloss: 0.572755\tvalid_1's auc: 0.71985\n",
            "[12]\ttraining's binary_logloss: 0.599689\ttraining's auc: 0.768631\tvalid_1's binary_logloss: 0.568248\tvalid_1's auc: 0.720016\n",
            "[13]\ttraining's binary_logloss: 0.596135\ttraining's auc: 0.770448\tvalid_1's binary_logloss: 0.563543\tvalid_1's auc: 0.720541\n",
            "[14]\ttraining's binary_logloss: 0.592799\ttraining's auc: 0.772408\tvalid_1's binary_logloss: 0.555725\tvalid_1's auc: 0.721145\n",
            "[15]\ttraining's binary_logloss: 0.589664\ttraining's auc: 0.774385\tvalid_1's binary_logloss: 0.552181\tvalid_1's auc: 0.721913\n",
            "[16]\ttraining's binary_logloss: 0.586658\ttraining's auc: 0.776338\tvalid_1's binary_logloss: 0.544715\tvalid_1's auc: 0.721555\n",
            "[17]\ttraining's binary_logloss: 0.583902\ttraining's auc: 0.778082\tvalid_1's binary_logloss: 0.541643\tvalid_1's auc: 0.72265\n",
            "[18]\ttraining's binary_logloss: 0.581107\ttraining's auc: 0.780251\tvalid_1's binary_logloss: 0.535054\tvalid_1's auc: 0.722775\n",
            "[19]\ttraining's binary_logloss: 0.578454\ttraining's auc: 0.782042\tvalid_1's binary_logloss: 0.536199\tvalid_1's auc: 0.722405\n",
            "[20]\ttraining's binary_logloss: 0.576019\ttraining's auc: 0.783607\tvalid_1's binary_logloss: 0.534088\tvalid_1's auc: 0.723448\n",
            "[21]\ttraining's binary_logloss: 0.573642\ttraining's auc: 0.785542\tvalid_1's binary_logloss: 0.534921\tvalid_1's auc: 0.7233\n",
            "[22]\ttraining's binary_logloss: 0.571261\ttraining's auc: 0.787346\tvalid_1's binary_logloss: 0.533706\tvalid_1's auc: 0.722616\n",
            "[23]\ttraining's binary_logloss: 0.56899\ttraining's auc: 0.789257\tvalid_1's binary_logloss: 0.531229\tvalid_1's auc: 0.723573\n",
            "[24]\ttraining's binary_logloss: 0.56675\ttraining's auc: 0.791095\tvalid_1's binary_logloss: 0.52918\tvalid_1's auc: 0.724291\n",
            "[25]\ttraining's binary_logloss: 0.56444\ttraining's auc: 0.793158\tvalid_1's binary_logloss: 0.52663\tvalid_1's auc: 0.72404\n",
            "[26]\ttraining's binary_logloss: 0.562691\ttraining's auc: 0.79452\tvalid_1's binary_logloss: 0.525116\tvalid_1's auc: 0.724163\n",
            "[27]\ttraining's binary_logloss: 0.560876\ttraining's auc: 0.795869\tvalid_1's binary_logloss: 0.522484\tvalid_1's auc: 0.724516\n",
            "[28]\ttraining's binary_logloss: 0.558961\ttraining's auc: 0.797232\tvalid_1's binary_logloss: 0.521072\tvalid_1's auc: 0.725107\n",
            "[29]\ttraining's binary_logloss: 0.557143\ttraining's auc: 0.79875\tvalid_1's binary_logloss: 0.518488\tvalid_1's auc: 0.725725\n",
            "[30]\ttraining's binary_logloss: 0.555291\ttraining's auc: 0.800393\tvalid_1's binary_logloss: 0.526169\tvalid_1's auc: 0.725509\n",
            "[31]\ttraining's binary_logloss: 0.553346\ttraining's auc: 0.802363\tvalid_1's binary_logloss: 0.52799\tvalid_1's auc: 0.724129\n",
            "[32]\ttraining's binary_logloss: 0.551512\ttraining's auc: 0.80388\tvalid_1's binary_logloss: 0.524346\tvalid_1's auc: 0.725138\n",
            "[33]\ttraining's binary_logloss: 0.549773\ttraining's auc: 0.805366\tvalid_1's binary_logloss: 0.519133\tvalid_1's auc: 0.724523\n",
            "[34]\ttraining's binary_logloss: 0.548003\ttraining's auc: 0.806976\tvalid_1's binary_logloss: 0.52234\tvalid_1's auc: 0.723657\n",
            "[35]\ttraining's binary_logloss: 0.546458\ttraining's auc: 0.808146\tvalid_1's binary_logloss: 0.520312\tvalid_1's auc: 0.724209\n",
            "[36]\ttraining's binary_logloss: 0.544906\ttraining's auc: 0.809531\tvalid_1's binary_logloss: 0.5204\tvalid_1's auc: 0.724541\n",
            "[37]\ttraining's binary_logloss: 0.54327\ttraining's auc: 0.81101\tvalid_1's binary_logloss: 0.528831\tvalid_1's auc: 0.724372\n",
            "[38]\ttraining's binary_logloss: 0.541598\ttraining's auc: 0.812422\tvalid_1's binary_logloss: 0.530836\tvalid_1's auc: 0.724337\n",
            "[39]\ttraining's binary_logloss: 0.540288\ttraining's auc: 0.813456\tvalid_1's binary_logloss: 0.533234\tvalid_1's auc: 0.724226\n",
            "[40]\ttraining's binary_logloss: 0.538579\ttraining's auc: 0.814862\tvalid_1's binary_logloss: 0.533457\tvalid_1's auc: 0.724062\n",
            "[41]\ttraining's binary_logloss: 0.536942\ttraining's auc: 0.816512\tvalid_1's binary_logloss: 0.534234\tvalid_1's auc: 0.725326\n",
            "[42]\ttraining's binary_logloss: 0.535525\ttraining's auc: 0.817699\tvalid_1's binary_logloss: 0.53343\tvalid_1's auc: 0.725346\n",
            "[43]\ttraining's binary_logloss: 0.534079\ttraining's auc: 0.8192\tvalid_1's binary_logloss: 0.532845\tvalid_1's auc: 0.72509\n",
            "[44]\ttraining's binary_logloss: 0.532588\ttraining's auc: 0.820535\tvalid_1's binary_logloss: 0.531459\tvalid_1's auc: 0.725094\n",
            "[45]\ttraining's binary_logloss: 0.53116\ttraining's auc: 0.822125\tvalid_1's binary_logloss: 0.535728\tvalid_1's auc: 0.723815\n",
            "[46]\ttraining's binary_logloss: 0.529788\ttraining's auc: 0.823289\tvalid_1's binary_logloss: 0.5336\tvalid_1's auc: 0.723551\n",
            "[47]\ttraining's binary_logloss: 0.528386\ttraining's auc: 0.824594\tvalid_1's binary_logloss: 0.533464\tvalid_1's auc: 0.72411\n",
            "[48]\ttraining's binary_logloss: 0.527033\ttraining's auc: 0.82596\tvalid_1's binary_logloss: 0.543584\tvalid_1's auc: 0.723758\n",
            "[49]\ttraining's binary_logloss: 0.525565\ttraining's auc: 0.827343\tvalid_1's binary_logloss: 0.543745\tvalid_1's auc: 0.723502\n",
            "[50]\ttraining's binary_logloss: 0.524366\ttraining's auc: 0.828592\tvalid_1's binary_logloss: 0.541505\tvalid_1's auc: 0.723228\n",
            "[51]\ttraining's binary_logloss: 0.523286\ttraining's auc: 0.829496\tvalid_1's binary_logloss: 0.540816\tvalid_1's auc: 0.723149\n",
            "[52]\ttraining's binary_logloss: 0.522153\ttraining's auc: 0.830401\tvalid_1's binary_logloss: 0.539925\tvalid_1's auc: 0.723667\n",
            "[53]\ttraining's binary_logloss: 0.520824\ttraining's auc: 0.83153\tvalid_1's binary_logloss: 0.539451\tvalid_1's auc: 0.723772\n",
            "[54]\ttraining's binary_logloss: 0.51953\ttraining's auc: 0.832822\tvalid_1's binary_logloss: 0.548585\tvalid_1's auc: 0.723629\n",
            "[55]\ttraining's binary_logloss: 0.518287\ttraining's auc: 0.833936\tvalid_1's binary_logloss: 0.551397\tvalid_1's auc: 0.723056\n",
            "[56]\ttraining's binary_logloss: 0.517253\ttraining's auc: 0.834798\tvalid_1's binary_logloss: 0.538587\tvalid_1's auc: 0.720472\n",
            "[57]\ttraining's binary_logloss: 0.515839\ttraining's auc: 0.836099\tvalid_1's binary_logloss: 0.537806\tvalid_1's auc: 0.719844\n",
            "[58]\ttraining's binary_logloss: 0.514835\ttraining's auc: 0.837082\tvalid_1's binary_logloss: 0.538822\tvalid_1's auc: 0.719397\n",
            "[59]\ttraining's binary_logloss: 0.513481\ttraining's auc: 0.83838\tvalid_1's binary_logloss: 0.536518\tvalid_1's auc: 0.71969\n",
            "[60]\ttraining's binary_logloss: 0.5126\ttraining's auc: 0.839294\tvalid_1's binary_logloss: 0.532715\tvalid_1's auc: 0.718264\n",
            "[61]\ttraining's binary_logloss: 0.511549\ttraining's auc: 0.840336\tvalid_1's binary_logloss: 0.531854\tvalid_1's auc: 0.718678\n",
            "[62]\ttraining's binary_logloss: 0.510393\ttraining's auc: 0.841238\tvalid_1's binary_logloss: 0.530611\tvalid_1's auc: 0.719277\n",
            "[63]\ttraining's binary_logloss: 0.508989\ttraining's auc: 0.842561\tvalid_1's binary_logloss: 0.528604\tvalid_1's auc: 0.718709\n",
            "[64]\ttraining's binary_logloss: 0.507879\ttraining's auc: 0.843428\tvalid_1's binary_logloss: 0.524137\tvalid_1's auc: 0.718058\n",
            "[65]\ttraining's binary_logloss: 0.506661\ttraining's auc: 0.84459\tvalid_1's binary_logloss: 0.523972\tvalid_1's auc: 0.718208\n",
            "[66]\ttraining's binary_logloss: 0.505468\ttraining's auc: 0.845804\tvalid_1's binary_logloss: 0.522805\tvalid_1's auc: 0.717472\n",
            "[67]\ttraining's binary_logloss: 0.504759\ttraining's auc: 0.846342\tvalid_1's binary_logloss: 0.523179\tvalid_1's auc: 0.716781\n",
            "[68]\ttraining's binary_logloss: 0.503504\ttraining's auc: 0.847363\tvalid_1's binary_logloss: 0.521874\tvalid_1's auc: 0.717118\n",
            "[69]\ttraining's binary_logloss: 0.502655\ttraining's auc: 0.848231\tvalid_1's binary_logloss: 0.519955\tvalid_1's auc: 0.71475\n",
            "[70]\ttraining's binary_logloss: 0.501635\ttraining's auc: 0.849209\tvalid_1's binary_logloss: 0.518414\tvalid_1's auc: 0.714542\n",
            "[71]\ttraining's binary_logloss: 0.500645\ttraining's auc: 0.850236\tvalid_1's binary_logloss: 0.517465\tvalid_1's auc: 0.7148\n",
            "[72]\ttraining's binary_logloss: 0.499557\ttraining's auc: 0.851155\tvalid_1's binary_logloss: 0.524796\tvalid_1's auc: 0.713595\n",
            "[73]\ttraining's binary_logloss: 0.498583\ttraining's auc: 0.851913\tvalid_1's binary_logloss: 0.524393\tvalid_1's auc: 0.713086\n",
            "[74]\ttraining's binary_logloss: 0.497403\ttraining's auc: 0.85298\tvalid_1's binary_logloss: 0.520936\tvalid_1's auc: 0.712534\n",
            "[75]\ttraining's binary_logloss: 0.496335\ttraining's auc: 0.854047\tvalid_1's binary_logloss: 0.519717\tvalid_1's auc: 0.712449\n",
            "[76]\ttraining's binary_logloss: 0.495619\ttraining's auc: 0.854715\tvalid_1's binary_logloss: 0.513782\tvalid_1's auc: 0.712756\n",
            "[77]\ttraining's binary_logloss: 0.494901\ttraining's auc: 0.855309\tvalid_1's binary_logloss: 0.512591\tvalid_1's auc: 0.712843\n",
            "[78]\ttraining's binary_logloss: 0.493922\ttraining's auc: 0.856246\tvalid_1's binary_logloss: 0.511644\tvalid_1's auc: 0.712686\n",
            "[79]\ttraining's binary_logloss: 0.493174\ttraining's auc: 0.85703\tvalid_1's binary_logloss: 0.513274\tvalid_1's auc: 0.712966\n",
            "[80]\ttraining's binary_logloss: 0.492563\ttraining's auc: 0.857544\tvalid_1's binary_logloss: 0.513073\tvalid_1's auc: 0.712574\n",
            "[81]\ttraining's binary_logloss: 0.491476\ttraining's auc: 0.858504\tvalid_1's binary_logloss: 0.511846\tvalid_1's auc: 0.712897\n",
            "[82]\ttraining's binary_logloss: 0.490711\ttraining's auc: 0.85915\tvalid_1's binary_logloss: 0.51195\tvalid_1's auc: 0.713203\n",
            "[83]\ttraining's binary_logloss: 0.48952\ttraining's auc: 0.86036\tvalid_1's binary_logloss: 0.511411\tvalid_1's auc: 0.71322\n",
            "[84]\ttraining's binary_logloss: 0.488456\ttraining's auc: 0.86131\tvalid_1's binary_logloss: 0.51086\tvalid_1's auc: 0.71301\n",
            "[85]\ttraining's binary_logloss: 0.487323\ttraining's auc: 0.862231\tvalid_1's binary_logloss: 0.509602\tvalid_1's auc: 0.712815\n",
            "[86]\ttraining's binary_logloss: 0.486466\ttraining's auc: 0.862923\tvalid_1's binary_logloss: 0.508819\tvalid_1's auc: 0.713203\n",
            "[87]\ttraining's binary_logloss: 0.485839\ttraining's auc: 0.863484\tvalid_1's binary_logloss: 0.503998\tvalid_1's auc: 0.709415\n",
            "[88]\ttraining's binary_logloss: 0.484926\ttraining's auc: 0.864224\tvalid_1's binary_logloss: 0.503016\tvalid_1's auc: 0.709487\n",
            "[89]\ttraining's binary_logloss: 0.483743\ttraining's auc: 0.865305\tvalid_1's binary_logloss: 0.501822\tvalid_1's auc: 0.709226\n",
            "[90]\ttraining's binary_logloss: 0.482581\ttraining's auc: 0.866253\tvalid_1's binary_logloss: 0.501276\tvalid_1's auc: 0.709524\n",
            "[91]\ttraining's binary_logloss: 0.482041\ttraining's auc: 0.866723\tvalid_1's binary_logloss: 0.495447\tvalid_1's auc: 0.707739\n",
            "[92]\ttraining's binary_logloss: 0.481086\ttraining's auc: 0.867474\tvalid_1's binary_logloss: 0.494371\tvalid_1's auc: 0.708021\n",
            "[93]\ttraining's binary_logloss: 0.480161\ttraining's auc: 0.86833\tvalid_1's binary_logloss: 0.493754\tvalid_1's auc: 0.70801\n",
            "[94]\ttraining's binary_logloss: 0.479331\ttraining's auc: 0.869031\tvalid_1's binary_logloss: 0.492671\tvalid_1's auc: 0.708212\n",
            "[95]\ttraining's binary_logloss: 0.478354\ttraining's auc: 0.869917\tvalid_1's binary_logloss: 0.490445\tvalid_1's auc: 0.707662\n",
            "[96]\ttraining's binary_logloss: 0.477231\ttraining's auc: 0.870776\tvalid_1's binary_logloss: 0.486691\tvalid_1's auc: 0.706286\n",
            "[97]\ttraining's binary_logloss: 0.476095\ttraining's auc: 0.871824\tvalid_1's binary_logloss: 0.512566\tvalid_1's auc: 0.706233\n",
            "[98]\ttraining's binary_logloss: 0.475297\ttraining's auc: 0.872481\tvalid_1's binary_logloss: 0.512612\tvalid_1's auc: 0.706108\n",
            "[99]\ttraining's binary_logloss: 0.474602\ttraining's auc: 0.87299\tvalid_1's binary_logloss: 0.512153\tvalid_1's auc: 0.706247\n",
            "[100]\ttraining's binary_logloss: 0.473676\ttraining's auc: 0.873779\tvalid_1's binary_logloss: 0.512767\tvalid_1's auc: 0.706109\n"
          ],
          "name": "stdout"
        },
        {
          "output_type": "execute_result",
          "data": {
            "text/plain": [
              "LGBMClassifier(boosting_type='gbdt', class_weight='balanced',\n",
              "               colsample_bytree=1.0, importance_type='split', learning_rate=0.1,\n",
              "               max_depth=-1, min_child_samples=20, min_child_weight=0.001,\n",
              "               min_split_gain=0.0, n_estimators=100, n_jobs=-1, num_leaves=31,\n",
              "               objective=None, random_state=22, reg_alpha=0.0, reg_lambda=0.0,\n",
              "               silent=True, subsample=1.0, subsample_for_bin=200000,\n",
              "               subsample_freq=0)"
            ]
          },
          "metadata": {
            "tags": []
          },
          "execution_count": 62
        }
      ]
    },
    {
      "cell_type": "code",
      "metadata": {
        "id": "ZhBjZXOZnru8"
      },
      "source": [
        "# Predict the probability score\n",
        "prob_train = model_light.predict_proba(X_train_scaled)\n",
        "prob_test = model_light.predict_proba(X_test_scaled)"
      ],
      "execution_count": null,
      "outputs": []
    },
    {
      "cell_type": "markdown",
      "metadata": {
        "id": "Qed08aZCoTuY"
      },
      "source": [
        "**predict_proba() is used to predict the class probabilities**"
      ]
    },
    {
      "cell_type": "code",
      "metadata": {
        "colab": {
          "base_uri": "https://localhost:8080/"
        },
        "id": "XiFUQ4pBn49Q",
        "outputId": "62fd3395-98ec-466b-8dfc-2dcb2ac04e8c"
      },
      "source": [
        "prob_train\n",
        "#depicting probabilities of 0(negetive) & 1(positive) classes respectively"
      ],
      "execution_count": null,
      "outputs": [
        {
          "output_type": "execute_result",
          "data": {
            "text/plain": [
              "array([[0.83279368, 0.16720632],\n",
              "       [0.66726391, 0.33273609],\n",
              "       [0.81609378, 0.18390622],\n",
              "       ...,\n",
              "       [0.62910401, 0.37089599],\n",
              "       [0.71454238, 0.28545762],\n",
              "       [0.84408679, 0.15591321]])"
            ]
          },
          "metadata": {
            "tags": []
          },
          "execution_count": 64
        }
      ]
    },
    {
      "cell_type": "code",
      "metadata": {
        "colab": {
          "base_uri": "https://localhost:8080/",
          "height": 422
        },
        "id": "SjmJQZk1oAD3",
        "outputId": "e2eb954d-4d80-4d2b-a7b8-35db698eb91a"
      },
      "source": [
        "# Create train and test curve\n",
        "fpr_train, tpr_train, thresh_train = roc_curve(y_train, prob_train[:,1])\n",
        "fpr_test, tpr_test, thresh_test = roc_curve(y_test, prob_test[:,1])\n",
        "\n",
        "\"\"\"ROC score is calculated based on the positive probablity class which\n",
        "    is at the index 1 of the prob_train and prob_test respectively\"\"\"\n",
        "\n",
        "# Create the straight line (how the graph looks like if the model does random guess instead)\n",
        "random_probs = [0 for i in range(len(y_test))]\n",
        "p_fpr, p_tpr, _ = roc_curve(y_test, random_probs)\n",
        "\n",
        "# Plot the ROC graph\n",
        "plt.figure(figsize=(8,6))\n",
        "plt.title('ROC Curve')\n",
        "plt.plot(fpr_train, tpr_train, label='Train')\n",
        "plt.plot(fpr_test, tpr_test, label='Test')\n",
        "plt.plot(p_fpr, p_tpr)\n",
        "plt.xlabel('False Positive Rate')\n",
        "plt.ylabel('True Positive Rate')\n",
        "plt.legend()"
      ],
      "execution_count": null,
      "outputs": [
        {
          "output_type": "execute_result",
          "data": {
            "text/plain": [
              "<matplotlib.legend.Legend at 0x7efed7c63f10>"
            ]
          },
          "metadata": {
            "tags": []
          },
          "execution_count": 65
        },
        {
          "output_type": "display_data",
          "data": {
            "image/png": "[encoded data removed]",
            "text/plain": [
              "<Figure size 576x432 with 1 Axes>"
            ]
          },
          "metadata": {
            "tags": [],
            "needs_background": "light"
          }
        }
      ]
    },
    {
      "cell_type": "markdown",
      "metadata": {
        "id": "S9tCCmR8u-nv"
      },
      "source": [
        "The above ROC curve depicting the train & the test score clearly states that the training accuracy(0.873) is higher as compared to test/validation score. This also clearly represents the ROC space for both the train and test data qualifies to be a good classifier."
      ]
    },
    {
      "cell_type": "code",
      "metadata": {
        "colab": {
          "base_uri": "https://localhost:8080/"
        },
        "id": "sk8EZ91LpcH2",
        "outputId": "6f5c93d6-b7c9-468e-af0f-c233ee87ee33"
      },
      "source": [
        "# Calculating the train and test AUC score\n",
        "auc_score_train = roc_auc_score(y_train, prob_train[:,1])\n",
        "auc_score_test = roc_auc_score(y_test, prob_test[:,1])\n",
        "\n",
        "print(auc_score_train)\n",
        "print(auc_score_test)"
      ],
      "execution_count": null,
      "outputs": [
        {
          "output_type": "stream",
          "text": [
            "0.873779389099496\n",
            "0.706108581851445\n"
          ],
          "name": "stdout"
        }
      ]
    },
    {
      "cell_type": "markdown",
      "metadata": {
        "id": "YaVrsY6VshgP"
      },
      "source": [
        "The **lightGBM model** has performed well with AUC scores for both train and test near to the 1 which means it has a good measure of separability."
      ]
    },
    {
      "cell_type": "code",
      "metadata": {
        "id": "waxZjU2_r3CJ"
      },
      "source": [
        "# Predict train and test data\n",
        "pred_train = model_light.predict(X_train_scaled)\n",
        "pred_test = model_light.predict(X_test_scaled)\n",
        "\n",
        "# Constructing the confusion matrix based on train data\n",
        "cm_train = confusion_matrix(y_train, pred_train)"
      ],
      "execution_count": null,
      "outputs": []
    },
    {
      "cell_type": "code",
      "metadata": {
        "colab": {
          "base_uri": "https://localhost:8080/",
          "height": 404
        },
        "id": "H0XvPJQBxHSh",
        "outputId": "c5e18ec1-13c0-4f96-c7df-3a0fe5ca0eb9"
      },
      "source": [
        "# Display the train confusion matrix\n",
        "plt.figure(figsize=(6,6))\n",
        "plt.title('Confusion matrix on train data')\n",
        "sns.heatmap(cm_train, annot=True, fmt='d', cmap=plt.cm.Blues, cbar=False)\n",
        "plt.xlabel('Predicted Label')\n",
        "plt.ylabel('True Label')\n",
        "plt.show()"
      ],
      "execution_count": null,
      "outputs": [
        {
          "output_type": "display_data",
          "data": {
            "image/png": "[encoded data removed]",
            "text/plain": [
              "<Figure size 432x432 with 1 Axes>"
            ]
          },
          "metadata": {
            "tags": [],
            "needs_background": "light"
          }
        }
      ]
    },
    {
      "cell_type": "code",
      "metadata": {
        "colab": {
          "base_uri": "https://localhost:8080/",
          "height": 404
        },
        "id": "PKuIecDHxSg7",
        "outputId": "ebc095af-8f5a-40a0-a043-5c2ff8b9e461"
      },
      "source": [
        "# Constructing the confusion matrix based on test data\n",
        "cm_test = confusion_matrix(y_test, pred_test)\n",
        "\n",
        "# Display the test confusion matrix\n",
        "plt.figure(figsize=(6,6))\n",
        "plt.title('Confusion matrix on test data')\n",
        "sns.heatmap(cm_test, annot=True, fmt='d', cmap=plt.cm.Blues, cbar=False)\n",
        "plt.xlabel('Predicted Label')\n",
        "plt.ylabel('True Label')\n",
        "plt.show()"
      ],
      "execution_count": null,
      "outputs": [
        {
          "output_type": "display_data",
          "data": {
            "image/png": "[encoded data removed]",
            "text/plain": [
              "<Figure size 432x432 with 1 Axes>"
            ]
          },
          "metadata": {
            "tags": [],
            "needs_background": "light"
          }
        }
      ]
    },
    {
      "cell_type": "markdown",
      "metadata": {
        "id": "0-QMPwb6y59p"
      },
      "source": [
        "Looking at the confusion matrix for both train and test data, we can clearly get a clear picture that the model has also performed well in predicting both the classes from the actual class. "
      ]
    },
    {
      "cell_type": "code",
      "metadata": {
        "id": "-MAGz_QQyOzj"
      },
      "source": [
        "#cheking the predictions on the test set which the model haven't seen before!\n",
        "y_pred_light = model_light.predict(X_test_scaled)"
      ],
      "execution_count": null,
      "outputs": []
    },
    {
      "cell_type": "code",
      "metadata": {
        "colab": {
          "base_uri": "https://localhost:8080/"
        },
        "id": "f1ioQDnDzy3i",
        "outputId": "20d0ffe5-d07a-4139-c5da-0f5de600227c"
      },
      "source": [
        "print(\"The accuracy: \", accuracy_score(y_test,y_pred_light))\n",
        "print(\"\\n\")\n",
        "print(\"The classification report:\\n\", classification_report(y_test,y_pred_light))\n",
        "print(\"ROC AUC score: \",roc_auc_score(y_test,y_pred_light))"
      ],
      "execution_count": null,
      "outputs": [
        {
          "output_type": "stream",
          "text": [
            "The accuracy:  0.7502437967277061\n",
            "\n",
            "\n",
            "The classification report:\n",
            "               precision    recall  f1-score   support\n",
            "\n",
            "           0       0.94      0.77      0.85      8402\n",
            "           1       0.18      0.52      0.27       827\n",
            "\n",
            "    accuracy                           0.75      9229\n",
            "   macro avg       0.56      0.65      0.56      9229\n",
            "weighted avg       0.87      0.75      0.80      9229\n",
            "\n",
            "ROC AUC score:  0.6469765072921256\n"
          ],
          "name": "stdout"
        }
      ]
    },
    {
      "cell_type": "markdown",
      "metadata": {
        "id": "g4b_BnJMkry4"
      },
      "source": [
        "The LightGBM model performed well with an accuracy of 75% and also did well on the test data and making predictions on both the classes. "
      ]
    },
    {
      "cell_type": "markdown",
      "metadata": {
        "id": "HmXYfIV517H5"
      },
      "source": [
        "### Using other Baseline Models for evaluation:"
      ]
    },
    {
      "cell_type": "markdown",
      "metadata": {
        "id": "v0Tlyvq82AtH"
      },
      "source": [
        "**Logistic Regression:**"
      ]
    },
    {
      "cell_type": "code",
      "metadata": {
        "id": "-OWVLMDE0ee7"
      },
      "source": [
        "logistic_regressor_clf = LogisticRegression(C = 2)"
      ],
      "execution_count": null,
      "outputs": []
    },
    {
      "cell_type": "code",
      "metadata": {
        "colab": {
          "base_uri": "https://localhost:8080/"
        },
        "id": "Lnc_4FKk10GT",
        "outputId": "88c1ddd9-2922-4ccb-ad47-f3afdf314959"
      },
      "source": [
        "logistic_regressor_clf.fit(X_train_scaled,y_train)"
      ],
      "execution_count": null,
      "outputs": [
        {
          "output_type": "execute_result",
          "data": {
            "text/plain": [
              "LogisticRegression(C=2, class_weight=None, dual=False, fit_intercept=True,\n",
              "                   intercept_scaling=1, l1_ratio=None, max_iter=100,\n",
              "                   multi_class='auto', n_jobs=None, penalty='l2',\n",
              "                   random_state=None, solver='lbfgs', tol=0.0001, verbose=0,\n",
              "                   warm_start=False)"
            ]
          },
          "metadata": {
            "tags": []
          },
          "execution_count": 73
        }
      ]
    },
    {
      "cell_type": "code",
      "metadata": {
        "id": "x7OOeZx52Srn"
      },
      "source": [
        "log_regression_pred = logistic_regressor_clf.predict(X_test_scaled)"
      ],
      "execution_count": null,
      "outputs": []
    },
    {
      "cell_type": "code",
      "metadata": {
        "colab": {
          "base_uri": "https://localhost:8080/"
        },
        "id": "xiDK5D7o2Wip",
        "outputId": "0bd8af34-38ae-4756-d285-12886e5108be"
      },
      "source": [
        "print(\"The accuracy: \", accuracy_score(y_test,log_regression_pred))\n",
        "print(\"\\n\")\n",
        "print(\"The classification report:\\n\", classification_report(y_test,log_regression_pred))\n",
        "print(\"ROC AUC score: \",roc_auc_score(y_test,log_regression_pred))"
      ],
      "execution_count": null,
      "outputs": [
        {
          "output_type": "stream",
          "text": [
            "The accuracy:  0.9101744501029364\n",
            "\n",
            "\n",
            "The classification report:\n",
            "               precision    recall  f1-score   support\n",
            "\n",
            "           0       0.91      1.00      0.95      8402\n",
            "           1       0.44      0.01      0.02       827\n",
            "\n",
            "    accuracy                           0.91      9229\n",
            "   macro avg       0.67      0.50      0.48      9229\n",
            "weighted avg       0.87      0.91      0.87      9229\n",
            "\n",
            "ROC AUC score:  0.5036965776847627\n"
          ],
          "name": "stdout"
        }
      ]
    },
    {
      "cell_type": "markdown",
      "metadata": {
        "id": "ECZcRs1o3Z4p"
      },
      "source": [
        "The accuracy for the **Logistic regression model** ~91% is higher than LightGBM, but on a lighter note the f1-score for class 1 is relatively lesser than class 0 which is around 2%. Also the precision and recall values for the class 1 target label is relatively low as compared to the class 0(not defaulter) label. Hence, the logistic regression model can very well predict the non-defaulter while it fails to predict in a defaulter case. The ROC-AUC score is relatively low."
      ]
    },
    {
      "cell_type": "markdown",
      "metadata": {
        "id": "S2yIHFSc7LEc"
      },
      "source": [
        "**Random Forest:**"
      ]
    },
    {
      "cell_type": "code",
      "metadata": {
        "colab": {
          "base_uri": "https://localhost:8080/"
        },
        "id": "bZRFgmAP4gL5",
        "outputId": "64e588cd-f476-416e-a73e-bbcc86432b62"
      },
      "source": [
        "model_random_forest = RandomForestClassifier(n_estimators = 500, random_state = 50, verbose = 1, n_jobs = -1)\n",
        "model_random_forest.fit(X_train_scaled,y_train)"
      ],
      "execution_count": null,
      "outputs": [
        {
          "output_type": "stream",
          "text": [
            "[Parallel(n_jobs=-1)]: Using backend ThreadingBackend with 2 concurrent workers.\n",
            "[Parallel(n_jobs=-1)]: Done  46 tasks      | elapsed:    2.4s\n",
            "[Parallel(n_jobs=-1)]: Done 196 tasks      | elapsed:   10.1s\n",
            "[Parallel(n_jobs=-1)]: Done 446 tasks      | elapsed:   22.9s\n",
            "[Parallel(n_jobs=-1)]: Done 500 out of 500 | elapsed:   25.7s finished\n"
          ],
          "name": "stderr"
        },
        {
          "output_type": "execute_result",
          "data": {
            "text/plain": [
              "RandomForestClassifier(bootstrap=True, ccp_alpha=0.0, class_weight=None,\n",
              "                       criterion='gini', max_depth=None, max_features='auto',\n",
              "                       max_leaf_nodes=None, max_samples=None,\n",
              "                       min_impurity_decrease=0.0, min_impurity_split=None,\n",
              "                       min_samples_leaf=1, min_samples_split=2,\n",
              "                       min_weight_fraction_leaf=0.0, n_estimators=500,\n",
              "                       n_jobs=-1, oob_score=False, random_state=50, verbose=1,\n",
              "                       warm_start=False)"
            ]
          },
          "metadata": {
            "tags": []
          },
          "execution_count": 76
        }
      ]
    },
    {
      "cell_type": "code",
      "metadata": {
        "colab": {
          "base_uri": "https://localhost:8080/"
        },
        "id": "3X4H_Qje56lF",
        "outputId": "d22b1751-6612-419e-c8c5-22ceabf2ee39"
      },
      "source": [
        "random_forest_pred = model_random_forest.predict(X_test_scaled)"
      ],
      "execution_count": null,
      "outputs": [
        {
          "output_type": "stream",
          "text": [
            "[Parallel(n_jobs=2)]: Using backend ThreadingBackend with 2 concurrent workers.\n",
            "[Parallel(n_jobs=2)]: Done  46 tasks      | elapsed:    0.1s\n",
            "[Parallel(n_jobs=2)]: Done 196 tasks      | elapsed:    0.3s\n",
            "[Parallel(n_jobs=2)]: Done 446 tasks      | elapsed:    0.6s\n",
            "[Parallel(n_jobs=2)]: Done 500 out of 500 | elapsed:    0.7s finished\n"
          ],
          "name": "stderr"
        }
      ]
    },
    {
      "cell_type": "code",
      "metadata": {
        "colab": {
          "base_uri": "https://localhost:8080/"
        },
        "id": "w2JYzry66NG2",
        "outputId": "a1ced023-6dac-4208-df3d-539916a9ef87"
      },
      "source": [
        "print(\"The accuracy: \", accuracy_score(y_test,random_forest_pred))\n",
        "print(\"\\n\")\n",
        "print(\"The classification report:\\n\", classification_report(y_test,random_forest_pred))\n",
        "print(\"ROC AUC score: \",roc_auc_score(y_test,random_forest_pred))"
      ],
      "execution_count": null,
      "outputs": [
        {
          "output_type": "stream",
          "text": [
            "The accuracy:  0.9100660960017337\n",
            "\n",
            "\n",
            "The classification report:\n",
            "               precision    recall  f1-score   support\n",
            "\n",
            "           0       0.91      1.00      0.95      8402\n",
            "           1       0.40      0.01      0.01       827\n",
            "\n",
            "    accuracy                           0.91      9229\n",
            "   macro avg       0.66      0.50      0.48      9229\n",
            "weighted avg       0.87      0.91      0.87      9229\n",
            "\n",
            "ROC AUC score:  0.50309198276336\n"
          ],
          "name": "stdout"
        }
      ]
    },
    {
      "cell_type": "markdown",
      "metadata": {
        "id": "XaJ3nVke_aW5"
      },
      "source": [
        "**XGBOOST:**"
      ]
    },
    {
      "cell_type": "code",
      "metadata": {
        "id": "fEy6oZ6V9ynZ"
      },
      "source": [
        "from xgboost import XGBClassifier"
      ],
      "execution_count": null,
      "outputs": []
    },
    {
      "cell_type": "code",
      "metadata": {
        "id": "KjoGTLxf-8st"
      },
      "source": [
        "xgb_classifier = XGBClassifier(n_estimators=250,max_depth=5)"
      ],
      "execution_count": null,
      "outputs": []
    },
    {
      "cell_type": "code",
      "metadata": {
        "colab": {
          "base_uri": "https://localhost:8080/"
        },
        "id": "RNA8ZOA__M3m",
        "outputId": "3e863b00-fd86-4bc0-badb-d819b0c7e5ed"
      },
      "source": [
        "xgb_classifier.fit(X_train_scaled,y_train)"
      ],
      "execution_count": null,
      "outputs": [
        {
          "output_type": "execute_result",
          "data": {
            "text/plain": [
              "XGBClassifier(base_score=0.5, booster='gbtree', colsample_bylevel=1,\n",
              "              colsample_bynode=1, colsample_bytree=1, gamma=0,\n",
              "              learning_rate=0.1, max_delta_step=0, max_depth=5,\n",
              "              min_child_weight=1, missing=None, n_estimators=250, n_jobs=1,\n",
              "              nthread=None, objective='binary:logistic', random_state=0,\n",
              "              reg_alpha=0, reg_lambda=1, scale_pos_weight=1, seed=None,\n",
              "              silent=None, subsample=1, verbosity=1)"
            ]
          },
          "metadata": {
            "tags": []
          },
          "execution_count": 81
        }
      ]
    },
    {
      "cell_type": "code",
      "metadata": {
        "id": "MThkbJyO_T1a"
      },
      "source": [
        "xgb_pred = xgb_classifier.predict(X_test_scaled)"
      ],
      "execution_count": null,
      "outputs": []
    },
    {
      "cell_type": "code",
      "metadata": {
        "colab": {
          "base_uri": "https://localhost:8080/"
        },
        "id": "3AQ5lZos_iAb",
        "outputId": "8b28a305-39cb-472b-a42f-e100038c3d1f"
      },
      "source": [
        "print(\"The accuracy: \", accuracy_score(y_test,xgb_pred))\n",
        "print(\"\\n\")\n",
        "print(\"The classification report:\\n\", classification_report(y_test,xgb_pred))\n",
        "print(\"ROC AUC score: \",roc_auc_score(y_test,xgb_pred))"
      ],
      "execution_count": null,
      "outputs": [
        {
          "output_type": "stream",
          "text": [
            "The accuracy:  0.9033481417271644\n",
            "\n",
            "\n",
            "The classification report:\n",
            "               precision    recall  f1-score   support\n",
            "\n",
            "           0       0.91      0.99      0.95      8402\n",
            "           1       0.31      0.06      0.11       827\n",
            "\n",
            "    accuracy                           0.90      9229\n",
            "   macro avg       0.61      0.53      0.53      9229\n",
            "weighted avg       0.86      0.90      0.87      9229\n",
            "\n",
            "ROC AUC score:  0.525021393248052\n"
          ],
          "name": "stdout"
        }
      ]
    },
    {
      "cell_type": "markdown",
      "metadata": {
        "id": "Aqf7wpXq5fFL"
      },
      "source": [
        "Both the accuracy which is around 90% and the AUC score is fair enough for also making XGBOOST a good model. "
      ]
    },
    {
      "cell_type": "markdown",
      "metadata": {
        "id": "g5aHD5zh_HvE"
      },
      "source": [
        "### **Let's try some sampling techniques for handling imbalance and then applying baseline models on top of it and checking the performance**"
      ]
    },
    {
      "cell_type": "code",
      "metadata": {
        "colab": {
          "base_uri": "https://localhost:8080/",
          "height": 280
        },
        "id": "Ht-feTxL-PrO",
        "outputId": "955133f2-962f-46fd-9a96-49b107accc36"
      },
      "source": [
        "df1_new['TARGET'].value_counts().plot(kind='bar')"
      ],
      "execution_count": null,
      "outputs": [
        {
          "output_type": "execute_result",
          "data": {
            "text/plain": [
              "<matplotlib.axes._subplots.AxesSubplot at 0x7efed3ad7b50>"
            ]
          },
          "metadata": {
            "tags": []
          },
          "execution_count": 84
        },
        {
          "output_type": "display_data",
          "data": {
            "image/png": "[encoded data removed]",
            "text/plain": [
              "<Figure size 432x288 with 1 Axes>"
            ]
          },
          "metadata": {
            "tags": [],
            "needs_background": "light"
          }
        }
      ]
    },
    {
      "cell_type": "markdown",
      "metadata": {
        "id": "tzjPfULcAUdp"
      },
      "source": [
        "As it is clearly visualized from the bar graph above, that the dataset is imbalanced with majority class as 0(not defaulter) and minority as 1(defaulter~ not able to pay back the loan)"
      ]
    },
    {
      "cell_type": "markdown",
      "metadata": {
        "id": "uaUNsGuYAqpp"
      },
      "source": [
        "Let's apply **SMOTE**(Synthetic Minority Oversampling Technique) <br>\n",
        "\n",
        "This technique generates synthetic data for the minority class.\n",
        "\n",
        "SMOTE (Synthetic Minority Oversampling Technique) works by randomly picking a point from the minority class and computing the k-nearest neighbors for this point. The synthetic points are added between the chosen point and its neighbors."
      ]
    },
    {
      "cell_type": "code",
      "metadata": {
        "colab": {
          "base_uri": "https://localhost:8080/"
        },
        "id": "RGy_tJv2BDca",
        "outputId": "bfb07907-3914-4887-8acd-99773edd651b"
      },
      "source": [
        "from imblearn.over_sampling import SMOTE\n",
        "\n",
        "smote = SMOTE()\n",
        "\n",
        "x_smote, y_smote = smote.fit_resample(X_train,y_train)\n",
        "print('Original dataset shape', len(df1_new))\n",
        "print('Resampled dataset shape', len(y_smote))"
      ],
      "execution_count": null,
      "outputs": [
        {
          "output_type": "stream",
          "text": [
            "/usr/local/lib/python3.7/dist-packages/sklearn/externals/six.py:31: FutureWarning: The module is deprecated in version 0.21 and will be removed in version 0.23 since we've dropped support for Python 2.7. Please rely on the official version of six (https://pypi.org/project/six/).\n",
            "  \"(https://pypi.org/project/six/).\", FutureWarning)\n",
            "/usr/local/lib/python3.7/dist-packages/sklearn/utils/deprecation.py:144: FutureWarning: The sklearn.neighbors.base module is  deprecated in version 0.22 and will be removed in version 0.24. The corresponding classes / functions should instead be imported from sklearn.neighbors. Anything that cannot be imported from sklearn.neighbors is now part of the private API.\n",
            "  warnings.warn(message, FutureWarning)\n",
            "/usr/local/lib/python3.7/dist-packages/sklearn/utils/deprecation.py:87: FutureWarning: Function safe_indexing is deprecated; safe_indexing is deprecated in version 0.22 and will be removed in version 0.24.\n",
            "  warnings.warn(msg, category=FutureWarning)\n"
          ],
          "name": "stderr"
        },
        {
          "output_type": "stream",
          "text": [
            "Original dataset shape 46144\n",
            "Resampled dataset shape 67298\n"
          ],
          "name": "stdout"
        }
      ]
    },
    {
      "cell_type": "code",
      "metadata": {
        "colab": {
          "base_uri": "https://localhost:8080/"
        },
        "id": "3ozRu8LcBiHW",
        "outputId": "2fcceddc-27ae-436d-dadc-2c2a8c64f20d"
      },
      "source": [
        "print(\"Label 1, After using SMOTE: {}\".format(sum(y_smote==1)))\n",
        "print(\"Label 0, After using SMOTE: {}\".format(sum(y_smote==0)))"
      ],
      "execution_count": null,
      "outputs": [
        {
          "output_type": "stream",
          "text": [
            "Label 1, After using SMOTE: 33649\n",
            "Label 0, After using SMOTE: 33649\n"
          ],
          "name": "stdout"
        }
      ]
    },
    {
      "cell_type": "markdown",
      "metadata": {
        "id": "OvlkyECOB1me"
      },
      "source": [
        "**Implementing SMOTE with other models and checking the best model:**"
      ]
    },
    {
      "cell_type": "markdown",
      "metadata": {
        "id": "95Qchqw4B7Tb"
      },
      "source": [
        "### Logistic Regression + SMOTE:"
      ]
    },
    {
      "cell_type": "code",
      "metadata": {
        "colab": {
          "base_uri": "https://localhost:8080/"
        },
        "id": "qvIWnGYYBuz3",
        "outputId": "896f65ea-c794-4bf2-8900-69bbe5c5df61"
      },
      "source": [
        "clf_lr = LogisticRegression()\n",
        "clf_lr.fit(x_smote,y_smote)\n",
        "y_pred_lr = clf_lr.predict(X_test)\n",
        "\n",
        "acc_lr = accuracy_score(y_test, y_pred_lr)\n",
        "conf_lr = confusion_matrix(y_test, y_pred_lr)\n",
        "clf_report_lr = classification_report(y_test, y_pred_lr)\n",
        "\n",
        "print(f\"Accuracy Score of Logistic Regression : {acc_lr}\")\n",
        "print(f\"Confusion Matrix : \\n{conf_lr}\")\n",
        "print(f\"Classification Report : \\n{clf_report_lr}\")"
      ],
      "execution_count": null,
      "outputs": [
        {
          "output_type": "stream",
          "text": [
            "Accuracy Score of Logistic Regression : 0.6066746126340882\n",
            "Confusion Matrix : \n",
            "[[5221 3181]\n",
            " [ 449  378]]\n",
            "Classification Report : \n",
            "              precision    recall  f1-score   support\n",
            "\n",
            "           0       0.92      0.62      0.74      8402\n",
            "           1       0.11      0.46      0.17       827\n",
            "\n",
            "    accuracy                           0.61      9229\n",
            "   macro avg       0.51      0.54      0.46      9229\n",
            "weighted avg       0.85      0.61      0.69      9229\n",
            "\n"
          ],
          "name": "stdout"
        }
      ]
    },
    {
      "cell_type": "code",
      "metadata": {
        "colab": {
          "base_uri": "https://localhost:8080/"
        },
        "id": "3_vFu95UCJlj",
        "outputId": "2be69f41-f8da-4a26-9050-42144aa5bcf1"
      },
      "source": [
        "auc_score=roc_auc_score(y_test, y_pred_lr)\n",
        "print('AUC =' ,auc_score)"
      ],
      "execution_count": null,
      "outputs": [
        {
          "output_type": "stream",
          "text": [
            "AUC = 0.539236713663212\n"
          ],
          "name": "stdout"
        }
      ]
    },
    {
      "cell_type": "markdown",
      "metadata": {
        "id": "5Zl3dvw2CQSz"
      },
      "source": [
        "The logistic Regression model with SMOTE didn't do well as compared to the simple baseline logistic regression model. Let's try other models with SMOTE techniques and check the evaluation metrics."
      ]
    },
    {
      "cell_type": "markdown",
      "metadata": {
        "id": "u3SQyy_6CnCU"
      },
      "source": [
        "### Random forest+SMOTE:"
      ]
    },
    {
      "cell_type": "code",
      "metadata": {
        "colab": {
          "base_uri": "https://localhost:8080/"
        },
        "id": "k_0eyzlXCj__",
        "outputId": "b3d7caf6-59aa-4883-c604-476d795d26be"
      },
      "source": [
        "random_clf = RandomForestClassifier()\n",
        "random_clf.fit(x_smote, y_smote)\n",
        "y_pred_random_clf = random_clf.predict(X_test)\n",
        "\n",
        "acc_rd_clf = accuracy_score(y_test, y_pred_random_clf)\n",
        "conf = confusion_matrix(y_test, y_pred_random_clf)\n",
        "clf_report = classification_report(y_test, y_pred_random_clf)\n",
        "\n",
        "print(f\"Accuracy Score of Random Forest is : {acc_rd_clf}\")\n",
        "print(f\"Confusion Matrix : \\n{conf}\")\n",
        "print(f\"Classification Report : \\n{clf_report}\")"
      ],
      "execution_count": null,
      "outputs": [
        {
          "output_type": "stream",
          "text": [
            "Accuracy Score of Random Forest is : 0.90833243038249\n",
            "Confusion Matrix : \n",
            "[[8366   36]\n",
            " [ 810   17]]\n",
            "Classification Report : \n",
            "              precision    recall  f1-score   support\n",
            "\n",
            "           0       0.91      1.00      0.95      8402\n",
            "           1       0.32      0.02      0.04       827\n",
            "\n",
            "    accuracy                           0.91      9229\n",
            "   macro avg       0.62      0.51      0.50      9229\n",
            "weighted avg       0.86      0.91      0.87      9229\n",
            "\n"
          ],
          "name": "stdout"
        }
      ]
    },
    {
      "cell_type": "code",
      "metadata": {
        "colab": {
          "base_uri": "https://localhost:8080/"
        },
        "id": "KU_rfJ3CDnxg",
        "outputId": "9a85776d-2438-430c-f502-8e1f3ca2d491"
      },
      "source": [
        "auc_score=roc_auc_score(y_test, y_pred_random_clf)\n",
        "print('AUC =' ,auc_score)"
      ],
      "execution_count": null,
      "outputs": [
        {
          "output_type": "stream",
          "text": [
            "AUC = 0.5081357666036215\n"
          ],
          "name": "stdout"
        }
      ]
    },
    {
      "cell_type": "markdown",
      "metadata": {
        "id": "rs7IARPHDRnZ"
      },
      "source": [
        "The Random Forest model with SMOTE, is having slighly less accuracy as the baseline RF model with an accuracy of 91%."
      ]
    },
    {
      "cell_type": "markdown",
      "metadata": {
        "id": "QumSpqVzD6MP"
      },
      "source": [
        "### XG Boost + SMOTE:"
      ]
    },
    {
      "cell_type": "code",
      "metadata": {
        "colab": {
          "base_uri": "https://localhost:8080/"
        },
        "id": "qe2ehCeYDRIP",
        "outputId": "96d8c791-584e-4e66-a165-1e42bae3539c"
      },
      "source": [
        "xgb_model = XGBClassifier()\n",
        "xgb_model.fit(x_smote, y_smote)\n",
        "\n",
        "# predict\n",
        "xgb_y_predict = xgb_model.predict(X_test)\n",
        "\n",
        "print('ROCAUC score:', roc_auc_score(y_test, xgb_y_predict))\n",
        "print('Accuracy score:', accuracy_score(y_test, xgb_y_predict))"
      ],
      "execution_count": null,
      "outputs": [
        {
          "output_type": "stream",
          "text": [
            "ROCAUC score: 0.5024873878419573\n",
            "Accuracy score: 0.9099577419005309\n"
          ],
          "name": "stdout"
        }
      ]
    },
    {
      "cell_type": "markdown",
      "metadata": {
        "id": "m9ZpWcCwEW7H"
      },
      "source": [
        "Similaryly for XGBOOST model with SMOTE, the model replied with almost same accuracy as the baseline XGBOOST model but the later had larger ROC-AUC score."
      ]
    },
    {
      "cell_type": "code",
      "metadata": {
        "colab": {
          "base_uri": "https://localhost:8080/"
        },
        "id": "jiSvNxseEyEY",
        "outputId": "3c3b1fed-4796-425f-c7d9-a0d4ad59f26d"
      },
      "source": [
        "acc_xgb = accuracy_score(y_test, xgb_y_predict)\n",
        "conf_xgb = confusion_matrix(y_test, xgb_y_predict)\n",
        "clf_report_xgb = classification_report(y_test, xgb_y_predict)\n",
        "\n",
        "print(f\"Accuracy Score of XGBOOST +SMOTE is : {acc_xgb}\")\n",
        "print(f\"Confusion Matrix : \\n{conf_xgb}\")\n",
        "print(f\"Classification Report : \\n{clf_report_xgb}\")"
      ],
      "execution_count": null,
      "outputs": [
        {
          "output_type": "stream",
          "text": [
            "Accuracy Score of XGBOOST +SMOTE is : 0.9099577419005309\n",
            "Confusion Matrix : \n",
            "[[8393    9]\n",
            " [ 822    5]]\n",
            "Classification Report : \n",
            "              precision    recall  f1-score   support\n",
            "\n",
            "           0       0.91      1.00      0.95      8402\n",
            "           1       0.36      0.01      0.01       827\n",
            "\n",
            "    accuracy                           0.91      9229\n",
            "   macro avg       0.63      0.50      0.48      9229\n",
            "weighted avg       0.86      0.91      0.87      9229\n",
            "\n"
          ],
          "name": "stdout"
        }
      ]
    },
    {
      "cell_type": "code",
      "metadata": {
        "colab": {
          "base_uri": "https://localhost:8080/"
        },
        "id": "f8CxNmBwFAOd",
        "outputId": "74e1a0bf-d4b9-4de6-924b-dd3d5d85a7cc"
      },
      "source": [
        "#auc score:\n",
        "auc_score=roc_auc_score(y_test, xgb_y_predict)\n",
        "print('AUC =' ,auc_score)"
      ],
      "execution_count": null,
      "outputs": [
        {
          "output_type": "stream",
          "text": [
            "AUC = 0.5024873878419573\n"
          ],
          "name": "stdout"
        }
      ]
    },
    {
      "cell_type": "markdown",
      "metadata": {
        "id": "k4pmMFvcFZj4"
      },
      "source": [
        "### AdaBoost + SMOTE"
      ]
    },
    {
      "cell_type": "code",
      "metadata": {
        "colab": {
          "base_uri": "https://localhost:8080/"
        },
        "id": "k2-SX1MjFLUx",
        "outputId": "da7b47b3-6c40-4f4f-b9cb-d52641f9907f"
      },
      "source": [
        "from sklearn.ensemble import AdaBoostClassifier\n",
        "ada_model = AdaBoostClassifier()\n",
        "ada_model.fit(x_smote,y_smote)\n",
        "y_pred_ab= ada_model.predict(X_test)\n",
        "\n",
        "acc_ab = accuracy_score(y_test, y_pred_ab)\n",
        "conf_ab = confusion_matrix(y_test, y_pred_ab)\n",
        "clf_report_ab = classification_report(y_test, y_pred_ab)\n",
        "\n",
        "print(f\"Accuracy Score of Adaboost classifier is : {acc_ab}\")\n",
        "print(f\"Confusion Matrix : \\n{conf_ab}\")\n",
        "print(f\"Classification Report : \\n{clf_report_ab}\")"
      ],
      "execution_count": null,
      "outputs": [
        {
          "output_type": "stream",
          "text": [
            "Accuracy Score of Adaboost classifier is : 0.8982554989706361\n",
            "Confusion Matrix : \n",
            "[[8241  161]\n",
            " [ 778   49]]\n",
            "Classification Report : \n",
            "              precision    recall  f1-score   support\n",
            "\n",
            "           0       0.91      0.98      0.95      8402\n",
            "           1       0.23      0.06      0.09       827\n",
            "\n",
            "    accuracy                           0.90      9229\n",
            "   macro avg       0.57      0.52      0.52      9229\n",
            "weighted avg       0.85      0.90      0.87      9229\n",
            "\n"
          ],
          "name": "stdout"
        }
      ]
    },
    {
      "cell_type": "code",
      "metadata": {
        "colab": {
          "base_uri": "https://localhost:8080/"
        },
        "id": "7EUfiwDOFhZQ",
        "outputId": "4036ac50-449c-467b-9022-8a0b55f27068"
      },
      "source": [
        "#auc score:\n",
        "auc_score=roc_auc_score(y_test, y_pred_ab)\n",
        "print('AUC =' ,auc_score)"
      ],
      "execution_count": null,
      "outputs": [
        {
          "output_type": "stream",
          "text": [
            "AUC = 0.5200440990182852\n"
          ],
          "name": "stdout"
        }
      ]
    },
    {
      "cell_type": "markdown",
      "metadata": {
        "id": "Tx_-tGZFFnUY"
      },
      "source": [
        "Adaboost with SMOTE can also behave as a good model(not that great) although having lesser accuracy of 89% than other baseline models with an AUC score of 51%.  "
      ]
    },
    {
      "cell_type": "markdown",
      "metadata": {
        "id": "odwYuJsD-Ls4"
      },
      "source": [
        "## **Conclusions:**"
      ]
    },
    {
      "cell_type": "markdown",
      "metadata": {
        "id": "Ajwe5pAp7opE"
      },
      "source": [
        "Due to the time limit, it is not possible to conduct a thorough study and have a deep understanding of the dataset. There are still many features in the dataset that are unused and a lot of the information has not been fully digested with knowledge in the banking industry.\n",
        "\n",
        "We've used baseline models like Logistic Regression & Random forest with an accuracy of 91% and ROC-AUC score as 50%. From the above models, **LightGBM has performed very well** on this imbalanced dataset with an accuracy of around 75% which is a bit low than the above baseline model but qualifies to be a good model having good train & test accuracy scores. While the ROC-AUC score on LightGBM model is close to 64% with a better ROC curve for train and test data.\n",
        "\n",
        "Also, we used sampling techniques like SMOTE which is based on the concept of KNN and have applied with different classification based models such as Logistic Regression, Random Forest, Adaboost, XGBoost, but has almost the same performance as the simple baseline models without sampling applied. There are many things to be done on this like using feature imputing methods like KNN imputer to handle missing values, instead we used the mean of the features used for training containing the missing values. \n",
        "\n",
        "We could have also done other feature scaling techniques and can also apply PCA to reduce number of variables in the data by extracting the important ones from a large pool. It will reduce the dimension of the data with an aim to retain as much information as possible. Apart from that, we could have also tried building a stacked model then combine all the test results into a multidimensional array to feed into the stacked model. Finally, we can make predictions from the stacked model.\n",
        "\n",
        "In the bank loan behaviour prediction, for example, banks want to control the loss to a acceptable level, so they may use a relatively low threshold. This means more customers will be grouped as “potential bad customers” and their profiles will be checked carefully later by the credit risk management team. In this way, banks can detect the default behaviours in the earlier stage and conduct the corresponding actions to reduce the possible loss."
      ]
    },
    {
      "cell_type": "code",
      "metadata": {
        "id": "ISFMEkb7Jsqy"
      },
      "source": [
        "#This notebook is contributed by Sudip Roy"
      ],
      "execution_count": null,
      "outputs": []
    },
    {
      "cell_type": "code",
      "metadata": {
        "id": "fbEzVZWMK_c1"
      },
      "source": [
        ""
      ],
      "execution_count": null,
      "outputs": []
    }
  ]
}
